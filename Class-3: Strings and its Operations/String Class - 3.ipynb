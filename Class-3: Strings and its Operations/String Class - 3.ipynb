{
 "cells": [
  {
   "cell_type": "markdown",
   "id": "064826e8",
   "metadata": {},
   "source": [
    "# Markdown\n",
    "Markdown is a language like HTML. **Markdown Cheatsheet**\n",
    "https://www.markdownguide.org/cheat-sheet/\n",
    "\n",
    "# Pre-defined function  \n",
    "\n",
    "\"function_name ()\"\n",
    "()...> it represent the function\n",
    "-print()\n",
    "-len()\n",
    "-dir()\n",
    "-type()\n",
    "\n",
    "# Data Type\n",
    "\n",
    "- integer int \n",
    "- float \n",
    "- string \"Pakistan\"\n",
    "\n",
    "\n",
    "    "
   ]
  },
  {
   "cell_type": "code",
   "execution_count": 1,
   "id": "13319055",
   "metadata": {},
   "outputs": [
    {
     "name": "stdout",
     "output_type": "stream",
     "text": [
      "Pakistan\n"
     ]
    }
   ],
   "source": [
    "print (\"Pakistan\")    #press shift + tab in paranthesis for help \n",
    "            # In Colab cntrl + spacebar"
   ]
  },
  {
   "cell_type": "markdown",
   "id": "cf67e6d5",
   "metadata": {},
   "source": [
    "String can be written in multiple ways as follows,\n",
    "\n",
    "1. \"Pakistan\"\n",
    "2. 'Pakistan'\n",
    "3. '''Pakistan'''\n",
    "4. \"\"\"Palistan\"\"\""
   ]
  },
  {
   "cell_type": "code",
   "execution_count": 2,
   "id": "266ce746",
   "metadata": {},
   "outputs": [
    {
     "name": "stdout",
     "output_type": "stream",
     "text": [
      "Pakistan\n"
     ]
    }
   ],
   "source": [
    "print('''Pakistan''')"
   ]
  },
  {
   "cell_type": "markdown",
   "id": "9ce27054",
   "metadata": {},
   "source": [
    "Interger or number reqire no quotation marks for printing"
   ]
  },
  {
   "cell_type": "code",
   "execution_count": 3,
   "id": "ffc66724",
   "metadata": {},
   "outputs": [
    {
     "name": "stdout",
     "output_type": "stream",
     "text": [
      "2\n"
     ]
    }
   ],
   "source": [
    "print (2)"
   ]
  },
  {
   "cell_type": "code",
   "execution_count": 4,
   "id": "51b103a9",
   "metadata": {},
   "outputs": [
    {
     "name": "stdout",
     "output_type": "stream",
     "text": [
      "7\n"
     ]
    }
   ],
   "source": [
    "print (7)"
   ]
  },
  {
   "cell_type": "code",
   "execution_count": 5,
   "id": "152942f1",
   "metadata": {},
   "outputs": [
    {
     "name": "stdout",
     "output_type": "stream",
     "text": [
      "China Pakistan 29 40\n"
     ]
    }
   ],
   "source": [
    "print (\"China\", \"Pakistan\", 29, 40) # Multiple values can be printed"
   ]
  },
  {
   "cell_type": "markdown",
   "id": "b5e3146f",
   "metadata": {},
   "source": [
    "# Variable\n",
    "\n",
    "- Things that change. We use that attributes as variable that changes like name, father_name etc.\n",
    "- Operators necessary for correct program\n",
    "\n",
    "variable_name = variable_value\n",
    "\n",
    "- variable name will be defined directly without any quote and will be called in program directly without any quote.\n",
    "- the beenfit of variable is that it will be automatically change in entire program by changing its value at defining stage. \n",
    "- print (variable name)"
   ]
  },
  {
   "cell_type": "code",
   "execution_count": 6,
   "id": "bf9b6c3b",
   "metadata": {},
   "outputs": [
    {
     "name": "stdout",
     "output_type": "stream",
     "text": [
      "200\n",
      "pakistan\n",
      "200\n",
      "values\n"
     ]
    }
   ],
   "source": [
    "a = 200\n",
    "print(a)\n",
    "print (\"pakistan\")\n",
    "print (a)\n",
    "print (\"values\")"
   ]
  },
  {
   "cell_type": "markdown",
   "id": "249fc8b5",
   "metadata": {},
   "source": [
    "# Card System"
   ]
  },
  {
   "cell_type": "code",
   "execution_count": 9,
   "id": "f36dc448",
   "metadata": {},
   "outputs": [
    {
     "name": "stdout",
     "output_type": "stream",
     "text": [
      "Ned Student Card\n",
      "Name:  Shahzad Hashmi\n",
      "Father Name M.Azam Hashmi\n",
      "Weight:  83\n"
     ]
    }
   ],
   "source": [
    "Name = \"Shahzad Hashmi\"\n",
    "Father_name = \"M.Azam Hashmi\"\n",
    "Weight = 83 \n",
    "\n",
    "print (\"Ned Student Card\")\n",
    "print (\"Name: \", Name)\n",
    "print (\"Father Name\", Father_name)\n",
    "print (\"Weight: \", Weight)"
   ]
  },
  {
   "cell_type": "markdown",
   "id": "7bda0cf7",
   "metadata": {},
   "source": [
    "# Print in a Single Line\n",
    "\n",
    "- It is possible to print everything in using singleline. \n",
    "- It is necessary to put ***semicolon (;)*** after each particular print statement"
   ]
  },
  {
   "cell_type": "code",
   "execution_count": 10,
   "id": "ede43725",
   "metadata": {},
   "outputs": [
    {
     "name": "stdout",
     "output_type": "stream",
     "text": [
      "Ned Student Card\n",
      "Name:  Shahzad Hashmi\n",
      "Father Name M.Azam Hashmi\n",
      "Weight:  83\n"
     ]
    }
   ],
   "source": [
    "print (\"Ned Student Card\"); print (\"Name: \", Name); print (\"Father Name\", Father_name); print (\"Weight: \", Weight)"
   ]
  },
  {
   "cell_type": "code",
   "execution_count": 11,
   "id": "4f8038b9",
   "metadata": {},
   "outputs": [
    {
     "name": "stdout",
     "output_type": "stream",
     "text": [
      "200 pakistan 200 values\n"
     ]
    }
   ],
   "source": [
    "a = 200\n",
    "print(a, \"pakistan\", a, \"values\") # Drawback of this is that it has poor readability\n",
    "                                  # Defult seperator is ' ' (Space). Using shit + tab this can be viewed\n",
    "                                  # To make it readable \"Seperator\" will be changed"
   ]
  },
  {
   "cell_type": "markdown",
   "id": "f90f22ed",
   "metadata": {},
   "source": [
    "# Seperator\n",
    "\n",
    "- Purpose of separator (sep = ' ') is to manage the seperation of each argument's outcome"
   ]
  },
  {
   "cell_type": "code",
   "execution_count": 12,
   "id": "be65b862",
   "metadata": {},
   "outputs": [
    {
     "name": "stdout",
     "output_type": "stream",
     "text": [
      "200\n",
      "pakistan\n",
      "200\n",
      "values\n"
     ]
    }
   ],
   "source": [
    "a = 200\n",
    "print(a, \"pakistan\", a, \"values\", sep = '\\n')"
   ]
  },
  {
   "cell_type": "code",
   "execution_count": 13,
   "id": "df60e18c",
   "metadata": {},
   "outputs": [
    {
     "name": "stdout",
     "output_type": "stream",
     "text": [
      "200***pakistan***200***values\n"
     ]
    }
   ],
   "source": [
    "a = 200\n",
    "print(a, \"pakistan\", a, \"values\", sep = '***')"
   ]
  },
  {
   "cell_type": "code",
   "execution_count": 21,
   "id": "8c63e65e",
   "metadata": {},
   "outputs": [
    {
     "name": "stdout",
     "output_type": "stream",
     "text": [
      "200*** \n",
      "pakistan*** \n",
      "200*** \n",
      "values\n"
     ]
    }
   ],
   "source": [
    "a = 200\n",
    "print(a, \"pakistan\", a, \"values\", sep = '*** \\n')"
   ]
  },
  {
   "cell_type": "markdown",
   "id": "cf687784",
   "metadata": {},
   "source": [
    "# Actions with print\n",
    "\n",
    "- type ..... shows the data type\n",
    "- id   ..... shows the memory location where variable is stored by the machine"
   ]
  },
  {
   "cell_type": "code",
   "execution_count": 23,
   "id": "36c72543",
   "metadata": {},
   "outputs": [
    {
     "name": "stdout",
     "output_type": "stream",
     "text": [
      "Name:  Shahzad Hashmi\n",
      "<class 'str'>\n",
      "139839981254896\n"
     ]
    }
   ],
   "source": [
    "Name = \"Shahzad Hashmi\"\n",
    "Father_name = \"M.Azam Hashmi\"\n",
    "Weight = 83 \n",
    "\n",
    "#print (\"Ned Student Card\")\n",
    "print (\"Name: \", Name)\n",
    "print (type (Name))\n",
    "print (id (Name))\n",
    "#print (\"Father Name\", Father_name)\n",
    "#print (\"Weight: \", Weight)"
   ]
  },
  {
   "cell_type": "code",
   "execution_count": 24,
   "id": "94fde36f",
   "metadata": {},
   "outputs": [
    {
     "name": "stdout",
     "output_type": "stream",
     "text": [
      "Weight:  83\n",
      "<class 'int'>\n",
      "139840064160688\n"
     ]
    }
   ],
   "source": [
    "Name = \"Shahzad Hashmi\"\n",
    "Father_name = \"M.Azam Hashmi\"\n",
    "Weight = 83 \n",
    "\n",
    "#print (\"Ned Student Card\")\n",
    "print (\"Weight: \", Weight)\n",
    "print (type (Weight))\n",
    "print (id (Weight))\n",
    "#print (\"Father Name\", Father_name)\n",
    "#print (\"Weight: \", Weight)"
   ]
  },
  {
   "cell_type": "code",
   "execution_count": 25,
   "id": "452b2793",
   "metadata": {},
   "outputs": [
    {
     "name": "stdout",
     "output_type": "stream",
     "text": [
      "200\n",
      "<class 'bool'>\n",
      "94831271721984\n"
     ]
    }
   ],
   "source": [
    "b = True \n",
    "\n",
    "#print (\"Ned Student Card\")\n",
    "print (a)\n",
    "print (type (b))\n",
    "print (id (b))\n",
    "#print (\"Father Name\", Father_name)\n",
    "#print (\"Weight: \", Weight)"
   ]
  },
  {
   "cell_type": "markdown",
   "id": "b68bbbb7",
   "metadata": {},
   "source": [
    "# String Data Type with Variable and Text Formation\n",
    "\n",
    "- problem with single quote...... 'Father's_Name' -----> it will read the the string only till Father and will consider the string close before s. \n",
    "## 1 \n",
    "1. The solution is to use the double quote for string representation to avoid such apostrphy cases."
   ]
  },
  {
   "cell_type": "code",
   "execution_count": 28,
   "id": "27c07370",
   "metadata": {},
   "outputs": [
    {
     "name": "stdout",
     "output_type": "stream",
     "text": [
      "Pakistan Zindabad\n",
      "Pakistan Zindabad\n"
     ]
    }
   ],
   "source": [
    "c = \"Pakistan Zindabad\"  # Double quote\n",
    "d = 'Pakistan Zindabad'  # Single quote\n",
    "print (c, d, sep = '\\n')"
   ]
  },
  {
   "cell_type": "markdown",
   "id": "770b038b",
   "metadata": {},
   "source": [
    "## 2 \n",
    "Another solution is to put \"\\\" (Back Slash) before the special character. It will convert the special character to the normal one"
   ]
  },
  {
   "cell_type": "code",
   "execution_count": 33,
   "id": "f0c5389f",
   "metadata": {},
   "outputs": [
    {
     "name": "stdout",
     "output_type": "stream",
     "text": [
      "Pakistan 's Identity\n"
     ]
    }
   ],
   "source": [
    "f = 'Pakistan \\'s Identity'   # Special character converted to the normal character\n",
    "print (f)"
   ]
  },
  {
   "cell_type": "markdown",
   "id": "db40dfea",
   "metadata": {},
   "source": [
    "# Tripple Quote (\"\"\"   ______  \"\"\")\n",
    "\n",
    "- Multiple line String "
   ]
  },
  {
   "cell_type": "code",
   "execution_count": 30,
   "id": "6e821907",
   "metadata": {},
   "outputs": [
    {
     "name": "stdout",
     "output_type": "stream",
     "text": [
      "Pakistan is a underdeveloped\n",
      "country that have been blessed with number of \n",
      "resources!\n",
      "<class 'str'>\n"
     ]
    }
   ],
   "source": [
    "e = \"\"\"Pakistan is a underdeveloped\n",
    "country that have been blessed with number of \n",
    "resources!\"\"\"\n",
    "\n",
    "print (e)\n",
    "print (type (e))"
   ]
  },
  {
   "cell_type": "markdown",
   "id": "0c0f0a34",
   "metadata": {},
   "source": [
    "# ID Card "
   ]
  },
  {
   "cell_type": "markdown",
   "id": "11913887",
   "metadata": {},
   "source": [
    "## 1 "
   ]
  },
  {
   "cell_type": "code",
   "execution_count": 36,
   "id": "27be4ebb",
   "metadata": {},
   "outputs": [
    {
     "name": "stdout",
     "output_type": "stream",
     "text": [
      " Name\n",
      " Father_name \n",
      " Class\n",
      "\n"
     ]
    }
   ],
   "source": [
    "id_card = \" Name\\n Father_name \\n Class\\n\"    # Readability issues\n",
    "\n",
    "print (id_card)"
   ]
  },
  {
   "cell_type": "markdown",
   "id": "36641715",
   "metadata": {},
   "source": [
    "## 2"
   ]
  },
  {
   "cell_type": "code",
   "execution_count": 41,
   "id": "ceac1563",
   "metadata": {},
   "outputs": [
    {
     "name": "stdout",
     "output_type": "stream",
     "text": [
      "Name = \"Shahzad Hashmi\n",
      "Father_name = \"M.Azam Hashmi\"\n",
      "Weight = 83 \n"
     ]
    }
   ],
   "source": [
    "id_card = \"\"\"Name = \"Shahzad Hashmi\n",
    "Father_name = \"M.Azam Hashmi\"\n",
    "Weight = 83 \"\"\"\n",
    "\n",
    "print (id_card)"
   ]
  },
  {
   "cell_type": "code",
   "execution_count": 44,
   "id": "b84c1ff2",
   "metadata": {},
   "outputs": [
    {
     "name": "stdout",
     "output_type": "stream",
     "text": [
      "Name = Shahzad Hashmi\n",
      "Father_name = \"M.Azam Hashmi\n",
      "Weight = 83 \n"
     ]
    }
   ],
   "source": [
    "id_card = '''Name = Shahzad Hashmi\n",
    "Father_name = \"M.Azam Hashmi\n",
    "Weight = 83 '''\n",
    "\n",
    "print (id_card)"
   ]
  },
  {
   "cell_type": "markdown",
   "id": "79a4740e",
   "metadata": {},
   "source": [
    "# Concatination"
   ]
  },
  {
   "cell_type": "code",
   "execution_count": 47,
   "id": "0a694e75",
   "metadata": {},
   "outputs": [
    {
     "name": "stdout",
     "output_type": "stream",
     "text": [
      "Shahzad HashmiM.Azam Hashmi\n"
     ]
    }
   ],
   "source": [
    "f_name = \"Shahzad Hashmi\"\n",
    "l_name = \"M.Azam Hashmi\"\n",
    "Weight = 83 \n",
    "\n",
    "id_card = f_name + l_name\n",
    "\n",
    "print (id_card)                    # No spacing between first and second name"
   ]
  },
  {
   "cell_type": "code",
   "execution_count": 48,
   "id": "97474a74",
   "metadata": {},
   "outputs": [
    {
     "name": "stdout",
     "output_type": "stream",
     "text": [
      "Shahzad Hashmi M.Azam Hashmi\n"
     ]
    }
   ],
   "source": [
    "f_name = \"Shahzad Hashmi\"\n",
    "l_name = \"M.Azam Hashmi\"\n",
    "Weight = 83 \n",
    "\n",
    "id_card = f_name + \" \"+ l_name      # Providing space between two words\n",
    "\n",
    "print (id_card)                    # No spacing between first and second name"
   ]
  },
  {
   "cell_type": "markdown",
   "id": "b7d6fd42",
   "metadata": {},
   "source": [
    "# String and Integer can be joined through type casting"
   ]
  },
  {
   "cell_type": "code",
   "execution_count": 49,
   "id": "ddfe7c74",
   "metadata": {},
   "outputs": [
    {
     "ename": "TypeError",
     "evalue": "can only concatenate str (not \"int\") to str",
     "output_type": "error",
     "traceback": [
      "\u001b[0;31m---------------------------------------------------------------------------\u001b[0m",
      "\u001b[0;31mTypeError\u001b[0m                                 Traceback (most recent call last)",
      "\u001b[0;32m/tmp/ipykernel_6060/3948572673.py\u001b[0m in \u001b[0;36m<module>\u001b[0;34m\u001b[0m\n\u001b[1;32m      3\u001b[0m \u001b[0mWeight\u001b[0m \u001b[0;34m=\u001b[0m \u001b[0;36m83\u001b[0m\u001b[0;34m\u001b[0m\u001b[0;34m\u001b[0m\u001b[0m\n\u001b[1;32m      4\u001b[0m \u001b[0;34m\u001b[0m\u001b[0m\n\u001b[0;32m----> 5\u001b[0;31m \u001b[0mid_card\u001b[0m \u001b[0;34m=\u001b[0m \u001b[0mf_name\u001b[0m \u001b[0;34m+\u001b[0m \u001b[0;34m\" \"\u001b[0m\u001b[0;34m+\u001b[0m \u001b[0mWeight\u001b[0m      \u001b[0;31m# Providing space between two words\u001b[0m\u001b[0;34m\u001b[0m\u001b[0;34m\u001b[0m\u001b[0m\n\u001b[0m\u001b[1;32m      6\u001b[0m \u001b[0;34m\u001b[0m\u001b[0m\n\u001b[1;32m      7\u001b[0m \u001b[0mprint\u001b[0m \u001b[0;34m(\u001b[0m\u001b[0mid_card\u001b[0m\u001b[0;34m)\u001b[0m                    \u001b[0;31m# No spacing between first and second name\u001b[0m\u001b[0;34m\u001b[0m\u001b[0;34m\u001b[0m\u001b[0m\n",
      "\u001b[0;31mTypeError\u001b[0m: can only concatenate str (not \"int\") to str"
     ]
    }
   ],
   "source": [
    "_name = \"Shahzad Hashmi\"\n",
    "l_name = \"M.Azam Hashmi\"\n",
    "Weight = 83 \n",
    "\n",
    "id_card = f_name + \" \"+ Weight      # str + int\n",
    "\n",
    "print (id_card)                    # Error"
   ]
  },
  {
   "cell_type": "markdown",
   "id": "e2bc5cd1",
   "metadata": {},
   "source": [
    "## Type Casting on Integer\n",
    "\n",
    "- Through type casting the integer is converted to string for concatination to be used in program"
   ]
  },
  {
   "cell_type": "code",
   "execution_count": 57,
   "id": "96c385d5",
   "metadata": {},
   "outputs": [
    {
     "name": "stdout",
     "output_type": "stream",
     "text": [
      "Shahzad Hashmi , 83\n"
     ]
    }
   ],
   "source": [
    "f_name = \"Shahzad Hashmi\"\n",
    "l_name = \"M.Azam Hashmi\"\n",
    "Weight = 83 \n",
    "\n",
    "id_card = f_name + \" , \" + str (Weight)      # str + str (int)------> Type Casting ===> No. to String \n",
    "                                             # ',' between to make it more readable\n",
    "\n",
    "print (id_card)                    # Error"
   ]
  },
  {
   "cell_type": "code",
   "execution_count": 68,
   "id": "f7e500b7",
   "metadata": {},
   "outputs": [
    {
     "name": "stdout",
     "output_type": "stream",
     "text": [
      "NED University \n",
      " Student Name:  Shahzad Hashmi \n",
      " Father Name:  M.Azam Hashmi\n",
      " Weight:  83\n"
     ]
    }
   ],
   "source": [
    "f_name = \"Shahzad Hashmi\"\n",
    "l_name = \"M.Azam Hashmi\"\n",
    "Weight = 83 \n",
    "id_card = \"NED University \\n Student Name:  \" +f_name+ \" \\n Father Name:  \"  +l_name+ \"\\n Weight: \" \" \" + str (Weight) \n",
    "print (id_card)\n"
   ]
  },
  {
   "cell_type": "code",
   "execution_count": null,
   "id": "d68518da",
   "metadata": {},
   "outputs": [],
   "source": []
  }
 ],
 "metadata": {
  "kernelspec": {
   "display_name": "Python 3 (ipykernel)",
   "language": "python",
   "name": "python3"
  },
  "language_info": {
   "codemirror_mode": {
    "name": "ipython",
    "version": 3
   },
   "file_extension": ".py",
   "mimetype": "text/x-python",
   "name": "python",
   "nbconvert_exporter": "python",
   "pygments_lexer": "ipython3",
   "version": "3.9.7"
  }
 },
 "nbformat": 4,
 "nbformat_minor": 5
}
