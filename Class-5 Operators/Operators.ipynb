{
 "cells": [
  {
   "cell_type": "markdown",
   "id": "4576b6bf",
   "metadata": {},
   "source": [
    "# Operators Types in Python \n",
    "* Arithmetic operators.\n",
    "* Assignment operators.\n",
    "* Comparison operators.\n",
    "* Logical operators.\n",
    "* Identity operators.\n",
    "* Membership operators.\n",
    "* Bitwise operators."
   ]
  },
  {
   "cell_type": "markdown",
   "id": "7160be4c",
   "metadata": {},
   "source": [
    "# Arithmetic Operators"
   ]
  },
  {
   "cell_type": "code",
   "execution_count": 1,
   "id": "72c99767",
   "metadata": {},
   "outputs": [
    {
     "data": {
      "text/plain": [
       "10"
      ]
     },
     "execution_count": 1,
     "metadata": {},
     "output_type": "execute_result"
    }
   ],
   "source": [
    "5 + 2\n",
    "3 + 7"
   ]
  },
  {
   "cell_type": "markdown",
   "id": "46f4bdb9",
   "metadata": {},
   "source": [
    "## If we write anything without \"print\" python will return only the last line as mentioned in previous block in which only the result of 3 + 7 has been returned\n",
    "\n",
    "## To view all the results in block we use \"print\""
   ]
  },
  {
   "cell_type": "code",
   "execution_count": 2,
   "id": "686943b7",
   "metadata": {},
   "outputs": [
    {
     "name": "stdout",
     "output_type": "stream",
     "text": [
      "7\n",
      "10\n"
     ]
    }
   ],
   "source": [
    "print (5 + 2)\n",
    "print (3 + 7)"
   ]
  },
  {
   "cell_type": "code",
   "execution_count": 3,
   "id": "82d08fe1",
   "metadata": {},
   "outputs": [
    {
     "data": {
      "text/plain": [
       "17"
      ]
     },
     "execution_count": 3,
     "metadata": {},
     "output_type": "execute_result"
    }
   ],
   "source": [
    "7 + 3 + 2 + 5"
   ]
  },
  {
   "cell_type": "markdown",
   "id": "3f0c6ee5",
   "metadata": {},
   "source": [
    "(7 + 3) + 2 + 5\n",
    "10 + 2 + 5\n",
    "(10 + 2) + 5\n",
    "12 + 5\n",
    "17\n",
    "\n",
    "* The addition will be performed in 3 step in this case"
   ]
  },
  {
   "cell_type": "code",
   "execution_count": 4,
   "id": "c0e4f677",
   "metadata": {},
   "outputs": [
    {
     "data": {
      "text/plain": [
       "5"
      ]
     },
     "execution_count": 4,
     "metadata": {},
     "output_type": "execute_result"
    }
   ],
   "source": [
    "8 - 3"
   ]
  },
  {
   "cell_type": "markdown",
   "id": "9a0a447e",
   "metadata": {},
   "source": [
    "#### + With String Data Type"
   ]
  },
  {
   "cell_type": "code",
   "execution_count": 6,
   "id": "49290139",
   "metadata": {},
   "outputs": [
    {
     "data": {
      "text/plain": [
       "'Shahzad Hashmi'"
      ]
     },
     "execution_count": 6,
     "metadata": {},
     "output_type": "execute_result"
    }
   ],
   "source": [
    "\"Shahzad \" + \"Hashmi\""
   ]
  },
  {
   "cell_type": "code",
   "execution_count": 7,
   "id": "e45a50bd",
   "metadata": {},
   "outputs": [
    {
     "ename": "TypeError",
     "evalue": "can only concatenate str (not \"int\") to str",
     "output_type": "error",
     "traceback": [
      "\u001b[1;31m---------------------------------------------------------------------------\u001b[0m",
      "\u001b[1;31mTypeError\u001b[0m                                 Traceback (most recent call last)",
      "\u001b[1;32m~\\AppData\\Local\\Temp/ipykernel_8392/1092246262.py\u001b[0m in \u001b[0;36m<module>\u001b[1;34m\u001b[0m\n\u001b[1;32m----> 1\u001b[1;33m \u001b[1;34m\"1\"\u001b[0m \u001b[1;33m+\u001b[0m \u001b[1;36m2\u001b[0m\u001b[1;33m\u001b[0m\u001b[1;33m\u001b[0m\u001b[0m\n\u001b[0m",
      "\u001b[1;31mTypeError\u001b[0m: can only concatenate str (not \"int\") to str"
     ]
    }
   ],
   "source": [
    "\"1\" + 2"
   ]
  },
  {
   "cell_type": "code",
   "execution_count": 8,
   "id": "8878935d",
   "metadata": {},
   "outputs": [
    {
     "ename": "TypeError",
     "evalue": "unsupported operand type(s) for +: 'int' and 'str'",
     "output_type": "error",
     "traceback": [
      "\u001b[1;31m---------------------------------------------------------------------------\u001b[0m",
      "\u001b[1;31mTypeError\u001b[0m                                 Traceback (most recent call last)",
      "\u001b[1;32m~\\AppData\\Local\\Temp/ipykernel_8392/54392328.py\u001b[0m in \u001b[0;36m<module>\u001b[1;34m\u001b[0m\n\u001b[1;32m----> 1\u001b[1;33m \u001b[1;36m1\u001b[0m \u001b[1;33m+\u001b[0m \u001b[1;34m\"2\"\u001b[0m\u001b[1;33m\u001b[0m\u001b[1;33m\u001b[0m\u001b[0m\n\u001b[0m",
      "\u001b[1;31mTypeError\u001b[0m: unsupported operand type(s) for +: 'int' and 'str'"
     ]
    }
   ],
   "source": [
    "1 + \"2\""
   ]
  },
  {
   "cell_type": "markdown",
   "id": "33d2c3a3",
   "metadata": {},
   "source": [
    "## Solution of Above Error is \"Type Casting\"\n",
    "\n",
    "* Convert from string to integer ------> int (\"string\")\n",
    "* Convert from integer to string ------> str (int)"
   ]
  },
  {
   "cell_type": "code",
   "execution_count": 9,
   "id": "8bb2e60e",
   "metadata": {},
   "outputs": [
    {
     "data": {
      "text/plain": [
       "'12'"
      ]
     },
     "execution_count": 9,
     "metadata": {},
     "output_type": "execute_result"
    }
   ],
   "source": [
    "# \"1\" + 2\n",
    "\n",
    "\"1\" + str (2)"
   ]
  },
  {
   "cell_type": "code",
   "execution_count": 10,
   "id": "a261b358",
   "metadata": {},
   "outputs": [
    {
     "data": {
      "text/plain": [
       "3"
      ]
     },
     "execution_count": 10,
     "metadata": {},
     "output_type": "execute_result"
    }
   ],
   "source": [
    "# \"1\" + 2\n",
    "\n",
    "int (\"1\") + 2"
   ]
  },
  {
   "cell_type": "markdown",
   "id": "025446c2",
   "metadata": {},
   "source": [
    "## + With List"
   ]
  },
  {
   "cell_type": "code",
   "execution_count": 11,
   "id": "fe33fc4e",
   "metadata": {},
   "outputs": [
    {
     "data": {
      "text/plain": [
       "['q', 's', 't', 'm', 'k', 'j']"
      ]
     },
     "execution_count": 11,
     "metadata": {},
     "output_type": "execute_result"
    }
   ],
   "source": [
    "l1 = ['q', 's', 't']\n",
    "l2 = ['m','k', 'j']\n",
    "\n",
    "l1 + l2 "
   ]
  },
  {
   "cell_type": "markdown",
   "id": "3a87cc7f",
   "metadata": {},
   "source": [
    "# Asterik Sign\n",
    "\n",
    "* Operates with Numbers\n",
    "* Operates with Number and String"
   ]
  },
  {
   "cell_type": "code",
   "execution_count": 12,
   "id": "3eec66d8",
   "metadata": {},
   "outputs": [
    {
     "data": {
      "text/plain": [
       "6"
      ]
     },
     "execution_count": 12,
     "metadata": {},
     "output_type": "execute_result"
    }
   ],
   "source": [
    "2 * 3 # Multiplication in Numbers"
   ]
  },
  {
   "cell_type": "code",
   "execution_count": 14,
   "id": "db1152f7",
   "metadata": {},
   "outputs": [
    {
     "data": {
      "text/plain": [
       "'Shahzad Shahzad '"
      ]
     },
     "execution_count": 14,
     "metadata": {},
     "output_type": "execute_result"
    }
   ],
   "source": [
    "\"Shahzad \" * 2 # Repetation in String"
   ]
  },
  {
   "cell_type": "code",
   "execution_count": 20,
   "id": "8d925ebe",
   "metadata": {},
   "outputs": [
    {
     "data": {
      "text/plain": [
       "'Shahzad Shahzad '"
      ]
     },
     "execution_count": 20,
     "metadata": {},
     "output_type": "execute_result"
    }
   ],
   "source": [
    "2 * \"Shahzad \"  # Repetation in String"
   ]
  },
  {
   "cell_type": "code",
   "execution_count": 15,
   "id": "280fc557",
   "metadata": {},
   "outputs": [
    {
     "data": {
      "text/plain": [
       "['z', 'z', 'z', 'z', 'z', 'z']"
      ]
     },
     "execution_count": 15,
     "metadata": {},
     "output_type": "execute_result"
    }
   ],
   "source": [
    "['z'] * 6 # Repetation in List elements"
   ]
  },
  {
   "cell_type": "code",
   "execution_count": 16,
   "id": "09d35aba",
   "metadata": {},
   "outputs": [
    {
     "data": {
      "text/plain": [
       "['z', 't', 'z', 't', 'z', 't', 'z', 't', 'z', 't', 'z', 't']"
      ]
     },
     "execution_count": 16,
     "metadata": {},
     "output_type": "execute_result"
    }
   ],
   "source": [
    "['z', 't'] * 6 # Repetation in List elements"
   ]
  },
  {
   "cell_type": "code",
   "execution_count": 18,
   "id": "bab345fc",
   "metadata": {},
   "outputs": [
    {
     "data": {
      "text/plain": [
       "'a a a '"
      ]
     },
     "execution_count": 18,
     "metadata": {},
     "output_type": "execute_result"
    }
   ],
   "source": [
    "(\"a \") * 3 # Repetation in Tuple elements"
   ]
  },
  {
   "cell_type": "code",
   "execution_count": 19,
   "id": "8594f2cb",
   "metadata": {},
   "outputs": [
    {
     "data": {
      "text/plain": [
       "('a', 'c', 'a', 'c', 'a', 'c')"
      ]
     },
     "execution_count": 19,
     "metadata": {},
     "output_type": "execute_result"
    }
   ],
   "source": [
    "(\"a\", \"c\") * 3 # Repetation in Tuple elements"
   ]
  },
  {
   "cell_type": "code",
   "execution_count": 21,
   "id": "ccbca24e",
   "metadata": {},
   "outputs": [
    {
     "name": "stdout",
     "output_type": "stream",
     "text": [
      " Pakistan \n",
      "Army \n",
      " \n",
      " is \n",
      " \n",
      " Best\n",
      "\n",
      "\n",
      " Pakistan \n",
      "Army \n",
      " \n",
      " is \n",
      " \n",
      " Best\n",
      "\n",
      "\n",
      " Pakistan \n",
      "Army \n",
      " \n",
      " is \n",
      " \n",
      " Best\n",
      "\n",
      "\n",
      "\n"
     ]
    }
   ],
   "source": [
    "a = \"\"\" Pakistan \n",
    "Army \n",
    " \n",
    " is \n",
    " \n",
    " Best\n",
    "\n",
    "\n",
    "\"\"\" * 3\n",
    "\n",
    "\n",
    "print (a)"
   ]
  },
  {
   "cell_type": "markdown",
   "id": "2a1d747c",
   "metadata": {},
   "source": [
    "# ' / ' Divide"
   ]
  },
  {
   "cell_type": "code",
   "execution_count": 24,
   "id": "e8aa7d71",
   "metadata": {},
   "outputs": [
    {
     "name": "stdout",
     "output_type": "stream",
     "text": [
      "9.0\n",
      "7.666666666666667\n"
     ]
    }
   ],
   "source": [
    "a = 27 / 3    # Answer in Float\n",
    "b = 23 /3 \n",
    "\n",
    "print (a)\n",
    "print (b)"
   ]
  },
  {
   "cell_type": "markdown",
   "id": "29d78b6f",
   "metadata": {},
   "source": [
    "## To take the answer in integer use '//' instead of '/'\n",
    "\n",
    "* It will not round off\n",
    "* Just returns the integer value"
   ]
  },
  {
   "cell_type": "code",
   "execution_count": 25,
   "id": "774028eb",
   "metadata": {},
   "outputs": [
    {
     "name": "stdout",
     "output_type": "stream",
     "text": [
      "9\n",
      "7\n"
     ]
    }
   ],
   "source": [
    "c = 27 // 3\n",
    "d = 23 // 3\n",
    "\n",
    "print (c)\n",
    "print (d)"
   ]
  },
  {
   "cell_type": "markdown",
   "id": "b3611b28",
   "metadata": {},
   "source": [
    "# '%' Modulus"
   ]
  },
  {
   "cell_type": "code",
   "execution_count": 26,
   "id": "11a5a613",
   "metadata": {},
   "outputs": [
    {
     "data": {
      "text/plain": [
       "2"
      ]
     },
     "execution_count": 26,
     "metadata": {},
     "output_type": "execute_result"
    }
   ],
   "source": [
    "11 % 3"
   ]
  },
  {
   "cell_type": "markdown",
   "id": "729c6364",
   "metadata": {},
   "source": [
    "# '**' Exponentiation "
   ]
  },
  {
   "cell_type": "code",
   "execution_count": 27,
   "id": "159f070c",
   "metadata": {},
   "outputs": [
    {
     "data": {
      "text/plain": [
       "4"
      ]
     },
     "execution_count": 27,
     "metadata": {},
     "output_type": "execute_result"
    }
   ],
   "source": [
    "2 ** 2"
   ]
  },
  {
   "cell_type": "code",
   "execution_count": 28,
   "id": "ed953811",
   "metadata": {},
   "outputs": [
    {
     "data": {
      "text/plain": [
       "9"
      ]
     },
     "execution_count": 28,
     "metadata": {},
     "output_type": "execute_result"
    }
   ],
   "source": [
    "3 ** 2"
   ]
  },
  {
   "cell_type": "code",
   "execution_count": 29,
   "id": "60b2346c",
   "metadata": {},
   "outputs": [
    {
     "data": {
      "text/plain": [
       "27"
      ]
     },
     "execution_count": 29,
     "metadata": {},
     "output_type": "execute_result"
    }
   ],
   "source": [
    "3 ** 3"
   ]
  },
  {
   "cell_type": "markdown",
   "id": "701a9c34",
   "metadata": {},
   "source": [
    "# Assignment Operators"
   ]
  },
  {
   "cell_type": "markdown",
   "id": "f85ff7c4",
   "metadata": {},
   "source": [
    "## Assign Operator '='"
   ]
  },
  {
   "cell_type": "code",
   "execution_count": 30,
   "id": "538a9e1f",
   "metadata": {},
   "outputs": [
    {
     "name": "stdout",
     "output_type": "stream",
     "text": [
      "6\n",
      "6\n",
      "6\n"
     ]
    }
   ],
   "source": [
    "a = 6        # If change here will change all placeholder of variable\n",
    "print (a)\n",
    "print (a)\n",
    "print (a)"
   ]
  },
  {
   "cell_type": "code",
   "execution_count": 31,
   "id": "72789bbc",
   "metadata": {},
   "outputs": [
    {
     "name": "stdout",
     "output_type": "stream",
     "text": [
      "9\n"
     ]
    }
   ],
   "source": [
    "a = 6\n",
    "a = 7\n",
    "a = 9\n",
    "\n",
    "print (a)"
   ]
  },
  {
   "cell_type": "code",
   "execution_count": 39,
   "id": "3a08d019",
   "metadata": {},
   "outputs": [
    {
     "name": "stdout",
     "output_type": "stream",
     "text": [
      "12\n"
     ]
    }
   ],
   "source": [
    "a = 10\n",
    "\n",
    "\n",
    "a = a + 2\n",
    "print (a)\n"
   ]
  },
  {
   "cell_type": "code",
   "execution_count": 40,
   "id": "c5bcf2fa",
   "metadata": {},
   "outputs": [
    {
     "name": "stdout",
     "output_type": "stream",
     "text": [
      "12\n"
     ]
    }
   ],
   "source": [
    "a = 10\n",
    "\n",
    "\n",
    "a += 2\n",
    "print (a)"
   ]
  },
  {
   "cell_type": "markdown",
   "id": "dfdcf874",
   "metadata": {},
   "source": [
    "## It is possible to use these short forms\n",
    "\n",
    "* +=\n",
    "* -=\n",
    "* *=\n",
    "* /=\n",
    "* //=\n",
    "* %= "
   ]
  },
  {
   "cell_type": "markdown",
   "id": "25a6f250",
   "metadata": {},
   "source": [
    "# Ordinary Operators\n",
    "\n",
    "* Use in Binary"
   ]
  },
  {
   "cell_type": "markdown",
   "id": "069efdcd",
   "metadata": {},
   "source": [
    "# Python Comparison Operator \n",
    "\n",
    "* Answer will be returned in \"True\" and \"False\""
   ]
  },
  {
   "cell_type": "code",
   "execution_count": 41,
   "id": "e6524168",
   "metadata": {},
   "outputs": [
    {
     "data": {
      "text/plain": [
       "True"
      ]
     },
     "execution_count": 41,
     "metadata": {},
     "output_type": "execute_result"
    }
   ],
   "source": [
    "2 == 2"
   ]
  },
  {
   "cell_type": "code",
   "execution_count": 42,
   "id": "ef0299a9",
   "metadata": {},
   "outputs": [
    {
     "data": {
      "text/plain": [
       "False"
      ]
     },
     "execution_count": 42,
     "metadata": {},
     "output_type": "execute_result"
    }
   ],
   "source": [
    "2 == 5"
   ]
  },
  {
   "cell_type": "code",
   "execution_count": 43,
   "id": "2379d891",
   "metadata": {},
   "outputs": [
    {
     "data": {
      "text/plain": [
       "False"
      ]
     },
     "execution_count": 43,
     "metadata": {},
     "output_type": "execute_result"
    }
   ],
   "source": [
    "2 == \"2\""
   ]
  },
  {
   "cell_type": "code",
   "execution_count": 44,
   "id": "18aeecba",
   "metadata": {},
   "outputs": [
    {
     "data": {
      "text/plain": [
       "False"
      ]
     },
     "execution_count": 44,
     "metadata": {},
     "output_type": "execute_result"
    }
   ],
   "source": [
    "2 > 7"
   ]
  },
  {
   "cell_type": "code",
   "execution_count": 45,
   "id": "9c1851b1",
   "metadata": {},
   "outputs": [
    {
     "data": {
      "text/plain": [
       "True"
      ]
     },
     "execution_count": 45,
     "metadata": {},
     "output_type": "execute_result"
    }
   ],
   "source": [
    "2 < 7"
   ]
  },
  {
   "cell_type": "code",
   "execution_count": 46,
   "id": "99681221",
   "metadata": {},
   "outputs": [
    {
     "data": {
      "text/plain": [
       "False"
      ]
     },
     "execution_count": 46,
     "metadata": {},
     "output_type": "execute_result"
    }
   ],
   "source": [
    "5 > 5"
   ]
  },
  {
   "cell_type": "code",
   "execution_count": 47,
   "id": "b7e6da43",
   "metadata": {},
   "outputs": [
    {
     "data": {
      "text/plain": [
       "True"
      ]
     },
     "execution_count": 47,
     "metadata": {},
     "output_type": "execute_result"
    }
   ],
   "source": [
    "5 >= 5"
   ]
  },
  {
   "cell_type": "code",
   "execution_count": 48,
   "id": "0fef444f",
   "metadata": {},
   "outputs": [
    {
     "data": {
      "text/plain": [
       "False"
      ]
     },
     "execution_count": 48,
     "metadata": {},
     "output_type": "execute_result"
    }
   ],
   "source": [
    "2 != 2  # Left 2 not equal to Right 2"
   ]
  },
  {
   "cell_type": "code",
   "execution_count": 49,
   "id": "848a5d58",
   "metadata": {},
   "outputs": [
    {
     "data": {
      "text/plain": [
       "True"
      ]
     },
     "execution_count": 49,
     "metadata": {},
     "output_type": "execute_result"
    }
   ],
   "source": [
    "5 <= 5"
   ]
  },
  {
   "cell_type": "markdown",
   "id": "6593d42f",
   "metadata": {},
   "source": [
    "# Logical Operator\n",
    "\n",
    "* And ----> Necessarily\n",
    "* Or -----> Optional\n",
    "* And will return \"True\" if all values are True\n",
    "* Or will return \"True\" if only one value is True"
   ]
  },
  {
   "cell_type": "markdown",
   "id": "d58ef866",
   "metadata": {},
   "source": [
    "## And"
   ]
  },
  {
   "cell_type": "code",
   "execution_count": 50,
   "id": "2bab0a49",
   "metadata": {},
   "outputs": [
    {
     "data": {
      "text/plain": [
       "True"
      ]
     },
     "execution_count": 50,
     "metadata": {},
     "output_type": "execute_result"
    }
   ],
   "source": [
    "True and True and True"
   ]
  },
  {
   "cell_type": "code",
   "execution_count": 51,
   "id": "9f09de9c",
   "metadata": {},
   "outputs": [
    {
     "data": {
      "text/plain": [
       "False"
      ]
     },
     "execution_count": 51,
     "metadata": {},
     "output_type": "execute_result"
    }
   ],
   "source": [
    "True and False and True"
   ]
  },
  {
   "cell_type": "code",
   "execution_count": 53,
   "id": "c797e2ca",
   "metadata": {},
   "outputs": [
    {
     "name": "stdout",
     "output_type": "stream",
     "text": [
      "Please Enter User NameShahzad\n",
      "Please Enter Your Password123\n",
      "\n",
      "Shahzad\n",
      "\n",
      "123\n"
     ]
    }
   ],
   "source": [
    "user = input (\"Please Enter User Name\")    # Take input from the user in runtime\n",
    "password = input (\"Please Enter Your Password\")\n",
    "\n",
    "print ()\n",
    "print (user)\n",
    "print()\n",
    "print (password)"
   ]
  },
  {
   "cell_type": "code",
   "execution_count": 57,
   "id": "c3be5aef",
   "metadata": {},
   "outputs": [
    {
     "name": "stdout",
     "output_type": "stream",
     "text": [
      "Please Enter User Name  admin\n",
      "Please Enter Your Password  admin12\n"
     ]
    },
    {
     "data": {
      "text/plain": [
       "True"
      ]
     },
     "execution_count": 57,
     "metadata": {},
     "output_type": "execute_result"
    }
   ],
   "source": [
    "user = input (\"Please Enter User Name  \")    # Take input from the user in runtime\n",
    "password = input (\"Please Enter Your Password  \")\n",
    "\n",
    "user == \"admin\" and password == \"admin12\""
   ]
  },
  {
   "cell_type": "markdown",
   "id": "95e7a235",
   "metadata": {},
   "source": [
    "## OR"
   ]
  },
  {
   "cell_type": "code",
   "execution_count": 58,
   "id": "80b57e53",
   "metadata": {},
   "outputs": [
    {
     "data": {
      "text/plain": [
       "True"
      ]
     },
     "execution_count": 58,
     "metadata": {},
     "output_type": "execute_result"
    }
   ],
   "source": [
    "True or False"
   ]
  },
  {
   "cell_type": "code",
   "execution_count": 59,
   "id": "3f04b54c",
   "metadata": {},
   "outputs": [
    {
     "data": {
      "text/plain": [
       "False"
      ]
     },
     "execution_count": 59,
     "metadata": {},
     "output_type": "execute_result"
    }
   ],
   "source": [
    "False or False"
   ]
  },
  {
   "cell_type": "markdown",
   "id": "1db38e89",
   "metadata": {},
   "source": [
    "## Not\n",
    "\n",
    "* It will check and return true if one thing is not equal to the other"
   ]
  },
  {
   "cell_type": "code",
   "execution_count": 61,
   "id": "4666fbdb",
   "metadata": {},
   "outputs": [
    {
     "data": {
      "text/plain": [
       "True"
      ]
     },
     "execution_count": 61,
     "metadata": {},
     "output_type": "execute_result"
    }
   ],
   "source": [
    "a = \"Shah\"\n",
    "not a == \"Azam\""
   ]
  },
  {
   "cell_type": "code",
   "execution_count": 62,
   "id": "e917662b",
   "metadata": {},
   "outputs": [
    {
     "data": {
      "text/plain": [
       "False"
      ]
     },
     "execution_count": 62,
     "metadata": {},
     "output_type": "execute_result"
    }
   ],
   "source": [
    "a = \"Shah\"\n",
    "not a == \"Shah\""
   ]
  },
  {
   "cell_type": "markdown",
   "id": "91a35896",
   "metadata": {},
   "source": [
    "# Identity Operator"
   ]
  },
  {
   "cell_type": "code",
   "execution_count": 63,
   "id": "61c54949",
   "metadata": {},
   "outputs": [
    {
     "name": "stdout",
     "output_type": "stream",
     "text": [
      "2153801345488\n",
      "2153801345488\n"
     ]
    }
   ],
   "source": [
    "a = 6\n",
    "b = 6\n",
    "\n",
    "print (id (a))\n",
    "print (id (b))"
   ]
  },
  {
   "cell_type": "code",
   "execution_count": 64,
   "id": "62526ef5",
   "metadata": {},
   "outputs": [
    {
     "data": {
      "text/plain": [
       "True"
      ]
     },
     "execution_count": 64,
     "metadata": {},
     "output_type": "execute_result"
    }
   ],
   "source": [
    "a == b # Compare the values in a and b"
   ]
  },
  {
   "cell_type": "code",
   "execution_count": 66,
   "id": "3ad5b379",
   "metadata": {},
   "outputs": [
    {
     "data": {
      "text/plain": [
       "True"
      ]
     },
     "execution_count": 66,
     "metadata": {},
     "output_type": "execute_result"
    }
   ],
   "source": [
    "a is b # Compare either the object a and b are same or not"
   ]
  },
  {
   "cell_type": "code",
   "execution_count": 68,
   "id": "ec58e813",
   "metadata": {},
   "outputs": [
    {
     "data": {
      "text/plain": [
       "False"
      ]
     },
     "execution_count": 68,
     "metadata": {},
     "output_type": "execute_result"
    }
   ],
   "source": [
    "a is not b"
   ]
  },
  {
   "cell_type": "markdown",
   "id": "9eb2c79a",
   "metadata": {},
   "source": [
    "# Membership Operator\n",
    "\n",
    "* in\n",
    "* not in"
   ]
  },
  {
   "cell_type": "code",
   "execution_count": 69,
   "id": "86bcdb23",
   "metadata": {},
   "outputs": [
    {
     "name": "stdout",
     "output_type": "stream",
     "text": [
      " Women make up nearly half of our country’s population. All serious research done in any part of the world shows that women are the driving force of positive change, progress, and prosperity at the household, community, and country levels.\n",
      "\n",
      "This is the case for decisions about investments in children’s education and health, savings for the family, performance at work, and more. But have we learnt anything from such compelling evidence?\n",
      "\n",
      "Let us compare our current position and historical course over time with Bangladesh — once part of us and our natural equivalent — to understand how we fare on the women empowerment front.\n",
      "\n",
      "It is now widely recognised that Bangladesh’s export-led economic growth owes largely to the labour of its women — their skills, need-based grit to support their families, and confidence that they too can compete globally.\n",
      "\n",
      "Could they do it without the support of their men at home, in the community, and those at the helm of their country’s affairs? Perhaps not. But could Bangladesh have achieved economic success without its women? Absolutely not.\n"
     ]
    }
   ],
   "source": [
    "a = \"\"\" Women make up nearly half of our country’s population. All serious research done in any part of the world shows that women are the driving force of positive change, progress, and prosperity at the household, community, and country levels.\n",
    "\n",
    "This is the case for decisions about investments in children’s education and health, savings for the family, performance at work, and more. But have we learnt anything from such compelling evidence?\n",
    "\n",
    "Let us compare our current position and historical course over time with Bangladesh — once part of us and our natural equivalent — to understand how we fare on the women empowerment front.\n",
    "\n",
    "It is now widely recognised that Bangladesh’s export-led economic growth owes largely to the labour of its women — their skills, need-based grit to support their families, and confidence that they too can compete globally.\n",
    "\n",
    "Could they do it without the support of their men at home, in the community, and those at the helm of their country’s affairs? Perhaps not. But could Bangladesh have achieved economic success without its women? Absolutely not.\"\"\"\n",
    "\n",
    "print (a)"
   ]
  },
  {
   "cell_type": "code",
   "execution_count": 70,
   "id": "5918dd5d",
   "metadata": {},
   "outputs": [
    {
     "data": {
      "text/plain": [
       "True"
      ]
     },
     "execution_count": 70,
     "metadata": {},
     "output_type": "execute_result"
    }
   ],
   "source": [
    "\"export\" in a   # Contain Search"
   ]
  },
  {
   "cell_type": "code",
   "execution_count": 71,
   "id": "ea64bea9",
   "metadata": {},
   "outputs": [
    {
     "data": {
      "text/plain": [
       "False"
      ]
     },
     "execution_count": 71,
     "metadata": {},
     "output_type": "execute_result"
    }
   ],
   "source": [
    "\"Pakistan\" in a"
   ]
  },
  {
   "cell_type": "code",
   "execution_count": 72,
   "id": "2f11fcb4",
   "metadata": {},
   "outputs": [
    {
     "data": {
      "text/plain": [
       "True"
      ]
     },
     "execution_count": 72,
     "metadata": {},
     "output_type": "execute_result"
    }
   ],
   "source": [
    "\"Pakistan\" not in a"
   ]
  },
  {
   "cell_type": "code",
   "execution_count": 74,
   "id": "270cec6d",
   "metadata": {},
   "outputs": [
    {
     "data": {
      "text/plain": [
       "True"
      ]
     },
     "execution_count": 74,
     "metadata": {},
     "output_type": "execute_result"
    }
   ],
   "source": [
    "\"pos\" in a "
   ]
  },
  {
   "cell_type": "code",
   "execution_count": 75,
   "id": "7d417bbc",
   "metadata": {},
   "outputs": [
    {
     "data": {
      "text/plain": [
       "True"
      ]
     },
     "execution_count": 75,
     "metadata": {},
     "output_type": "execute_result"
    }
   ],
   "source": [
    "names = ['shahzad', 'hammad', 'fawad', 'musa']\n",
    "\n",
    "\"hammad\" in names"
   ]
  },
  {
   "cell_type": "code",
   "execution_count": 76,
   "id": "2c2b6ea5",
   "metadata": {},
   "outputs": [
    {
     "data": {
      "text/plain": [
       "True"
      ]
     },
     "execution_count": 76,
     "metadata": {},
     "output_type": "execute_result"
    }
   ],
   "source": [
    "\"Junaid\" not in names"
   ]
  },
  {
   "cell_type": "code",
   "execution_count": null,
   "id": "0539852b",
   "metadata": {},
   "outputs": [],
   "source": []
  }
 ],
 "metadata": {
  "kernelspec": {
   "display_name": "Python 3 (ipykernel)",
   "language": "python",
   "name": "python3"
  },
  "language_info": {
   "codemirror_mode": {
    "name": "ipython",
    "version": 3
   },
   "file_extension": ".py",
   "mimetype": "text/x-python",
   "name": "python",
   "nbconvert_exporter": "python",
   "pygments_lexer": "ipython3",
   "version": "3.9.7"
  }
 },
 "nbformat": 4,
 "nbformat_minor": 5
}
