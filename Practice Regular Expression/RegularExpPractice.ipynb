{
 "cells": [
  {
   "cell_type": "code",
   "execution_count": 1,
   "id": "774b7123",
   "metadata": {},
   "outputs": [
    {
     "name": "stdout",
     "output_type": "stream",
     "text": [
      " Sachin scores 76 and Dravin Scores 40 and Rohit scores 88 and Dhoni Scores 99\n"
     ]
    }
   ],
   "source": [
    "import re\n",
    "\n",
    "cric =\"\"\" Sachin scores 76 and Dravin Scores 40 and Rohit scores 88 and Dhoni Scores 99\"\"\"\n",
    "\n",
    "print(cric)"
   ]
  },
  {
   "cell_type": "markdown",
   "id": "2f81f309",
   "metadata": {},
   "source": [
    "# findall () function ----> Returns a list that contain all the matches"
   ]
  },
  {
   "cell_type": "code",
   "execution_count": 6,
   "id": "9edcbc0e",
   "metadata": {},
   "outputs": [
    {
     "name": "stdout",
     "output_type": "stream",
     "text": [
      "['Sachin', 'Dravin', 'Rohit', 'Dhoni']\n"
     ]
    }
   ],
   "source": [
    "cric =\"\"\" Sachin scores 76 and Dravin scores 40 and Rohit scores 88 and Dhoni scores 99\"\"\"\n",
    "a = re.findall(\"[A-Z][a-z]*\", cric)\n",
    "print(a)"
   ]
  },
  {
   "cell_type": "markdown",
   "id": "47f66040",
   "metadata": {},
   "source": [
    "## Now Extracting Score"
   ]
  },
  {
   "cell_type": "code",
   "execution_count": 9,
   "id": "093f6a23",
   "metadata": {},
   "outputs": [
    {
     "name": "stdout",
     "output_type": "stream",
     "text": [
      "['76', '40', '88', '99']\n"
     ]
    }
   ],
   "source": [
    "b = re.findall(\"\\d{2}\", cric)\n",
    "print(b)"
   ]
  },
  {
   "cell_type": "markdown",
   "id": "637819de",
   "metadata": {},
   "source": [
    "# Developing Dictionary from the data"
   ]
  },
  {
   "cell_type": "code",
   "execution_count": 11,
   "id": "e825cc3c",
   "metadata": {},
   "outputs": [
    {
     "name": "stdout",
     "output_type": "stream",
     "text": [
      "{'Sachin': '76', 'Dravin': '40', 'Rohit': '88', 'Dhoni': '99'}\n"
     ]
    }
   ],
   "source": [
    "dic={}\n",
    "i=0\n",
    "for j in a:\n",
    "    dic[j] = b[i] \n",
    "    i+=1\n",
    "    \n",
    "print(dic)"
   ]
  },
  {
   "cell_type": "markdown",
   "id": "b05a9d12",
   "metadata": {},
   "source": [
    "# Search () -----> It returns the match object. \n",
    "\n",
    "* If there is a match then it returns \n",
    "\n",
    "# To find the number of times a string 'repeated'"
   ]
  },
  {
   "cell_type": "code",
   "execution_count": 16,
   "id": "51a7f94f",
   "metadata": {},
   "outputs": [
    {
     "name": "stdout",
     "output_type": "stream",
     "text": [
      "String Found\n",
      "['Tammana', 'Tammana']\n",
      "Tammana\n",
      "Tammana\n"
     ]
    }
   ],
   "source": [
    "s = \"\"\"Her name is Tammana and Tammana is good girl\"\"\"\n",
    "if re.search(\"Tammana\", s):\n",
    "    print(\"String Found\")\n",
    "    \n",
    "a = re.findall(\"Tammana\", s)\n",
    "print (a)\n",
    "\n",
    "for i in a:\n",
    "    print(i)"
   ]
  },
  {
   "cell_type": "markdown",
   "id": "7f8b7057",
   "metadata": {},
   "source": [
    "# To find the index of a pattern \n",
    "\n",
    "## re.finditer"
   ]
  },
  {
   "cell_type": "code",
   "execution_count": 21,
   "id": "6e1d0d47",
   "metadata": {},
   "outputs": [
    {
     "name": "stdout",
     "output_type": "stream",
     "text": [
      "<re.Match object; span=(12, 19), match='Tammana'>\n",
      "<re.Match object; span=(24, 31), match='Tammana'>\n"
     ]
    }
   ],
   "source": [
    "s = \"\"\"Her name is Tammana and Tammana is good girl\"\"\"\n",
    "c = re.finditer(\"Tammana\", s)\n",
    "for g in c:\n",
    "    print(g)"
   ]
  },
  {
   "cell_type": "markdown",
   "id": "45c12eaf",
   "metadata": {},
   "source": [
    "# To convert it in Tupple directly we use 'span'"
   ]
  },
  {
   "cell_type": "code",
   "execution_count": 30,
   "id": "687fb513",
   "metadata": {},
   "outputs": [
    {
     "name": "stdout",
     "output_type": "stream",
     "text": [
      "(12, 19)\n",
      "(24, 31)\n"
     ]
    }
   ],
   "source": [
    "s = \"\"\"Her name is Tammana and Tammana is good girl\"\"\"\n",
    "d = re.finditer(\"Tammana\",s)\n",
    "for k in d:\n",
    "    index = k.span()\n",
    "    print(index)"
   ]
  },
  {
   "cell_type": "markdown",
   "id": "8f71197d",
   "metadata": {},
   "source": [
    "# [abc] -----> It will match what is in the []\n",
    "\n"
   ]
  },
  {
   "cell_type": "code",
   "execution_count": 34,
   "id": "256da820",
   "metadata": {},
   "outputs": [
    {
     "name": "stdout",
     "output_type": "stream",
     "text": [
      "['Rat', 'Mat', 'Cat']\n"
     ]
    }
   ],
   "source": [
    "m = \"Rat Mat Cat Sat Pat Lat\"\n",
    "n = re.findall(\"[RMC]at\", m)\n",
    "print(n)"
   ]
  },
  {
   "cell_type": "markdown",
   "id": "f0ec6503",
   "metadata": {},
   "source": [
    "# ^[abc]----> ^ means not, It will return other than abc"
   ]
  },
  {
   "cell_type": "code",
   "execution_count": 36,
   "id": "969cd9f3",
   "metadata": {},
   "outputs": [
    {
     "name": "stdout",
     "output_type": "stream",
     "text": [
      "['Sat', 'Pat', 'Lat']\n"
     ]
    }
   ],
   "source": [
    "m = \"Rat Mat Cat Sat Pat Lat\"\n",
    "n = re.findall(\"[^RMC]at\", m)\n",
    "print(n)"
   ]
  },
  {
   "cell_type": "markdown",
   "id": "e1fb4a96",
   "metadata": {},
   "source": [
    "# It will return those that are not starting from P to S [^P-S]"
   ]
  },
  {
   "cell_type": "code",
   "execution_count": 37,
   "id": "cbc7bb12",
   "metadata": {},
   "outputs": [
    {
     "name": "stdout",
     "output_type": "stream",
     "text": [
      "['Mat', 'Cat', 'Lat']\n"
     ]
    }
   ],
   "source": [
    "m = \"Rat Mat Cat Sat Pat Lat\"\n",
    "n = re.findall(\"[^P-S]at\", m)\n",
    "print(n)"
   ]
  },
  {
   "cell_type": "markdown",
   "id": "29005689",
   "metadata": {},
   "source": [
    "# compile ()--->To replace something in a pattern with new item \n",
    "\n",
    "# sub () ----> Use to replace the item \n",
    "\n",
    "# In this example the Pat in pattern has been replaced with Lion using 'compile () and sub ()"
   ]
  },
  {
   "cell_type": "code",
   "execution_count": 42,
   "id": "b28aef19",
   "metadata": {},
   "outputs": [
    {
     "name": "stdout",
     "output_type": "stream",
     "text": [
      "Rat Mat Cat Sat Lion Lat\n"
     ]
    }
   ],
   "source": [
    "m = \"Rat Mat Cat Sat Pat Lat\"\n",
    "\n",
    "r=re.compile(\"[P]at\")\n",
    "m = r.sub(\"Lion\", m)\n",
    "print (m)"
   ]
  },
  {
   "cell_type": "markdown",
   "id": "d1fd8665",
   "metadata": {},
   "source": [
    "# Allign the multiline text in a single line by finding '\\n'"
   ]
  },
  {
   "cell_type": "code",
   "execution_count": 48,
   "id": "b9cbb868",
   "metadata": {},
   "outputs": [
    {
     "name": "stdout",
     "output_type": "stream",
     "text": [
      " I love u\n",
      "life is hard enough\n",
      "and someone is selfish\n",
      "\n",
      " I love u life is hard enough and someone is selfish\n"
     ]
    }
   ],
   "source": [
    "f = \"\"\" I love u\n",
    "life is hard enough\n",
    "and someone is selfish\"\"\"\n",
    "\n",
    "print (f)\n",
    "print()\n",
    "\n",
    "d = re.compile('\\n')\n",
    "f = d.sub(\" \", f)\n",
    "\n",
    "print(f)"
   ]
  },
  {
   "cell_type": "markdown",
   "id": "e4962a11",
   "metadata": {},
   "source": [
    "# Finding the no. of digits "
   ]
  },
  {
   "cell_type": "code",
   "execution_count": 51,
   "id": "520eea0c",
   "metadata": {},
   "outputs": [
    {
     "name": "stdout",
     "output_type": "stream",
     "text": [
      " No. of Digits in Pattern:  9\n"
     ]
    }
   ],
   "source": [
    "a = \"123456789\"\n",
    "b = re.findall(\"\\d\", a)\n",
    "c=len(b)\n",
    "print(\" No. of Digits in Pattern: \", c)"
   ]
  },
  {
   "cell_type": "markdown",
   "id": "c9ba89a4",
   "metadata": {},
   "source": [
    "# Finding the no of times a pattern is repeated"
   ]
  },
  {
   "cell_type": "code",
   "execution_count": 53,
   "id": "2a29028f",
   "metadata": {},
   "outputs": [
    {
     "name": "stdout",
     "output_type": "stream",
     "text": [
      "Pattern Repeated 1 Times \n"
     ]
    }
   ],
   "source": [
    "a = \"123456789\"\n",
    "b = re.findall(\"\\d{6}\", a)\n",
    "c=len(b)\n",
    "print(f\"Pattern Repeated {c} Times \")"
   ]
  },
  {
   "cell_type": "markdown",
   "id": "b3271460",
   "metadata": {},
   "source": [
    "# To find the Alphabets in a Pattern"
   ]
  },
  {
   "cell_type": "code",
   "execution_count": 55,
   "id": "107db943",
   "metadata": {},
   "outputs": [
    {
     "name": "stdout",
     "output_type": "stream",
     "text": [
      "Alphabets are:  ['o', 'i', 's', 'n', 'i', 'n', 'u', 'i', 's', 'h', 'u', 'i', 'h', 'j', 'k', 'a', 'x', 's', 'b', 's', 'j', 's', 'n', 'j', 'n', 'a', 's', 'n', 'a', 's', 'd', 'j']\n",
      "o\n",
      "i\n",
      "s\n",
      "n\n",
      "i\n",
      "n\n",
      "u\n",
      "i\n",
      "s\n",
      "h\n",
      "u\n",
      "i\n",
      "h\n",
      "j\n",
      "k\n",
      "a\n",
      "x\n",
      "s\n",
      "b\n",
      "s\n",
      "j\n",
      "s\n",
      "n\n",
      "j\n",
      "n\n",
      "a\n",
      "s\n",
      "n\n",
      "a\n",
      "s\n",
      "d\n",
      "j\n",
      "Total Length of Alphabets is 32\n"
     ]
    }
   ],
   "source": [
    "a = \"oisninuishuih8937123786137139jkaxsbsjsnjnasnasdj\"\n",
    "b = re.findall(\"\\D\", a)\n",
    "print(\"Alphabets are: \", b)\n",
    "c = len(b)\n",
    "print (f\"Total Length of Alphabets is {c}\")"
   ]
  },
  {
   "cell_type": "markdown",
   "id": "ac78679a",
   "metadata": {},
   "source": [
    "# No of digits with Specified length in a Pattern"
   ]
  },
  {
   "cell_type": "code",
   "execution_count": 64,
   "id": "5549e963",
   "metadata": {},
   "outputs": [
    {
     "name": "stdout",
     "output_type": "stream",
     "text": [
      "2\n",
      "6\n"
     ]
    }
   ],
   "source": [
    "m = \"12 123 12345 12345 1234567 1234567 123456 12345 123\"\n",
    "b = re.findall(\"\\d{7}\", m)\n",
    "c = len(b)\n",
    "print(c)\n",
    "\n",
    "\n",
    "d = re.findall(\"\\d{5,7}\", m) # It means length 5 to 7\n",
    "e = len(d)\n",
    "print(e)"
   ]
  },
  {
   "cell_type": "markdown",
   "id": "da6134a2",
   "metadata": {},
   "source": [
    "# Phone No.\n",
    "\n",
    "## Using \\ to avoid the special meaning\n",
    "## Using * to check zero or more occurance"
   ]
  },
  {
   "cell_type": "code",
   "execution_count": 73,
   "id": "62e84031",
   "metadata": {},
   "outputs": [
    {
     "name": "stdout",
     "output_type": "stream",
     "text": [
      "Enter the mobile number in format: +92000-000000092302-7418463\n",
      "92302-7418463 is a valid number to be saved\n"
     ]
    }
   ],
   "source": [
    "d = input(\"Enter the mobile number in format: +92000-0000000\")\n",
    "e = re.search(\"\\+*\\d{5}-\\d{7}\", d) # Here we put \\ before + to ignore its special meaning\n",
    "if e:\n",
    "    print(f\"{d} is a valid number to be saved\")\n",
    "else:\n",
    "    print(\"Entre no. in correct format\")"
   ]
  },
  {
   "cell_type": "markdown",
   "id": "ac64761e",
   "metadata": {},
   "source": [
    "## Using + to ensure the alteast one +"
   ]
  },
  {
   "cell_type": "code",
   "execution_count": 75,
   "id": "7402f771",
   "metadata": {},
   "outputs": [
    {
     "name": "stdout",
     "output_type": "stream",
     "text": [
      "Enter the mobile number in format: +92000-0000000+92302-7418463\n",
      "+92302-7418463 is a valid number to be saved\n"
     ]
    }
   ],
   "source": [
    "d = input(\"Enter the mobile number in format: +92000-0000000\")\n",
    "e = re.search(\"\\++\\d{5}-\\d{7}\", d) # Here we put \\ before + to ignore its special meaning\n",
    "if e:\n",
    "    print(f\"{d} is a valid number to be saved\")\n",
    "else:\n",
    "    print(\"Entre no. in correct format\")"
   ]
  },
  {
   "cell_type": "markdown",
   "id": "68dac552",
   "metadata": {},
   "source": [
    "# Save number in the list"
   ]
  },
  {
   "cell_type": "code",
   "execution_count": 97,
   "id": "21a17878",
   "metadata": {},
   "outputs": [
    {
     "name": "stdout",
     "output_type": "stream",
     "text": [
      "Enter the mobile number in format: +92000-0000000+92000-0000000\n",
      "+92000-0000000 is a valid number to be saved\n",
      "[['+', '9', '2', '0', '0', '0', '-', '0', '0', '0', '0', '0', '0', '0'], ['+', '9', '2', '0', '0', '0', '-', '0', '0', '0', '0', '0', '0', '0'], ['+', '9', '2', '0', '0', '0', '-', '0', '0', '0', '0', '0', '0', '0'], ['+', '9', '2', '0', '0', '0', '-', '0', '0', '0', '0', '0', '0', '0'], ['+', '9', '2', '0', '0', '0', '-', '0', '0', '0', '0', '0', '0', '0'], ['+', '9', '2', '0', '0', '0', '-', '0', '0', '0', '0', '0', '0', '0'], ['+', '9', '2', '0', '0', '0', '-', '0', '0', '0', '0', '0', '0', '0'], ['+', '9', '2', '0', '0', '0', '-', '0', '0', '0', '0', '0', '0', '0'], ['+', '9', '2', '0', '0', '0', '-', '0', '0', '0', '0', '0', '0', '0'], ['+', '9', '2', '0', '0', '0', '-', '0', '0', '0', '0', '0', '0', '0'], ['+', '9', '2', '0', '0', '0', '-', '0', '0', '0', '0', '0', '0', '0'], ['+', '9', '2', '0', '0', '0', '-', '0', '0', '0', '0', '0', '0', '0'], ['+', '9', '2', '0', '0', '0', '-', '0', '0', '0', '0', '0', '0', '0'], ['+', '9', '2', '0', '0', '0', '-', '0', '0', '0', '0', '0', '0', '0']]\n"
     ]
    }
   ],
   "source": [
    "d = (input(\"Enter the mobile number in format: +92000-0000000\"))\n",
    "e = re.search(\"\\++\\d{5}-\\d{7}\", d) # Here we put \\ before + to ignore its special meaning\n",
    "cnt = []\n",
    "cnt1 = []\n",
    "if e:\n",
    "    print(f\"{d} is a valid number to be saved\")\n",
    "    \n",
    "    for n in d:\n",
    "        cnt.append(cnt1)\n",
    "        cnt1.append(n)\n",
    "    print(cnt)\n",
    "else:\n",
    "    print(\"Entre no. in correct format\")"
   ]
  },
  {
   "cell_type": "code",
   "execution_count": 99,
   "id": "bf7156f1",
   "metadata": {},
   "outputs": [
    {
     "name": "stdout",
     "output_type": "stream",
     "text": [
      "Enter the mobile number in format: +92000-0000000+92000-0000000\n",
      "+92000-0000000 is a valid number to be saved\n",
      "['+', '9', '2', '0', '0', '0', '-', '0', '0', '0', '0', '0', '0', '0']\n"
     ]
    }
   ],
   "source": [
    "d = (input(\"Enter the mobile number in format: +92000-0000000\"))\n",
    "e = re.search(\"\\++\\d{5}-\\d{7}\", d) # Here we put \\ before + to ignore its special meaning\n",
    "cnt = []\n",
    "if e:\n",
    "    print(f\"{d} is a valid number to be saved\") \n",
    "    for n in d:\n",
    "        cnt.append(n)\n",
    "    print(cnt)\n",
    "else:\n",
    "    print(\"Entre no. in correct format\")"
   ]
  },
  {
   "cell_type": "code",
   "execution_count": 103,
   "id": "63811995",
   "metadata": {},
   "outputs": [
    {
     "name": "stdout",
     "output_type": "stream",
     "text": [
      "Enter the mobile number in format: +92000-0000000+92000-0000000\n",
      "+92000-0000000 is a valid number to be saved\n",
      "['0']\n"
     ]
    }
   ],
   "source": [
    "d = (input(\"Enter the mobile number in format: +92000-0000000\"))\n",
    "e = re.search(\"\\++\\d{5}-\\d{7}\", d) # Here we put \\ before + to ignore its special meaning\n",
    "cnt = []\n",
    "if e:\n",
    "    print(f\"{d} is a valid number to be saved\") \n",
    "    cnt.append(n)\n",
    "    print(cnt)\n",
    "else:\n",
    "    print(\"Entre no. in correct format\")"
   ]
  },
  {
   "cell_type": "code",
   "execution_count": 104,
   "id": "70797ef5",
   "metadata": {},
   "outputs": [
    {
     "name": "stdout",
     "output_type": "stream",
     "text": [
      "Enter the mobile number in format: +92000-0000000+92000-0000000\n",
      "+92000-0000000 is a valid number to be saved\n",
      "['+', '9', '2', '0', '0', '0', '-', '0', '0', '0', '0', '0', '0', '0']\n"
     ]
    }
   ],
   "source": [
    "d = (input(\"Enter the mobile number in format: +92000-0000000\"))\n",
    "e = re.findall(\"\\++\\d{5}-\\d{7}\", d) # Here we put \\ before + to ignore its special meaning\n",
    "cnt = []\n",
    "if e:\n",
    "    print(f\"{d} is a valid number to be saved\") \n",
    "    for n in d:\n",
    "        cnt.append(n)\n",
    "    print(cnt)\n",
    "else:\n",
    "    print(\"Entre no. in correct format\")"
   ]
  },
  {
   "cell_type": "code",
   "execution_count": null,
   "id": "9bbeb9af",
   "metadata": {},
   "outputs": [],
   "source": []
  }
 ],
 "metadata": {
  "kernelspec": {
   "display_name": "Python 3 (ipykernel)",
   "language": "python",
   "name": "python3"
  },
  "language_info": {
   "codemirror_mode": {
    "name": "ipython",
    "version": 3
   },
   "file_extension": ".py",
   "mimetype": "text/x-python",
   "name": "python",
   "nbconvert_exporter": "python",
   "pygments_lexer": "ipython3",
   "version": "3.9.7"
  }
 },
 "nbformat": 4,
 "nbformat_minor": 5
}
