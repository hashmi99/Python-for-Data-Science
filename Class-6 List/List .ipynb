{
 "cells": [
  {
   "cell_type": "markdown",
   "id": "ad83d200",
   "metadata": {},
   "source": [
    "# Indexing \n",
    "\n",
    "* Positive indexing -----> starts from 0  (Start to End)\n",
    "* Negative indexing -----> starts from -1  (End to Start)"
   ]
  },
  {
   "cell_type": "code",
   "execution_count": null,
   "id": "63091f4a",
   "metadata": {},
   "outputs": [],
   "source": [
    "#Positive Indexing  0       1      2\n",
    "student_names = ['azlan', 'Kam', 'Tur']\n",
    "#Negative Indexing -3       -2     -1\n",
    "\n",
    "\n",
    "print(student_names)\n",
    "print(type (student_names))"
   ]
  },
  {
   "cell_type": "markdown",
   "id": "ae51e377",
   "metadata": {},
   "source": [
    "### List is Mutable\n",
    "- It can be edited and its elements can be replace\n",
    "- List ------> []\n",
    "\n",
    "### Tupple is immutable \n",
    "- It can not be edited and its elements cannot be replaced\n",
    "\n",
    "### Data \n",
    "\n",
    "- Homogenous\n",
    "- Heterogenous \n",
    "- Drawback of array was that different type of data was not possible to be stored in array (other programming languages)"
   ]
  },
  {
   "cell_type": "markdown",
   "id": "dc259b3f",
   "metadata": {},
   "source": [
    "# Indexing\n",
    "\n",
    "* Accessing the particular element in list\n",
    "\n",
    "# Slicing\n",
    "\n",
    "* Accessing the range of values\n",
    "\n",
    "# Dynamic\n",
    "\n",
    "* List is dynamic (no fixed length)\n",
    "\n",
    "# Heterogenous\n",
    "\n",
    "* Different data types can be stored in a single list\n",
    "\n",
    "# Mutable\n",
    "\n",
    "* List is mutable (Its elements can be changed)\n",
    "\n",
    "\n",
    "\n"
   ]
  },
  {
   "cell_type": "markdown",
   "id": "2c6f7397",
   "metadata": {},
   "source": [
    "# Printing Element of List\n",
    "\n",
    "* variable name [index no.]\n"
   ]
  },
  {
   "cell_type": "code",
   "execution_count": 6,
   "id": "78b67b95",
   "metadata": {},
   "outputs": [
    {
     "name": "stdout",
     "output_type": "stream",
     "text": [
      "Kam\n",
      "Kam\n",
      "Tur\n"
     ]
    }
   ],
   "source": [
    "#Positive Indexing  0       1      2\n",
    "student_names = ['azlan', 'Kam', 'Tur']\n",
    "#Negative Indexing -3       -2     -1\n",
    "\n",
    "\n",
    "print(student_names [1])  # Through Positive indexing\n",
    "print(student_names [-2]) # Through negative indexing\n",
    "print(student_names [-1])"
   ]
  },
  {
   "cell_type": "markdown",
   "id": "8eb1b6c4",
   "metadata": {},
   "source": [
    "# Unzipping of elements\n",
    "\n",
    "* Extracting the elements of lists and put them in some function called \"Unzip\""
   ]
  },
  {
   "cell_type": "code",
   "execution_count": 7,
   "id": "8613fad1",
   "metadata": {},
   "outputs": [
    {
     "name": "stdout",
     "output_type": "stream",
     "text": [
      "azlan Kam Tur\n"
     ]
    }
   ],
   "source": [
    "#Positive Indexing  0       1      2\n",
    "student_names = ['azlan', 'Kam', 'Tur']\n",
    "#Negative Indexing -3       -2     -1\n",
    "\n",
    "\n",
    "print(student_names [0], student_names [1], student_names [2])  # Unzipping\n"
   ]
  },
  {
   "cell_type": "markdown",
   "id": "d7ad9422",
   "metadata": {},
   "source": [
    "## Python method for unzipping the entire List\n",
    "\n",
    "* Put Asterik before the List name in print function\n",
    "* print (*student_Names)\n"
   ]
  },
  {
   "cell_type": "code",
   "execution_count": 10,
   "id": "bb647238",
   "metadata": {},
   "outputs": [
    {
     "name": "stdout",
     "output_type": "stream",
     "text": [
      "azlan Kam Tur\n"
     ]
    }
   ],
   "source": [
    "student_names = ['azlan', 'Kam', 'Tur']\n",
    "\n",
    "print (*student_names)"
   ]
  },
  {
   "cell_type": "markdown",
   "id": "1a146dc3",
   "metadata": {},
   "source": [
    "# Slicing \n",
    "\n",
    "* List_name [start: End: Step]\n",
    "* Start-----> include\n",
    "* End-------> exclude\n",
    "* Last element -----> end - 1\n",
    "* Step -----------> By default its 1"
   ]
  },
  {
   "cell_type": "code",
   "execution_count": 19,
   "id": "ffe7877b",
   "metadata": {},
   "outputs": [
    {
     "name": "stdout",
     "output_type": "stream",
     "text": [
      "['A', 'B', 'C', 'D', 'E', 'F', 'G', 'H', 'I', 'J', 'K', 'L', 'M', 'N', 'O', 'P', 'Q', 'R', 'S', 'T', 'U', 'V', 'W', 'X', 'Y', 'Z']\n"
     ]
    },
    {
     "data": {
      "text/plain": [
       "['A',\n",
       " 'B',\n",
       " 'C',\n",
       " 'D',\n",
       " 'E',\n",
       " 'F',\n",
       " 'G',\n",
       " 'H',\n",
       " 'I',\n",
       " 'J',\n",
       " 'K',\n",
       " 'L',\n",
       " 'M',\n",
       " 'N',\n",
       " 'O',\n",
       " 'P',\n",
       " 'Q',\n",
       " 'R',\n",
       " 'S',\n",
       " 'T',\n",
       " 'U',\n",
       " 'V',\n",
       " 'W',\n",
       " 'X',\n",
       " 'Y',\n",
       " 'Z']"
      ]
     },
     "execution_count": 19,
     "metadata": {},
     "output_type": "execute_result"
    }
   ],
   "source": [
    "a = [chr (i) for i in range (65,91)]\n",
    "print (a) # Printing Horizontally\n",
    "\n",
    "a         # Printing Vertically\n"
   ]
  },
  {
   "cell_type": "code",
   "execution_count": 20,
   "id": "f076b39a",
   "metadata": {},
   "outputs": [
    {
     "name": "stdout",
     "output_type": "stream",
     "text": [
      "['B', 'C', 'D', 'E']\n"
     ]
    }
   ],
   "source": [
    "#     0    1    2    3    4    5    6    7    8    9    10   11   ................................................................ 25\n",
    "b = ['A', 'B', 'C', 'D', 'E', 'F', 'G', 'H', 'I', 'J', 'K', 'L', 'M', 'N', 'O', 'P', 'Q', 'R', 'S', 'T', 'U', 'V', 'W', 'X', 'Y', 'Z']\n",
    "#     -26......................................................................................................................... -1\n",
    "\n",
    "print (b[1:5])\n"
   ]
  },
  {
   "cell_type": "code",
   "execution_count": 21,
   "id": "797c36f0",
   "metadata": {},
   "outputs": [
    {
     "name": "stdout",
     "output_type": "stream",
     "text": [
      "[]\n"
     ]
    }
   ],
   "source": [
    "print (b[6:-26]) # It will return empty because it will not be able to find -ve 26 on rightside"
   ]
  },
  {
   "cell_type": "code",
   "execution_count": 22,
   "id": "382ed5c1",
   "metadata": {},
   "outputs": [
    {
     "name": "stdout",
     "output_type": "stream",
     "text": [
      "['B', 'C', 'D', 'E', 'F', 'G']\n"
     ]
    }
   ],
   "source": [
    "print (b[-25:7])"
   ]
  },
  {
   "cell_type": "code",
   "execution_count": 23,
   "id": "dcb32033",
   "metadata": {},
   "outputs": [
    {
     "name": "stdout",
     "output_type": "stream",
     "text": [
      "['B', 'C', 'D', 'E', 'F', 'G']\n"
     ]
    }
   ],
   "source": [
    "print (b[-25:-19])"
   ]
  },
  {
   "cell_type": "markdown",
   "id": "6a599e22",
   "metadata": {},
   "source": [
    "## For printing all before the end limit"
   ]
  },
  {
   "cell_type": "code",
   "execution_count": 24,
   "id": "265a1533",
   "metadata": {},
   "outputs": [
    {
     "name": "stdout",
     "output_type": "stream",
     "text": [
      "['A', 'B', 'C', 'D', 'E', 'F', 'G']\n"
     ]
    }
   ],
   "source": [
    "print (b[:7])"
   ]
  },
  {
   "cell_type": "code",
   "execution_count": 27,
   "id": "f0f3fc48",
   "metadata": {},
   "outputs": [
    {
     "name": "stdout",
     "output_type": "stream",
     "text": [
      "['A', 'B', 'C', 'D', 'E', 'F', 'G', 'H', 'I', 'J', 'K', 'L', 'M', 'N', 'O', 'P', 'Q', 'R', 'S', 'T', 'U']\n"
     ]
    }
   ],
   "source": [
    "print (b[:-5])"
   ]
  },
  {
   "cell_type": "code",
   "execution_count": 26,
   "id": "3293289c",
   "metadata": {},
   "outputs": [
    {
     "name": "stdout",
     "output_type": "stream",
     "text": [
      "['V', 'W', 'X', 'Y', 'Z']\n"
     ]
    }
   ],
   "source": [
    "print (b[-5:]) # It will take all remaining after -5 and end will also be include. Here the excluding concept is not applicable "
   ]
  },
  {
   "cell_type": "markdown",
   "id": "ed31ba49",
   "metadata": {},
   "source": [
    "# The Logic below will print entire list"
   ]
  },
  {
   "cell_type": "code",
   "execution_count": 28,
   "id": "ecb3ed39",
   "metadata": {},
   "outputs": [
    {
     "name": "stdout",
     "output_type": "stream",
     "text": [
      "['A', 'B', 'C', 'D', 'E', 'F', 'G', 'H', 'I', 'J', 'K', 'L', 'M', 'N', 'O', 'P', 'Q', 'R', 'S', 'T', 'U', 'V', 'W', 'X', 'Y', 'Z']\n"
     ]
    }
   ],
   "source": [
    "print (b[::])"
   ]
  },
  {
   "cell_type": "code",
   "execution_count": 29,
   "id": "f1f4982d",
   "metadata": {},
   "outputs": [
    {
     "name": "stdout",
     "output_type": "stream",
     "text": [
      "['A', 'F', 'K', 'P', 'U', 'Z']\n"
     ]
    }
   ],
   "source": [
    "print (b[::5])"
   ]
  },
  {
   "cell_type": "markdown",
   "id": "01eccdb3",
   "metadata": {},
   "source": [
    "# Printing the List in Reverse Order"
   ]
  },
  {
   "cell_type": "code",
   "execution_count": 30,
   "id": "f8e00b87",
   "metadata": {},
   "outputs": [
    {
     "name": "stdout",
     "output_type": "stream",
     "text": [
      "['Z', 'Y', 'X', 'W', 'V', 'U', 'T', 'S', 'R', 'Q', 'P', 'O', 'N', 'M', 'L', 'K', 'J', 'I', 'H', 'G', 'F', 'E', 'D', 'C', 'B', 'A']\n"
     ]
    }
   ],
   "source": [
    "#     0    1    2    3    4    5    6    7    8    9    10   11   ................................................................ 25\n",
    "b = ['A', 'B', 'C', 'D', 'E', 'F', 'G', 'H', 'I', 'J', 'K', 'L', 'M', 'N', 'O', 'P', 'Q', 'R', 'S', 'T', 'U', 'V', 'W', 'X', 'Y', 'Z']\n",
    "#     -26......................................................................................................................... -1\n",
    "\n",
    "print (b[::-1])"
   ]
  },
  {
   "cell_type": "code",
   "execution_count": 31,
   "id": "124872ef",
   "metadata": {},
   "outputs": [
    {
     "name": "stdout",
     "output_type": "stream",
     "text": [
      "['Z', 'U', 'P', 'K', 'F', 'A']\n"
     ]
    }
   ],
   "source": [
    "print (b[::-5])"
   ]
  },
  {
   "cell_type": "code",
   "execution_count": 34,
   "id": "3f2eee4a",
   "metadata": {},
   "outputs": [
    {
     "name": "stdout",
     "output_type": "stream",
     "text": [
      "[]\n"
     ]
    }
   ],
   "source": [
    "print (b[5:-5:-1])"
   ]
  },
  {
   "cell_type": "code",
   "execution_count": 35,
   "id": "4d2e5bb9",
   "metadata": {},
   "outputs": [
    {
     "name": "stdout",
     "output_type": "stream",
     "text": [
      "['V', 'U', 'T', 'S', 'R', 'Q', 'P', 'O', 'N', 'M', 'L', 'K', 'J', 'I', 'H', 'G']\n"
     ]
    }
   ],
   "source": [
    "print (b[-5:5:-1])"
   ]
  },
  {
   "cell_type": "code",
   "execution_count": 36,
   "id": "03548e22",
   "metadata": {},
   "outputs": [
    {
     "name": "stdout",
     "output_type": "stream",
     "text": [
      "['F', 'E', 'D', 'C', 'B']\n"
     ]
    }
   ],
   "source": [
    "print (b[5:0:-1])"
   ]
  },
  {
   "cell_type": "markdown",
   "id": "e8249d95",
   "metadata": {},
   "source": [
    "# Range Function \n",
    "\n",
    "* Separated by ',' because it is a function"
   ]
  },
  {
   "cell_type": "code",
   "execution_count": 37,
   "id": "aa3f0c20",
   "metadata": {},
   "outputs": [
    {
     "data": {
      "text/plain": [
       "range(2, 21)"
      ]
     },
     "execution_count": 37,
     "metadata": {},
     "output_type": "execute_result"
    }
   ],
   "source": [
    "range (2,21)"
   ]
  },
  {
   "cell_type": "markdown",
   "id": "d933240f",
   "metadata": {},
   "source": [
    "### Type Casting to store the output in some datatype/variable"
   ]
  },
  {
   "cell_type": "code",
   "execution_count": 40,
   "id": "f1449893",
   "metadata": {},
   "outputs": [
    {
     "data": {
      "text/plain": [
       "[2, 4, 6, 8, 10, 12, 14, 16, 18, 20]"
      ]
     },
     "execution_count": 40,
     "metadata": {},
     "output_type": "execute_result"
    }
   ],
   "source": [
    "list (range (2,21,2))"
   ]
  },
  {
   "cell_type": "markdown",
   "id": "2768c8a5",
   "metadata": {},
   "source": [
    "# Multi-List Or List in a List\n",
    "\n",
    "* It is also called Metrices\n",
    "* It can be called nested list"
   ]
  },
  {
   "cell_type": "code",
   "execution_count": 48,
   "id": "91af8d9a",
   "metadata": {},
   "outputs": [
    {
     "name": "stdout",
     "output_type": "stream",
     "text": [
      "[[1, 2], [3, 4], [5, 6]]\n"
     ]
    },
    {
     "data": {
      "text/plain": [
       "[[1, 2], [3, 4], [5, 6]]"
      ]
     },
     "metadata": {},
     "output_type": "display_data"
    },
    {
     "name": "stdout",
     "output_type": "stream",
     "text": [
      "[3, 4]\n"
     ]
    }
   ],
   "source": [
    "s = [[1,2], [3,4], [5, 6]]\n",
    "\n",
    "\n",
    "print(s)\n",
    "\n",
    "print(s[1])"
   ]
  },
  {
   "cell_type": "code",
   "execution_count": 46,
   "id": "0d26a44b",
   "metadata": {},
   "outputs": [
    {
     "name": "stdout",
     "output_type": "stream",
     "text": [
      "3 6\n",
      "4\n"
     ]
    }
   ],
   "source": [
    "print(s[1][1])\n",
    "\n",
    "print(s[1][0], s[2][1])\n",
    "\n",
    "print(s[1][1])"
   ]
  },
  {
   "cell_type": "markdown",
   "id": "3465142a",
   "metadata": {},
   "source": [
    "# Mutability"
   ]
  },
  {
   "cell_type": "code",
   "execution_count": 54,
   "id": "8499f566",
   "metadata": {},
   "outputs": [
    {
     "name": "stdout",
     "output_type": "stream",
     "text": [
      "[[1, 2], [3, 4], [5, 6]]\n",
      "[[1, 100], [3, 4], [5, 6]]\n"
     ]
    }
   ],
   "source": [
    "s = [[1,2], [3,4], [5, 6]]\n",
    "\n",
    "\n",
    "print(s)\n",
    "\n",
    "y = s [0][1] = 100\n",
    "\n",
    "print (s)\n",
    "\n",
    "\n",
    "# print(s[1])"
   ]
  },
  {
   "cell_type": "markdown",
   "id": "9dec7bc3",
   "metadata": {},
   "source": [
    "# Methods of List"
   ]
  },
  {
   "cell_type": "code",
   "execution_count": 55,
   "id": "1eb49132",
   "metadata": {},
   "outputs": [
    {
     "data": {
      "text/plain": [
       "['__add__',\n",
       " '__class__',\n",
       " '__class_getitem__',\n",
       " '__contains__',\n",
       " '__delattr__',\n",
       " '__delitem__',\n",
       " '__dir__',\n",
       " '__doc__',\n",
       " '__eq__',\n",
       " '__format__',\n",
       " '__ge__',\n",
       " '__getattribute__',\n",
       " '__getitem__',\n",
       " '__gt__',\n",
       " '__hash__',\n",
       " '__iadd__',\n",
       " '__imul__',\n",
       " '__init__',\n",
       " '__init_subclass__',\n",
       " '__iter__',\n",
       " '__le__',\n",
       " '__len__',\n",
       " '__lt__',\n",
       " '__mul__',\n",
       " '__ne__',\n",
       " '__new__',\n",
       " '__reduce__',\n",
       " '__reduce_ex__',\n",
       " '__repr__',\n",
       " '__reversed__',\n",
       " '__rmul__',\n",
       " '__setattr__',\n",
       " '__setitem__',\n",
       " '__sizeof__',\n",
       " '__str__',\n",
       " '__subclasshook__',\n",
       " 'append',\n",
       " 'clear',\n",
       " 'copy',\n",
       " 'count',\n",
       " 'extend',\n",
       " 'index',\n",
       " 'insert',\n",
       " 'pop',\n",
       " 'remove',\n",
       " 'reverse',\n",
       " 'sort']"
      ]
     },
     "execution_count": 55,
     "metadata": {},
     "output_type": "execute_result"
    }
   ],
   "source": [
    "dir (list)"
   ]
  },
  {
   "cell_type": "markdown",
   "id": "ce12afed",
   "metadata": {},
   "source": [
    "# Append "
   ]
  },
  {
   "cell_type": "code",
   "execution_count": 58,
   "id": "780763e8",
   "metadata": {},
   "outputs": [
    {
     "name": "stdout",
     "output_type": "stream",
     "text": [
      "['A', 'B', 'C', 'D', 'E', 'F']\n"
     ]
    }
   ],
   "source": [
    "k = ['A', 'B', 'C']\n",
    "k.append ('D')\n",
    "k.append ('E')\n",
    "k.append ('F')\n",
    "print(k)"
   ]
  },
  {
   "cell_type": "code",
   "execution_count": 59,
   "id": "2c3cd603",
   "metadata": {},
   "outputs": [
    {
     "name": "stdout",
     "output_type": "stream",
     "text": [
      "[]\n"
     ]
    }
   ],
   "source": [
    "L = ['A', 'B', 'C']\n",
    "L.clear ()\n",
    "print(L)"
   ]
  },
  {
   "cell_type": "markdown",
   "id": "5e0d4670",
   "metadata": {},
   "source": [
    "# Copy"
   ]
  },
  {
   "cell_type": "code",
   "execution_count": 60,
   "id": "6150a4de",
   "metadata": {},
   "outputs": [
    {
     "name": "stdout",
     "output_type": "stream",
     "text": [
      "[1, 2]\n",
      "[1, 5]\n",
      "[1, 5]\n"
     ]
    }
   ],
   "source": [
    "a = [1,2]\n",
    "\n",
    "print (a)\n",
    "b = a\n",
    "\n",
    "b[1] = 5\n",
    "\n",
    "print (b)\n",
    "print (a)\n"
   ]
  },
  {
   "cell_type": "markdown",
   "id": "46c19f28",
   "metadata": {},
   "source": [
    "## To avoid this automatic change in a due to b we use Copy Function"
   ]
  },
  {
   "cell_type": "code",
   "execution_count": 61,
   "id": "69152ff4",
   "metadata": {},
   "outputs": [
    {
     "name": "stdout",
     "output_type": "stream",
     "text": [
      "[1, 2]\n",
      "[1, 5]\n",
      "[1, 2]\n"
     ]
    }
   ],
   "source": [
    "a = [1,2]\n",
    "\n",
    "print (a)\n",
    "b = a.copy ()\n",
    "\n",
    "b[1] = 5\n",
    "\n",
    "print (b)\n",
    "print (a) # b put no impact on a due to copy command"
   ]
  },
  {
   "cell_type": "markdown",
   "id": "f76bbb67",
   "metadata": {},
   "source": [
    "# Count\n",
    "\n",
    "* Count the particular element"
   ]
  },
  {
   "cell_type": "code",
   "execution_count": 66,
   "id": "72637a72",
   "metadata": {},
   "outputs": [
    {
     "name": "stdout",
     "output_type": "stream",
     "text": [
      "3\n",
      "1\n"
     ]
    }
   ],
   "source": [
    "n = [1,3,1,4, 5, 7, 9, 1]\n",
    "print (n.count(1))\n",
    "print (n.count(4))"
   ]
  },
  {
   "cell_type": "markdown",
   "id": "c7c0922b",
   "metadata": {},
   "source": [
    "# Extend "
   ]
  },
  {
   "cell_type": "code",
   "execution_count": 68,
   "id": "564f9a08",
   "metadata": {},
   "outputs": [
    {
     "name": "stdout",
     "output_type": "stream",
     "text": [
      "[1, 3, 5, 7, 9, 11]\n",
      "[1, 3, 5]\n",
      "[1, 3, 5, 7, 9, 11]\n",
      "[7, 9, 11]\n"
     ]
    }
   ],
   "source": [
    "a = [1,3,5]\n",
    "b = [7,9,11]\n",
    "\n",
    "print (a+b) # This will extend the list temporarily \n",
    "print (a)\n",
    "a.extend (b) # This will retain the change\n",
    "\n",
    "print (a)\n",
    "print (b)"
   ]
  },
  {
   "cell_type": "markdown",
   "id": "26aefea7",
   "metadata": {},
   "source": [
    "# Index \n",
    "\n",
    "* It will return the index of first occurance means if a element is repreating multiple times it will return the index where it present very first"
   ]
  },
  {
   "cell_type": "code",
   "execution_count": 71,
   "id": "fc9c8018",
   "metadata": {},
   "outputs": [
    {
     "name": "stdout",
     "output_type": "stream",
     "text": [
      "2\n",
      "12\n"
     ]
    }
   ],
   "source": [
    "b = ['A', 'B', 'C', 'D', 'E', 'F', 'G', 'H', 'I', 'J', 'K', 'L', 'M', 'M','M']\n",
    "print (b.index('C'))\n",
    "print (b.index('M'))\n"
   ]
  },
  {
   "cell_type": "markdown",
   "id": "bc28365a",
   "metadata": {},
   "source": [
    "# Insert \n",
    "\n",
    "* Append has the limitations that it adds new addition at the end of the list\n",
    "* Insert can insert/change element at any index"
   ]
  },
  {
   "cell_type": "code",
   "execution_count": 72,
   "id": "0becd5a8",
   "metadata": {},
   "outputs": [
    {
     "name": "stdout",
     "output_type": "stream",
     "text": [
      "['A', 'Shahzad', 'B', 'C', 'D', 'E', 'F', 'G', 'H', 'I', 'J', 'K', 'L', 'M', 'M', 'M']\n"
     ]
    }
   ],
   "source": [
    "b = ['A', 'B', 'C', 'D', 'E', 'F', 'G', 'H', 'I', 'J', 'K', 'L', 'M', 'M','M']\n",
    "b.insert (1, \"Shahzad\")\n",
    "print (b)"
   ]
  },
  {
   "cell_type": "markdown",
   "id": "2caf433a",
   "metadata": {},
   "source": [
    "# Difference Between Append and Extend\n",
    "\n",
    "* Append will add a complete list \n",
    "* Extend will add elements of the list"
   ]
  },
  {
   "cell_type": "code",
   "execution_count": 75,
   "id": "c910741c",
   "metadata": {},
   "outputs": [
    {
     "name": "stdout",
     "output_type": "stream",
     "text": [
      "['A', 'B', 'C', 'D', ['a', 'b']]\n"
     ]
    }
   ],
   "source": [
    "b = ['A', 'B', 'C', 'D']\n",
    "\n",
    "b.append(['a', 'b'])\n",
    "\n",
    "print (b)"
   ]
  },
  {
   "cell_type": "code",
   "execution_count": 76,
   "id": "331169ea",
   "metadata": {},
   "outputs": [
    {
     "name": "stdout",
     "output_type": "stream",
     "text": [
      "['A', 'B', 'C', 'D', 'a', 'b']\n"
     ]
    }
   ],
   "source": [
    "b = ['A', 'B', 'C', 'D']\n",
    "\n",
    "b.extend(['a', 'b'])\n",
    "\n",
    "print (b)"
   ]
  },
  {
   "cell_type": "markdown",
   "id": "2d1ab621",
   "metadata": {},
   "source": [
    "# Pop\n",
    "\n",
    "* Change the data and start removing the last element in each iteration"
   ]
  },
  {
   "cell_type": "code",
   "execution_count": 79,
   "id": "dcd0f89c",
   "metadata": {},
   "outputs": [
    {
     "name": "stdout",
     "output_type": "stream",
     "text": [
      "['A', 'B', 'C']\n",
      "['A', 'B']\n",
      "['A']\n"
     ]
    }
   ],
   "source": [
    "b = ['A', 'B', 'C', 'D']\n",
    "\n",
    "b.pop()\n",
    "print (b)\n",
    "b.pop()\n",
    "print (b)\n",
    "b.pop()\n",
    "print (b)"
   ]
  },
  {
   "cell_type": "code",
   "execution_count": 78,
   "id": "a9320ba9",
   "metadata": {},
   "outputs": [
    {
     "name": "stdout",
     "output_type": "stream",
     "text": [
      "['A', 'B', 'C']\n"
     ]
    }
   ],
   "source": [
    "b = ['A', 'B', 'C', 'D']\n",
    "\n",
    "print (b.pop())"
   ]
  },
  {
   "cell_type": "code",
   "execution_count": 80,
   "id": "36501568",
   "metadata": {},
   "outputs": [
    {
     "name": "stdout",
     "output_type": "stream",
     "text": [
      "['B', 'C', 'D']\n"
     ]
    }
   ],
   "source": [
    "b = ['A', 'B', 'C', 'D']\n",
    "\n",
    "b.pop(0)\n",
    "print (b)"
   ]
  },
  {
   "cell_type": "markdown",
   "id": "d2d5090c",
   "metadata": {},
   "source": [
    "# Return\n",
    "\n",
    "* Any function that has been called is possible to store the result in some variable  "
   ]
  },
  {
   "cell_type": "markdown",
   "id": "96e4a9da",
   "metadata": {},
   "source": [
    "# Remove\n",
    "\n",
    "### We cannot pass a text directly to pop function for removing it. Pop works only on index\n",
    "\n",
    "### Remove function can take a text directly that require to be searched and remove. It will not remove the integer"
   ]
  },
  {
   "cell_type": "code",
   "execution_count": 81,
   "id": "8a1f7e09",
   "metadata": {},
   "outputs": [
    {
     "name": "stdout",
     "output_type": "stream",
     "text": [
      "['A', 'C', 'D']\n"
     ]
    }
   ],
   "source": [
    "b = ['A', 'B', 'C', 'D']\n",
    "\n",
    "b.remove('B')\n",
    "print (b)"
   ]
  },
  {
   "cell_type": "markdown",
   "id": "31bd805e",
   "metadata": {},
   "source": [
    "# Sort "
   ]
  },
  {
   "cell_type": "code",
   "execution_count": 83,
   "id": "472e7089",
   "metadata": {},
   "outputs": [
    {
     "name": "stdout",
     "output_type": "stream",
     "text": [
      "[1, 2, 3, 5, 7]\n"
     ]
    }
   ],
   "source": [
    "d = [1,5,3,2,7]\n",
    "d.sort ()\n",
    "print (d)"
   ]
  },
  {
   "cell_type": "markdown",
   "id": "07673861",
   "metadata": {},
   "source": [
    "# Reverse "
   ]
  },
  {
   "cell_type": "code",
   "execution_count": 84,
   "id": "c46fb3d4",
   "metadata": {},
   "outputs": [
    {
     "name": "stdout",
     "output_type": "stream",
     "text": [
      "[7, 2, 3, 5, 1]\n"
     ]
    }
   ],
   "source": [
    "d = [1,5,3,2,7]\n",
    "d.reverse ()\n",
    "print (d)"
   ]
  },
  {
   "cell_type": "code",
   "execution_count": null,
   "id": "7b9f48c9",
   "metadata": {},
   "outputs": [],
   "source": []
  }
 ],
 "metadata": {
  "kernelspec": {
   "display_name": "Python 3 (ipykernel)",
   "language": "python",
   "name": "python3"
  },
  "language_info": {
   "codemirror_mode": {
    "name": "ipython",
    "version": 3
   },
   "file_extension": ".py",
   "mimetype": "text/x-python",
   "name": "python",
   "nbconvert_exporter": "python",
   "pygments_lexer": "ipython3",
   "version": "3.9.7"
  }
 },
 "nbformat": 4,
 "nbformat_minor": 5
}
