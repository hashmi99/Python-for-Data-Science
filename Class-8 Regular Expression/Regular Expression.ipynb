{
 "cells": [
  {
   "cell_type": "markdown",
   "id": "71e4aa97",
   "metadata": {},
   "source": [
    "# Regular Expression\n",
    "\n",
    "* Sequence of character\n",
    "* It is to search the specific pattern\n",
    "* Package -----> import re"
   ]
  },
  {
   "cell_type": "code",
   "execution_count": 3,
   "id": "9a8d6f64",
   "metadata": {},
   "outputs": [
    {
     "data": {
      "text/plain": [
       "['PK', 'PK']"
      ]
     },
     "execution_count": 3,
     "metadata": {},
     "output_type": "execute_result"
    }
   ],
   "source": [
    "import re #import regular expression package\n",
    "\n",
    "x = \"\"\" \n",
    " Pakistan is my identity PKR PK IST KHI\n",
    "\"\"\"\n",
    "\n",
    "re.findall(\"PK\", x)   # For Intelligence shift + Tab  "
   ]
  },
  {
   "cell_type": "markdown",
   "id": "31c34f23",
   "metadata": {},
   "source": [
    "## Pattern -----> That has to be searched\n",
    "## String........> From Where to search\n"
   ]
  },
  {
   "cell_type": "markdown",
   "id": "bad7f971",
   "metadata": {},
   "source": [
    "# Search with \"Second\" Character Optional\n",
    "\n",
    "* [  ]----> Special character\n",
    "* [  ] ----> Any thing written in it would be picked with fixed one"
   ]
  },
  {
   "cell_type": "code",
   "execution_count": 14,
   "id": "bfb1e1d6",
   "metadata": {},
   "outputs": [
    {
     "data": {
      "text/plain": [
       "['Pa', 'PK', 'PK']"
      ]
     },
     "execution_count": 14,
     "metadata": {},
     "output_type": "execute_result"
    }
   ],
   "source": [
    "x = \"\"\" \n",
    " Pakistan is my identity PKR PK IST KHI\n",
    "\"\"\"\n",
    "\n",
    "re.findall(\"P[aKR]\", x)   # For Intelligence shift + Tab  "
   ]
  },
  {
   "cell_type": "markdown",
   "id": "6849d6a3",
   "metadata": {},
   "source": [
    "# Converting any special character to normal \"\\\"\n",
    "\n",
    "* To convert any special character to normal just type '\\' (back-slash) before it"
   ]
  },
  {
   "cell_type": "code",
   "execution_count": 17,
   "id": "f827f7d9",
   "metadata": {},
   "outputs": [
    {
     "data": {
      "text/plain": [
       "['P [aKR]']"
      ]
     },
     "execution_count": 17,
     "metadata": {},
     "output_type": "execute_result"
    }
   ],
   "source": [
    "x = \"\"\" \n",
    " Pakistan is my identity PKR PK IST KHI\n",
    "\"\"\"\n",
    "\n",
    "re.findall(\"P[aKR]\", x)   # For Intelligence shift + Tab  "
   ]
  },
  {
   "cell_type": "markdown",
   "id": "4c72483a",
   "metadata": {},
   "source": [
    "# 'r' is to convert the special charaters to be read as raw-expression without any special meaning\n",
    "\n",
    "* It can be studeied further (https://gaurav-patil21.medium.com/why-do-we-use-r-in-regular-expressions-regex-52100dc7ce41)"
   ]
  },
  {
   "cell_type": "code",
   "execution_count": 25,
   "id": "37dc9bda",
   "metadata": {},
   "outputs": [
    {
     "data": {
      "text/plain": [
       "['|', '|']"
      ]
     },
     "execution_count": 25,
     "metadata": {},
     "output_type": "execute_result"
    }
   ],
   "source": [
    "x = \"\"\" \n",
    " Pakistan is my \\|identity PKR PK \\|IST KHI\n",
    "\"\"\"\n",
    "\n",
    "re.findall(r\"\\|\", x)   # For Intelligence shift + Tab  "
   ]
  },
  {
   "cell_type": "code",
   "execution_count": 26,
   "id": "6daf8928",
   "metadata": {},
   "outputs": [
    {
     "data": {
      "text/plain": [
       "['\\\\', '\\\\']"
      ]
     },
     "execution_count": 26,
     "metadata": {},
     "output_type": "execute_result"
    }
   ],
   "source": [
    "x = \"\"\" \n",
    " Pakistan is my \\|identity PKR PK \\|IST KHI\n",
    "\"\"\"\n",
    "\n",
    "re.findall(r\"\\\\\", x)   # For Intelligence shift + Tab  "
   ]
  },
  {
   "cell_type": "markdown",
   "id": "8842d427",
   "metadata": {},
   "source": [
    "# {} ------> It defines the length of expression to search"
   ]
  },
  {
   "cell_type": "code",
   "execution_count": 28,
   "id": "2eb0cabe",
   "metadata": {},
   "outputs": [
    {
     "data": {
      "text/plain": [
       "['123', '123', '123', '123', '456', '321', '363', '126', '333', '837', '615']"
      ]
     },
     "execution_count": 28,
     "metadata": {},
     "output_type": "execute_result"
    }
   ],
   "source": [
    "x = \"\"\"\n",
    "12 123 1234 12345 1234567 321 3637 1263 333 837 615\n",
    "\"\"\"\n",
    "\n",
    "re.findall(\"[0-9]{3}\", x)"
   ]
  },
  {
   "cell_type": "markdown",
   "id": "bdba9ad9",
   "metadata": {},
   "source": [
    "## Previous code just pick the three elements but we require that it only pick the number with three character only\n",
    "\n",
    "* Put r before \\n, \\b to tell the interpreter to read this as a single character"
   ]
  },
  {
   "cell_type": "markdown",
   "id": "bce5c544",
   "metadata": {},
   "source": [
    "# \\b -----> for boundry"
   ]
  },
  {
   "cell_type": "code",
   "execution_count": 32,
   "id": "4038e488",
   "metadata": {},
   "outputs": [
    {
     "data": {
      "text/plain": [
       "['123', '321', '333', '837', '615']"
      ]
     },
     "execution_count": 32,
     "metadata": {},
     "output_type": "execute_result"
    }
   ],
   "source": [
    "x = \"\"\"\n",
    "12 123 1234 12345 1234567 321 3637 1263 333 837 615\n",
    "\"\"\"\n",
    "\n",
    "re.findall(r\"\\b[0-9]{3}\\b\", x)"
   ]
  },
  {
   "cell_type": "markdown",
   "id": "b02651a4",
   "metadata": {},
   "source": [
    "# Password Checking"
   ]
  },
  {
   "cell_type": "code",
   "execution_count": 42,
   "id": "ae49e6ae",
   "metadata": {},
   "outputs": [
    {
     "data": {
      "text/plain": [
       "['aAB1', 'AbA2', 'HjA3', 'IuI5', 'PoY6']"
      ]
     },
     "execution_count": 42,
     "metadata": {},
     "output_type": "execute_result"
    }
   ],
   "source": [
    "a = \"\"\" \n",
    "\n",
    "aAB1 AbA2 HjA3 IuI5 PoY6\n",
    "\n",
    "\"\"\"\n",
    "\n",
    "re.findall(r\"\\b[A-z 0-9]{4}\\b\", a)"
   ]
  },
  {
   "cell_type": "markdown",
   "id": "3624f0c6",
   "metadata": {},
   "source": [
    "# CNIC Numbers Search\n",
    "\n",
    "* 12345-1234567-1"
   ]
  },
  {
   "cell_type": "code",
   "execution_count": 44,
   "id": "359f40da",
   "metadata": {},
   "outputs": [
    {
     "data": {
      "text/plain": [
       "['12345-1234567-1', '12345-1234568-9']"
      ]
     },
     "execution_count": 44,
     "metadata": {},
     "output_type": "execute_result"
    }
   ],
   "source": [
    "b = \"\"\"\n",
    "\n",
    "12345-1234567-1\n",
    "12345-1234568-9\n",
    "123412345671\n",
    "123412345672\n",
    "123412345671123412345672\n",
    "\n",
    "\"\"\"\n",
    "re.findall(r\"\\b[0-9]{5}-[0-9]{7}-[0-9]{1}\\b\", b)"
   ]
  },
  {
   "cell_type": "markdown",
   "id": "1d71bfb2",
   "metadata": {},
   "source": [
    "# To make anything optional ------> ?\n",
    "\n",
    "* In CNIC make (-) optional"
   ]
  },
  {
   "cell_type": "code",
   "execution_count": 56,
   "id": "fa92dd11",
   "metadata": {},
   "outputs": [
    {
     "data": {
      "text/plain": [
       "['12345-1234567-1', '12345-1234568-9', '1234512345671', '1234512345672']"
      ]
     },
     "execution_count": 56,
     "metadata": {},
     "output_type": "execute_result"
    }
   ],
   "source": [
    "b = \"\"\"\n",
    "\n",
    "12345-1234567-1\n",
    "12345-1234568-9\n",
    "1234512345671\n",
    "1234512345672\n",
    "1234512345671123412345672\n",
    "\n",
    "\"\"\"\n",
    "re.findall(r\"\\b[0-9]{5}-?[0-9]{7}-?[0-9]{1}\\b\", b)\n"
   ]
  },
  {
   "cell_type": "code",
   "execution_count": 57,
   "id": "1c994bf2",
   "metadata": {},
   "outputs": [
    {
     "data": {
      "text/plain": [
       "False"
      ]
     },
     "execution_count": 57,
     "metadata": {},
     "output_type": "execute_result"
    }
   ],
   "source": [
    "'12345-1234567-1' == '1234512345671'"
   ]
  },
  {
   "cell_type": "code",
   "execution_count": 61,
   "id": "712af7a9",
   "metadata": {},
   "outputs": [
    {
     "data": {
      "text/plain": [
       "True"
      ]
     },
     "execution_count": 61,
     "metadata": {},
     "output_type": "execute_result"
    }
   ],
   "source": [
    "'12345-1234567-1' .replace ('-', '') == '1234512345671'"
   ]
  },
  {
   "cell_type": "markdown",
   "id": "d3963478",
   "metadata": {},
   "source": [
    "# To search numbers from any text\n",
    "\n",
    "* + -----> Means number of any length\n",
    "* re.findall (r\"\\b[0-9]+\\b\", l)"
   ]
  },
  {
   "cell_type": "code",
   "execution_count": 63,
   "id": "49a198c0",
   "metadata": {},
   "outputs": [
    {
     "data": {
      "text/plain": [
       "['40', '284', '2', '323', '4', '11', '237', '600']"
      ]
     },
     "execution_count": 63,
     "metadata": {},
     "output_type": "execute_result"
    }
   ],
   "source": [
    "l = \"\"\" \n",
    "\"We were shaken like a cradle. There were nine of us at home. Two sons of mine are still in the rubble, I'm waiting for them,\" said one woman, her arm broken and wounds on her face as she spoke in an ambulance near the wreckage of the seven-storey block where she lived in Diyarbakir.\n",
    "\n",
    "\"I have never felt anything like it in the 40 years I've lived,\" said Erdem, a resident of the Turkish city of Gaziantep, near the quake's epicentre, who declined to give his surname.\n",
    "\n",
    "\"We were shaken at least three times very strongly.\"\n",
    "\n",
    "Turkey's vice president Fuat Oktay said 284 people had been killed and 2,323 people were injured, as authorities scrambled rescue teams and supply aircraft to the affected area, while declaring a \"level 4 alarm\" that calls for international assistance.\n",
    "\n",
    "In Syria, already devastated by more than 11 years of civil war, a government health official said more than 237 people had been killed and some 600 injured, most in the provinces of Hama, Aleppo and Latakia, where numerous buildings tumbled down.\n",
    "\"\"\"\n",
    "\n",
    "re.findall (r\"\\b[0-9]+\\b\", l)"
   ]
  },
  {
   "cell_type": "markdown",
   "id": "6ce5350f",
   "metadata": {},
   "source": [
    "# To ignore something and pick the rest use '^'\n",
    "\n",
    "* re.findall (r\"\\b[^0-9]+\\b\", k)"
   ]
  },
  {
   "cell_type": "code",
   "execution_count": 66,
   "id": "9f0b6694",
   "metadata": {},
   "outputs": [
    {
     "data": {
      "text/plain": [
       "[\"Turkey's vice president Fuat Oktay said \",\n",
       " ' people had been killed and ',\n",
       " ',']"
      ]
     },
     "execution_count": 66,
     "metadata": {},
     "output_type": "execute_result"
    }
   ],
   "source": [
    "k = \"\"\" \n",
    "Turkey's vice president Fuat Oktay said 284 people had been killed and 2,323 \n",
    "\n",
    "\"\"\"\n",
    "re.findall (r\"\\b[^0-9]+\\b\", k)"
   ]
  },
  {
   "cell_type": "code",
   "execution_count": 67,
   "id": "7c930b35",
   "metadata": {},
   "outputs": [
    {
     "data": {
      "text/plain": [
       "[\"'\", ' ', ' ', ' ', ' ', ' ', ' 284 ', ' ', ' ', ' ', ' ', ' 2,323']"
      ]
     },
     "execution_count": 67,
     "metadata": {},
     "output_type": "execute_result"
    }
   ],
   "source": [
    "k = \"\"\" \n",
    "Turkey's vice president Fuat Oktay said 284 people had been killed and 2,323 \n",
    "\n",
    "\"\"\"\n",
    "re.findall (r\"\\b[^A-z]+\\b\", k)"
   ]
  },
  {
   "cell_type": "markdown",
   "id": "e50bb62e",
   "metadata": {},
   "source": [
    "# Email"
   ]
  },
  {
   "cell_type": "code",
   "execution_count": 77,
   "id": "d08b6313",
   "metadata": {},
   "outputs": [
    {
     "data": {
      "text/plain": [
       "['abs@gmail.com', 'saz@gmail.com', 'shd@gmail@kkdj.com']"
      ]
     },
     "execution_count": 77,
     "metadata": {},
     "output_type": "execute_result"
    }
   ],
   "source": [
    "p = \"\"\"\n",
    "\n",
    "abs@gmail.com\n",
    "saz@gmail.com\n",
    "shd@gmail@kkdj.com\n",
    "\"\"\"\n",
    "\n",
    "re.findall(r\"\\b[A-z 0-9 _ - .]+@[A-z 0-9]+.[A-z 0-9]+.?[A-z]+\\b\", p)"
   ]
  },
  {
   "cell_type": "markdown",
   "id": "ab95b24e",
   "metadata": {},
   "source": [
    "# ?? -----> can be used to stop the experession at minumum length"
   ]
  },
  {
   "cell_type": "code",
   "execution_count": 88,
   "id": "a9eda735",
   "metadata": {},
   "outputs": [
    {
     "data": {
      "text/plain": [
       "['abs@gmail.com', 'saz@gmail.com', 'shd@gmail@kkdj.com']"
      ]
     },
     "execution_count": 88,
     "metadata": {},
     "output_type": "execute_result"
    }
   ],
   "source": [
    "p = \"\"\"\n",
    "\n",
    "abs@gmail.com\n",
    "saz@gmail.com\n",
    "shd@gmail@kkdj.com\n",
    "\"\"\"\n",
    "\n",
    "re.findall(r\"\\b[A-z 0-9 _ - .]+@??[A-z 0-9]+.[A-z 0-9]+.?[A-z]+\\b\", p) # These two ? will stop the email address finder at first @"
   ]
  },
  {
   "cell_type": "code",
   "execution_count": null,
   "id": "f23d1e95",
   "metadata": {},
   "outputs": [],
   "source": [
    "## . ----> Anything except /n\n",
    "## + ----> 1 or Many\n",
    "## * ----> 0 or Many"
   ]
  },
  {
   "cell_type": "code",
   "execution_count": 94,
   "id": "54698879",
   "metadata": {},
   "outputs": [
    {
     "data": {
      "text/plain": [
       "['abs@gmail.com', 'saz@gmail.com', 'shd@gmail@kkdj.com']"
      ]
     },
     "execution_count": 94,
     "metadata": {},
     "output_type": "execute_result"
    }
   ],
   "source": [
    "p = \"\"\"\n",
    "\n",
    "abs@gmail.com\n",
    "saz@gmail.com\n",
    "shd@gmail@kkdj.com\n",
    "\"\"\"\n",
    "\n",
    "re.findall(r\"\\b.+@[A-z 0-9]+.[A-z 0-9]+.?[A-z]+\\b\", p) "
   ]
  },
  {
   "cell_type": "markdown",
   "id": "2f1f7638",
   "metadata": {},
   "source": [
    "# Pick address starts from s only\n",
    "\n",
    "* Multiline means when there is \\n, consider it as a new pattern"
   ]
  },
  {
   "cell_type": "code",
   "execution_count": 97,
   "id": "c21912e3",
   "metadata": {},
   "outputs": [
    {
     "data": {
      "text/plain": [
       "['saz@gmail.com', 'shd@gmail@kkdj.com']"
      ]
     },
     "execution_count": 97,
     "metadata": {},
     "output_type": "execute_result"
    }
   ],
   "source": [
    "p = \"\"\"\n",
    "\n",
    "abs@gmail.com\n",
    "saz@gmail.com\n",
    "shd@gmail@kkdj.com\n",
    "\"\"\"\n",
    "\n",
    "re.findall(r\"^s.+\", p, re.MULTILINE) "
   ]
  },
  {
   "cell_type": "markdown",
   "id": "3219ca2d",
   "metadata": {},
   "source": [
    "# Dollar Sign----- means end\n"
   ]
  },
  {
   "cell_type": "code",
   "execution_count": 98,
   "id": "33d82964",
   "metadata": {},
   "outputs": [
    {
     "data": {
      "text/plain": [
       "['abs@gmail.com', 'saz@gmail.com', 'shd@gmail@kkdj.com']"
      ]
     },
     "execution_count": 98,
     "metadata": {},
     "output_type": "execute_result"
    }
   ],
   "source": [
    "p = \"\"\"\n",
    "\n",
    "abs@gmail.com\n",
    "saz@gmail.com\n",
    "shd@gmail@kkdj.com\n",
    "\"\"\"\n",
    "\n",
    "re.findall(r\".+m$\", p, re.MULTILINE) # It means start from anywhere but end on m"
   ]
  },
  {
   "cell_type": "code",
   "execution_count": 100,
   "id": "90b76a03",
   "metadata": {},
   "outputs": [
    {
     "data": {
      "text/plain": [
       "['</g>',\n",
       " '</g>',\n",
       " '</svg>',\n",
       " '</span>',\n",
       " '</div>',\n",
       " '<div class=\"logo-green\" style=\"display: none\"><img src=\"https://www.geo.tv/assets/front/images/logo-green.svg\"> </div>',\n",
       " '</a>',\n",
       " '</div>',\n",
       " '</div>',\n",
       " '<div class=\"header-right\">',\n",
       " '<ul>',\n",
       " '<li>',\n",
       " '<div class=\"live-btn\">',\n",
       " '<a onclick=\"analyticsFunc(this)\" data-event=\"tvc_top_navigation\" data-event_action=\"live_tv\" data-page_type=\"Homepage\" href=\"https://live.geo.tv/\" target=\"_blank\">',\n",
       " '<div class=\"icon\" style=\"display: block\">',\n",
       " '<img src=\"https://www.geo.tv/assets/front/images/GEO-TV-ICONS2.png\">',\n",
       " '</div>',\n",
       " '</a>',\n",
       " '</div>',\n",
       " '</li>',\n",
       " '</ul>',\n",
       " '</div>',\n",
       " '<div class=\"clearfix\"></div>',\n",
       " '</div>',\n",
       " '</div>',\n",
       " '<div class=\"desktop-header\">',\n",
       " '<div class=\"header_top\">',\n",
       " '<div class=\"container\">',\n",
       " '<div class=\"h_top_center\">',\n",
       " '<div class=\"logo-blck\" style=\"width:150px;margin:0 auto;\">',\n",
       " '<a onclick=\"analyticsFunc(this)\" data-event=\"tvc_top_navigation\" data-event_action=\"GeoLogo_click\" data-page_type=\"Homepage\" href=\"https://www.geo.tv/\">',\n",
       " '<span>',\n",
       " '<svg xmlns=\"http://www.w3.org/2000/svg\" viewBox=\"300.588 289.688 418.512 75.125\">',\n",
       " '<defs>',\n",
       " '<style>']"
      ]
     },
     "execution_count": 100,
     "metadata": {},
     "output_type": "execute_result"
    }
   ],
   "source": [
    "o = \"\"\" \n",
    "</g>\n",
    "</g>\n",
    "</svg>\n",
    "</span>\n",
    "</div>\n",
    "<div class=\"logo-green\" style=\"display: none\"><img src=\"https://www.geo.tv/assets/front/images/logo-green.svg\"> </div>\n",
    "</a>\n",
    "</div>\n",
    "</div>\n",
    "<div class=\"header-right\">\n",
    "<ul>\n",
    "<li>\n",
    "<div class=\"live-btn\">\n",
    "<a onclick=\"analyticsFunc(this)\" data-event=\"tvc_top_navigation\" data-event_action=\"live_tv\" data-page_type=\"Homepage\" href=\"https://live.geo.tv/\" target=\"_blank\">\n",
    "<div class=\"icon\" style=\"display: block\">\n",
    "<img src=\"https://www.geo.tv/assets/front/images/GEO-TV-ICONS2.png\">\n",
    "</div>\n",
    "</a>\n",
    "</div>\n",
    "</li>\n",
    "</ul>\n",
    "</div>\n",
    "<div class=\"clearfix\"></div>\n",
    "</div>\n",
    "</div>\n",
    "<div class=\"desktop-header\">\n",
    "<div class=\"header_top\">\n",
    "<div class=\"container\">\n",
    "<div class=\"h_top_center\">\n",
    "<div class=\"logo-blck\" style=\"width:150px;margin:0 auto;\">\n",
    "<a onclick=\"analyticsFunc(this)\" data-event=\"tvc_top_navigation\" data-event_action=\"GeoLogo_click\" data-page_type=\"Homepage\" href=\"https://www.geo.tv/\">\n",
    "<span>\n",
    "<svg xmlns=\"http://www.w3.org/2000/svg\" viewBox=\"300.588 289.688 418.512 75.125\">\n",
    "<defs>\n",
    "<style>\n",
    "                                        .cls-1 {\n",
    "\"\"\"\n",
    "\n",
    "re.findall (\"<.*>\", o)  # .* means pick everything between <>"
   ]
  },
  {
   "cell_type": "markdown",
   "id": "2c68ba1b",
   "metadata": {},
   "source": [
    "# Pick up to short length with ?"
   ]
  },
  {
   "cell_type": "code",
   "execution_count": 101,
   "id": "1804b5dd",
   "metadata": {},
   "outputs": [
    {
     "data": {
      "text/plain": [
       "['</g>',\n",
       " '</g>',\n",
       " '</svg>',\n",
       " '</span>',\n",
       " '</div>',\n",
       " '<div class=\"logo-green\" style=\"display: none\">',\n",
       " '<img src=\"https://www.geo.tv/assets/front/images/logo-green.svg\">',\n",
       " '</div>',\n",
       " '</a>',\n",
       " '</div>',\n",
       " '</div>',\n",
       " '<div class=\"header-right\">',\n",
       " '<ul>',\n",
       " '<li>',\n",
       " '<div class=\"live-btn\">',\n",
       " '<a onclick=\"analyticsFunc(this)\" data-event=\"tvc_top_navigation\" data-event_action=\"live_tv\" data-page_type=\"Homepage\" href=\"https://live.geo.tv/\" target=\"_blank\">',\n",
       " '<div class=\"icon\" style=\"display: block\">',\n",
       " '<img src=\"https://www.geo.tv/assets/front/images/GEO-TV-ICONS2.png\">',\n",
       " '</div>',\n",
       " '</a>',\n",
       " '</div>',\n",
       " '</li>',\n",
       " '</ul>',\n",
       " '</div>',\n",
       " '<div class=\"clearfix\">',\n",
       " '</div>',\n",
       " '</div>',\n",
       " '</div>',\n",
       " '<div class=\"desktop-header\">',\n",
       " '<div class=\"header_top\">',\n",
       " '<div class=\"container\">',\n",
       " '<div class=\"h_top_center\">',\n",
       " '<div class=\"logo-blck\" style=\"width:150px;margin:0 auto;\">',\n",
       " '<a onclick=\"analyticsFunc(this)\" data-event=\"tvc_top_navigation\" data-event_action=\"GeoLogo_click\" data-page_type=\"Homepage\" href=\"https://www.geo.tv/\">',\n",
       " '<span>',\n",
       " '<svg xmlns=\"http://www.w3.org/2000/svg\" viewBox=\"300.588 289.688 418.512 75.125\">',\n",
       " '<defs>',\n",
       " '<style>']"
      ]
     },
     "execution_count": 101,
     "metadata": {},
     "output_type": "execute_result"
    }
   ],
   "source": [
    "o = \"\"\" \n",
    "</g>\n",
    "</g>\n",
    "</svg>\n",
    "</span>\n",
    "</div>\n",
    "<div class=\"logo-green\" style=\"display: none\"><img src=\"https://www.geo.tv/assets/front/images/logo-green.svg\"> </div>\n",
    "</a>\n",
    "</div>\n",
    "</div>\n",
    "<div class=\"header-right\">\n",
    "<ul>\n",
    "<li>\n",
    "<div class=\"live-btn\">\n",
    "<a onclick=\"analyticsFunc(this)\" data-event=\"tvc_top_navigation\" data-event_action=\"live_tv\" data-page_type=\"Homepage\" href=\"https://live.geo.tv/\" target=\"_blank\">\n",
    "<div class=\"icon\" style=\"display: block\">\n",
    "<img src=\"https://www.geo.tv/assets/front/images/GEO-TV-ICONS2.png\">\n",
    "</div>\n",
    "</a>\n",
    "</div>\n",
    "</li>\n",
    "</ul>\n",
    "</div>\n",
    "<div class=\"clearfix\"></div>\n",
    "</div>\n",
    "</div>\n",
    "<div class=\"desktop-header\">\n",
    "<div class=\"header_top\">\n",
    "<div class=\"container\">\n",
    "<div class=\"h_top_center\">\n",
    "<div class=\"logo-blck\" style=\"width:150px;margin:0 auto;\">\n",
    "<a onclick=\"analyticsFunc(this)\" data-event=\"tvc_top_navigation\" data-event_action=\"GeoLogo_click\" data-page_type=\"Homepage\" href=\"https://www.geo.tv/\">\n",
    "<span>\n",
    "<svg xmlns=\"http://www.w3.org/2000/svg\" viewBox=\"300.588 289.688 418.512 75.125\">\n",
    "<defs>\n",
    "<style>\n",
    "                                        .cls-1 {\n",
    "\"\"\"\n",
    "\n",
    "re.findall (\"<.*?>\", o)  # .*? means pick everything between <>, ? means pick upto short length"
   ]
  },
  {
   "cell_type": "code",
   "execution_count": null,
   "id": "b4b44bcf",
   "metadata": {},
   "outputs": [],
   "source": []
  }
 ],
 "metadata": {
  "kernelspec": {
   "display_name": "Python 3 (ipykernel)",
   "language": "python",
   "name": "python3"
  },
  "language_info": {
   "codemirror_mode": {
    "name": "ipython",
    "version": 3
   },
   "file_extension": ".py",
   "mimetype": "text/x-python",
   "name": "python",
   "nbconvert_exporter": "python",
   "pygments_lexer": "ipython3",
   "version": "3.9.7"
  }
 },
 "nbformat": 4,
 "nbformat_minor": 5
}
