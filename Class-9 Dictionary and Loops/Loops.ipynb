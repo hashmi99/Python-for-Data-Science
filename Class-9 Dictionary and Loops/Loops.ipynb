{
 "cells": [
  {
   "cell_type": "markdown",
   "id": "2e0b189b",
   "metadata": {},
   "source": [
    "# Loops\n",
    "\n",
    "## We run loop on iterated datatype"
   ]
  },
  {
   "cell_type": "code",
   "execution_count": 3,
   "id": "0c340b27",
   "metadata": {},
   "outputs": [
    {
     "data": {
      "text/plain": [
       "False"
      ]
     },
     "execution_count": 3,
     "metadata": {},
     "output_type": "execute_result"
    }
   ],
   "source": [
    "l1 = [\"Pak\", \"Hind\", \"Mil\"]\n",
    "'Pak' in l1"
   ]
  },
  {
   "cell_type": "markdown",
   "id": "f3670362",
   "metadata": {},
   "source": [
    "# For Loop"
   ]
  },
  {
   "cell_type": "code",
   "execution_count": 4,
   "id": "c6c07d84",
   "metadata": {},
   "outputs": [
    {
     "name": "stdout",
     "output_type": "stream",
     "text": [
      "Pak\n",
      "Hind\n",
      "Mil\n"
     ]
    }
   ],
   "source": [
    "for abc in l1:  # abc is a local variable\n",
    "    print(abc)"
   ]
  },
  {
   "cell_type": "code",
   "execution_count": 5,
   "id": "cce25814",
   "metadata": {},
   "outputs": [
    {
     "name": "stdout",
     "output_type": "stream",
     "text": [
      "Name\n",
      "Father_Name\n",
      "Age\n",
      "Education\n",
      "1\n"
     ]
    }
   ],
   "source": [
    "data = {\"Name\":\"Shahzad\", \n",
    "        \"Father_Name\": \"M. Azam\",\n",
    "         \"Age\": 30,\n",
    "          \"Education\": \"PGDIDS\",\n",
    "           1: \"University\"}\n",
    "\n",
    "for i in data:\n",
    "    print (i)"
   ]
  },
  {
   "cell_type": "markdown",
   "id": "acb69d14",
   "metadata": {},
   "source": [
    "# data.item"
   ]
  },
  {
   "cell_type": "code",
   "execution_count": 6,
   "id": "4c47b782",
   "metadata": {},
   "outputs": [
    {
     "name": "stdout",
     "output_type": "stream",
     "text": [
      "('Name', 'Shahzad')\n",
      "('Father_Name', 'M. Azam')\n",
      "('Age', 30)\n",
      "('Education', 'PGDIDS')\n",
      "(1, 'University')\n"
     ]
    }
   ],
   "source": [
    "data = {\"Name\":\"Shahzad\", \n",
    "        \"Father_Name\": \"M. Azam\",\n",
    "         \"Age\": 30,\n",
    "          \"Education\": \"PGDIDS\",\n",
    "           1: \"University\"}\n",
    "\n",
    "for i in data.items():\n",
    "    print (i)"
   ]
  },
  {
   "cell_type": "code",
   "execution_count": 10,
   "id": "61bcc319",
   "metadata": {},
   "outputs": [
    {
     "name": "stdout",
     "output_type": "stream",
     "text": [
      "Name Shahzad\n",
      "Father_Name M. Azam\n",
      "Age 30\n",
      "Education PGDIDS\n",
      "1 University\n"
     ]
    }
   ],
   "source": [
    "data = {\"Name\":\"Shahzad\", \n",
    "        \"Father_Name\": \"M. Azam\",\n",
    "         \"Age\": 30,\n",
    "          \"Education\": \"PGDIDS\",\n",
    "           1: \"University\"}\n",
    "\n",
    "for i,j in data.items():\n",
    "    print (i,j)"
   ]
  },
  {
   "cell_type": "code",
   "execution_count": 16,
   "id": "a45be9ab",
   "metadata": {},
   "outputs": [
    {
     "name": "stdout",
     "output_type": "stream",
     "text": [
      "Key is : Name | Item is : Shahzad\n",
      "Key is : Father_Name | Item is : M. Azam\n",
      "Key is : Age | Item is : 30\n",
      "Key is : Education | Item is : PGDIDS\n",
      "Key is : 1 | Item is : University\n"
     ]
    }
   ],
   "source": [
    "data = {\"Name\":\"Shahzad\", \n",
    "        \"Father_Name\": \"M. Azam\",\n",
    "         \"Age\": 30,\n",
    "          \"Education\": \"PGDIDS\",\n",
    "           1: \"University\"}\n",
    "\n",
    "for i,j in data.items():\n",
    "    print (f\"Key is : {i} | Item is : {j}\")"
   ]
  },
  {
   "cell_type": "code",
   "execution_count": 20,
   "id": "b3ba2d0b",
   "metadata": {},
   "outputs": [
    {
     "name": "stdout",
     "output_type": "stream",
     "text": [
      "Shahzad\n",
      "M. Azam\n",
      "30\n",
      "PGDIDS\n",
      "University\n"
     ]
    }
   ],
   "source": [
    "data = {\"Name\":\"Shahzad\", \n",
    "        \"Father_Name\": \"M. Azam\",\n",
    "         \"Age\": 30,\n",
    "          \"Education\": \"PGDIDS\",\n",
    "           1: \"University\"}\n",
    "\n",
    "for i in data.values():\n",
    "    print (i)"
   ]
  },
  {
   "cell_type": "code",
   "execution_count": 21,
   "id": "721f9c86",
   "metadata": {},
   "outputs": [
    {
     "name": "stdout",
     "output_type": "stream",
     "text": [
      "P\n",
      "a\n",
      "k\n",
      "i\n",
      "s\n",
      "t\n",
      "a\n",
      "n\n",
      " \n",
      "A\n",
      "r\n",
      "m\n",
      "y\n",
      " \n",
      "Z\n",
      "i\n",
      "n\n",
      "d\n",
      "a\n",
      "b\n",
      "a\n",
      "d\n"
     ]
    }
   ],
   "source": [
    "k = \"Pakistan Army Zindabad\"\n",
    "for i in k:\n",
    "    print (i)"
   ]
  },
  {
   "cell_type": "markdown",
   "id": "32445f36",
   "metadata": {},
   "source": [
    "# When working with database the completed task must be deleted and save in some other place for backup\n",
    "\n",
    "## Types of Function\n",
    "\n",
    "* Return Funtcion\n",
    "* Non Return Function"
   ]
  },
  {
   "cell_type": "markdown",
   "id": "fa86474d",
   "metadata": {},
   "source": [
    "# Return Function ----> Function whose output can be stores in some variable.\n",
    "# Non-Return Function ---> Function whose output cannot be stores in some variable\n",
    "\n"
   ]
  },
  {
   "cell_type": "markdown",
   "id": "f70965ef",
   "metadata": {},
   "source": [
    "# Pop Function ----> It delets and returns key:value pair"
   ]
  },
  {
   "cell_type": "code",
   "execution_count": 24,
   "id": "773d59fb",
   "metadata": {},
   "outputs": [
    {
     "name": "stdout",
     "output_type": "stream",
     "text": [
      "{'Father_Name': 'M. Azam', 'Age': 30, 'Education': 'PGDIDS', 1: 'University'}\n",
      "Deleted Shahzad\n"
     ]
    }
   ],
   "source": [
    "data = {\"Name\":\"Shahzad\", \n",
    "        \"Father_Name\": \"M. Azam\",\n",
    "         \"Age\": 30,\n",
    "          \"Education\": \"PGDIDS\",\n",
    "           1: \"University\"}\n",
    "\n",
    "for i in data.values():\n",
    "    print (i)"
   ]
  },
  {
   "cell_type": "code",
   "execution_count": 28,
   "id": "d0a704b9",
   "metadata": {},
   "outputs": [
    {
     "name": "stdout",
     "output_type": "stream",
     "text": [
      "['Shahzad']\n",
      "['Shahzad', 30]\n"
     ]
    }
   ],
   "source": [
    "CT = []\n",
    "data = {\"Name\":\"Shahzad\", \n",
    "        \"Father_Name\": \"M. Azam\",\n",
    "         \"Age\": 30,\n",
    "          \"Education\": \"PGDIDS\",\n",
    "           1: \"University\"}\n",
    "\n",
    "a = data.pop(\"Name\")\n",
    "b = CT.append(a)\n",
    "print(CT)\n",
    "\n",
    "a = data.pop(\"Age\")\n",
    "b = CT.append(a)\n",
    "print(CT)"
   ]
  },
  {
   "cell_type": "markdown",
   "id": "6ff74d17",
   "metadata": {},
   "source": [
    "# Pop Revoves automaticall form end/last "
   ]
  },
  {
   "cell_type": "code",
   "execution_count": 31,
   "id": "927cf6ff",
   "metadata": {},
   "outputs": [
    {
     "name": "stdout",
     "output_type": "stream",
     "text": [
      "[(1, 'University')]\n"
     ]
    }
   ],
   "source": [
    "CT = []\n",
    "data = {\"Name\":\"Shahzad\", \n",
    "        \"Father_Name\": \"M. Azam\",\n",
    "         \"Age\": 30,\n",
    "          \"Education\": \"PGDIDS\",\n",
    "           1: \"University\"}\n",
    "\n",
    "a = data.popitem()\n",
    "b = CT.append(a)\n",
    "print(CT)\n"
   ]
  },
  {
   "cell_type": "code",
   "execution_count": 32,
   "id": "78fdf129",
   "metadata": {},
   "outputs": [
    {
     "name": "stdout",
     "output_type": "stream",
     "text": [
      "{'Name': 'Shahzad', 'Father_Name': 'M. Azam', 'Age': 30, 'Education': 'PGDIDS'}\n"
     ]
    }
   ],
   "source": [
    "print (data)"
   ]
  },
  {
   "cell_type": "code",
   "execution_count": null,
   "id": "6676feb3",
   "metadata": {},
   "outputs": [],
   "source": []
  }
 ],
 "metadata": {
  "kernelspec": {
   "display_name": "Python 3 (ipykernel)",
   "language": "python",
   "name": "python3"
  },
  "language_info": {
   "codemirror_mode": {
    "name": "ipython",
    "version": 3
   },
   "file_extension": ".py",
   "mimetype": "text/x-python",
   "name": "python",
   "nbconvert_exporter": "python",
   "pygments_lexer": "ipython3",
   "version": "3.9.7"
  }
 },
 "nbformat": 4,
 "nbformat_minor": 5
}
