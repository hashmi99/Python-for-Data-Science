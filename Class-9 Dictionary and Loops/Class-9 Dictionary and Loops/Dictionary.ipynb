{
 "cells": [
  {
   "cell_type": "markdown",
   "id": "71ee737a",
   "metadata": {},
   "source": [
    "# Syntax of Dictionary\n",
    "\n",
    "{  key1: Value1,\n",
    "   key2: Value2,   \n",
    "}\n",
    "\n",
    "* Pair of key and value\n",
    "* indication {}\n",
    "* : use as separater between key and value\n",
    "* , use as separater between the pairs of key and value\n",
    "* Key data types could be specifically ----> int and str\n",
    "* Value can be any data type\n"
   ]
  },
  {
   "cell_type": "markdown",
   "id": "7b8b6299",
   "metadata": {},
   "source": [
    "# Why we require dictionary\n",
    "\n",
    "* In List to approch any data a person must need the index number of a particular data\n",
    "* Index number could be in millions\n",
    "* To avoid this the dictionary is require through which the data can be searched by using any key\n",
    "* So, in dictionary we replace index with key"
   ]
  },
  {
   "cell_type": "code",
   "execution_count": 6,
   "id": "c9df5214",
   "metadata": {},
   "outputs": [
    {
     "name": "stdout",
     "output_type": "stream",
     "text": [
      "{'Name': 'Shahzad', 'Father_Name': 'M. Azam', 'Age': 30, 'Education': 'PGDIDS', 1: 'University'}\n"
     ]
    }
   ],
   "source": [
    "data = {\"Name\":\"Shahzad\", \n",
    "        \"Father_Name\": \"M. Azam\",\n",
    "         \"Age\": 30,\n",
    "          \"Education\": \"PGDIDS\",\n",
    "           1: \"University\"}\n",
    "print (data)"
   ]
  },
  {
   "cell_type": "markdown",
   "id": "49861bc0",
   "metadata": {},
   "source": [
    "# Access Value from Dictionary\n",
    "\n",
    "### Dictionary[key]"
   ]
  },
  {
   "cell_type": "code",
   "execution_count": 8,
   "id": "0477a30f",
   "metadata": {},
   "outputs": [
    {
     "data": {
      "text/plain": [
       "'Shahzad'"
      ]
     },
     "execution_count": 8,
     "metadata": {},
     "output_type": "execute_result"
    }
   ],
   "source": [
    "data[\"Name\"]"
   ]
  },
  {
   "cell_type": "code",
   "execution_count": 10,
   "id": "1db818c7",
   "metadata": {},
   "outputs": [
    {
     "data": {
      "text/plain": [
       "'M. Azam'"
      ]
     },
     "execution_count": 10,
     "metadata": {},
     "output_type": "execute_result"
    }
   ],
   "source": [
    "data[\"Father_Name\"]"
   ]
  },
  {
   "cell_type": "code",
   "execution_count": 11,
   "id": "d63a1d67",
   "metadata": {},
   "outputs": [
    {
     "data": {
      "text/plain": [
       "'University'"
      ]
     },
     "execution_count": 11,
     "metadata": {},
     "output_type": "execute_result"
    }
   ],
   "source": [
    "data[1] # Look like passing index but it is a key "
   ]
  },
  {
   "cell_type": "markdown",
   "id": "4150a7df",
   "metadata": {},
   "source": [
    "# Dictionary was actually made to sent the data on website in Jason format\n",
    "\n",
    "## Example\n",
    "\n",
    "* https://dummyjson.com/products "
   ]
  },
  {
   "cell_type": "code",
   "execution_count": 13,
   "id": "b262533e",
   "metadata": {},
   "outputs": [
    {
     "name": "stdout",
     "output_type": "stream",
     "text": [
      "   Names Fname Course\n",
      "0  Hamza     A     ML\n",
      "1  Usman     B     DS\n",
      "2  Islam     C     HR\n"
     ]
    }
   ],
   "source": [
    "data = {\"Names\": [\"Hamza\",\"Usman\", \"Islam\"],\n",
    "        \"Fname\": [\"A\", \"B\", \"C\"],\n",
    "        \"Course\": [\"ML\", \"DS\", \"HR\"]\n",
    "       }\n",
    "import pandas as pd\n",
    "\n",
    "df= pd.DataFrame(data)\n",
    "print(df)\n",
    "                "
   ]
  },
  {
   "cell_type": "markdown",
   "id": "b7da684e",
   "metadata": {},
   "source": [
    "# Read Jason Data from Website Directly"
   ]
  },
  {
   "cell_type": "code",
   "execution_count": 15,
   "id": "4b93b22a",
   "metadata": {},
   "outputs": [
    {
     "name": "stdout",
     "output_type": "stream",
     "text": [
      "                                             products  total  skip  limit\n",
      "0   {'id': 1, 'title': 'iPhone 9', 'description': ...    100     0     30\n",
      "1   {'id': 2, 'title': 'iPhone X', 'description': ...    100     0     30\n",
      "2   {'id': 3, 'title': 'Samsung Universe 9', 'desc...    100     0     30\n",
      "3   {'id': 4, 'title': 'OPPOF19', 'description': '...    100     0     30\n",
      "4   {'id': 5, 'title': 'Huawei P30', 'description'...    100     0     30\n",
      "5   {'id': 6, 'title': 'MacBook Pro', 'description...    100     0     30\n",
      "6   {'id': 7, 'title': 'Samsung Galaxy Book', 'des...    100     0     30\n",
      "7   {'id': 8, 'title': 'Microsoft Surface Laptop 4...    100     0     30\n",
      "8   {'id': 9, 'title': 'Infinix INBOOK', 'descript...    100     0     30\n",
      "9   {'id': 10, 'title': 'HP Pavilion 15-DK1056WM',...    100     0     30\n",
      "10  {'id': 11, 'title': 'perfume Oil', 'descriptio...    100     0     30\n",
      "11  {'id': 12, 'title': 'Brown Perfume', 'descript...    100     0     30\n",
      "12  {'id': 13, 'title': 'Fog Scent Xpressio Perfum...    100     0     30\n",
      "13  {'id': 14, 'title': 'Non-Alcoholic Concentrate...    100     0     30\n",
      "14  {'id': 15, 'title': 'Eau De Perfume Spray', 'd...    100     0     30\n",
      "15  {'id': 16, 'title': 'Hyaluronic Acid Serum', '...    100     0     30\n",
      "16  {'id': 17, 'title': 'Tree Oil 30ml', 'descript...    100     0     30\n",
      "17  {'id': 18, 'title': 'Oil Free Moisturizer 100m...    100     0     30\n",
      "18  {'id': 19, 'title': 'Skin Beauty Serum.', 'des...    100     0     30\n",
      "19  {'id': 20, 'title': 'Freckle Treatment Cream- ...    100     0     30\n",
      "20  {'id': 21, 'title': '- Daal Masoor 500 grams',...    100     0     30\n",
      "21  {'id': 22, 'title': 'Elbow Macaroni - 400 gm',...    100     0     30\n",
      "22  {'id': 23, 'title': 'Orange Essence Food Flavo...    100     0     30\n",
      "23  {'id': 24, 'title': 'cereals muesli fruit nuts...    100     0     30\n",
      "24  {'id': 25, 'title': 'Gulab Powder 50 Gram', 'd...    100     0     30\n",
      "25  {'id': 26, 'title': 'Plant Hanger For Home', '...    100     0     30\n",
      "26  {'id': 27, 'title': 'Flying Wooden Bird', 'des...    100     0     30\n",
      "27  {'id': 28, 'title': '3D Embellishment Art Lamp...    100     0     30\n",
      "28  {'id': 29, 'title': 'Handcraft Chinese style',...    100     0     30\n",
      "29  {'id': 30, 'title': 'Key Holder', 'description...    100     0     30\n"
     ]
    },
    {
     "data": {
      "text/html": [
       "<div>\n",
       "<style scoped>\n",
       "    .dataframe tbody tr th:only-of-type {\n",
       "        vertical-align: middle;\n",
       "    }\n",
       "\n",
       "    .dataframe tbody tr th {\n",
       "        vertical-align: top;\n",
       "    }\n",
       "\n",
       "    .dataframe thead th {\n",
       "        text-align: right;\n",
       "    }\n",
       "</style>\n",
       "<table border=\"1\" class=\"dataframe\">\n",
       "  <thead>\n",
       "    <tr style=\"text-align: right;\">\n",
       "      <th></th>\n",
       "      <th>products</th>\n",
       "      <th>total</th>\n",
       "      <th>skip</th>\n",
       "      <th>limit</th>\n",
       "    </tr>\n",
       "  </thead>\n",
       "  <tbody>\n",
       "    <tr>\n",
       "      <th>0</th>\n",
       "      <td>{'id': 1, 'title': 'iPhone 9', 'description': ...</td>\n",
       "      <td>100</td>\n",
       "      <td>0</td>\n",
       "      <td>30</td>\n",
       "    </tr>\n",
       "    <tr>\n",
       "      <th>1</th>\n",
       "      <td>{'id': 2, 'title': 'iPhone X', 'description': ...</td>\n",
       "      <td>100</td>\n",
       "      <td>0</td>\n",
       "      <td>30</td>\n",
       "    </tr>\n",
       "    <tr>\n",
       "      <th>2</th>\n",
       "      <td>{'id': 3, 'title': 'Samsung Universe 9', 'desc...</td>\n",
       "      <td>100</td>\n",
       "      <td>0</td>\n",
       "      <td>30</td>\n",
       "    </tr>\n",
       "    <tr>\n",
       "      <th>3</th>\n",
       "      <td>{'id': 4, 'title': 'OPPOF19', 'description': '...</td>\n",
       "      <td>100</td>\n",
       "      <td>0</td>\n",
       "      <td>30</td>\n",
       "    </tr>\n",
       "    <tr>\n",
       "      <th>4</th>\n",
       "      <td>{'id': 5, 'title': 'Huawei P30', 'description'...</td>\n",
       "      <td>100</td>\n",
       "      <td>0</td>\n",
       "      <td>30</td>\n",
       "    </tr>\n",
       "  </tbody>\n",
       "</table>\n",
       "</div>"
      ],
      "text/plain": [
       "                                            products  total  skip  limit\n",
       "0  {'id': 1, 'title': 'iPhone 9', 'description': ...    100     0     30\n",
       "1  {'id': 2, 'title': 'iPhone X', 'description': ...    100     0     30\n",
       "2  {'id': 3, 'title': 'Samsung Universe 9', 'desc...    100     0     30\n",
       "3  {'id': 4, 'title': 'OPPOF19', 'description': '...    100     0     30\n",
       "4  {'id': 5, 'title': 'Huawei P30', 'description'...    100     0     30"
      ]
     },
     "execution_count": 15,
     "metadata": {},
     "output_type": "execute_result"
    }
   ],
   "source": [
    "df1 = pd.read_json(r\"https://dummyjson.com/products\")\n",
    "print(df1)\n",
    "\n",
    "df1.head()"
   ]
  },
  {
   "cell_type": "markdown",
   "id": "d722bb5e",
   "metadata": {},
   "source": [
    "# Methods to Insert Data in Empty Dictionary"
   ]
  },
  {
   "cell_type": "markdown",
   "id": "c1a83197",
   "metadata": {},
   "source": [
    "## If there is no such value that we are searching in dictionary it will give error"
   ]
  },
  {
   "cell_type": "code",
   "execution_count": 17,
   "id": "8d60daa6",
   "metadata": {},
   "outputs": [
    {
     "ename": "KeyError",
     "evalue": "'Name'",
     "output_type": "error",
     "traceback": [
      "\u001b[1;31m---------------------------------------------------------------------------\u001b[0m",
      "\u001b[1;31mKeyError\u001b[0m                                  Traceback (most recent call last)",
      "\u001b[1;32m~\\AppData\\Local\\Temp/ipykernel_17704/3563768191.py\u001b[0m in \u001b[0;36m<module>\u001b[1;34m\u001b[0m\n\u001b[0;32m      1\u001b[0m \u001b[0md\u001b[0m \u001b[1;33m=\u001b[0m \u001b[1;33m{\u001b[0m\u001b[1;33m}\u001b[0m\u001b[1;33m\u001b[0m\u001b[1;33m\u001b[0m\u001b[0m\n\u001b[0;32m      2\u001b[0m \u001b[1;33m\u001b[0m\u001b[0m\n\u001b[1;32m----> 3\u001b[1;33m \u001b[0md\u001b[0m\u001b[1;33m[\u001b[0m\u001b[1;34m\"Name\"\u001b[0m\u001b[1;33m]\u001b[0m\u001b[1;33m\u001b[0m\u001b[1;33m\u001b[0m\u001b[0m\n\u001b[0m\u001b[0;32m      4\u001b[0m \u001b[1;33m\u001b[0m\u001b[0m\n\u001b[0;32m      5\u001b[0m \u001b[0mprint\u001b[0m\u001b[1;33m(\u001b[0m\u001b[0md\u001b[0m\u001b[1;33m)\u001b[0m\u001b[1;33m\u001b[0m\u001b[1;33m\u001b[0m\u001b[0m\n",
      "\u001b[1;31mKeyError\u001b[0m: 'Name'"
     ]
    }
   ],
   "source": [
    "d = {}\n",
    "\n",
    "d[\"Name\"]\n",
    "\n",
    "print(d)\n"
   ]
  },
  {
   "cell_type": "markdown",
   "id": "c7d55f92",
   "metadata": {},
   "source": [
    "## Python provides a method to add such anonyms thing in dictionary by d[key] = \"Value\""
   ]
  },
  {
   "cell_type": "markdown",
   "id": "ba347564",
   "metadata": {},
   "source": [
    "# Insert the values in empty dictionary"
   ]
  },
  {
   "cell_type": "code",
   "execution_count": 26,
   "id": "8788a7e1",
   "metadata": {},
   "outputs": [
    {
     "name": "stdout",
     "output_type": "stream",
     "text": [
      "{'Name': 'Shahzad', 'age': 30}\n",
      "<class 'dict'>\n"
     ]
    }
   ],
   "source": [
    "d = {}\n",
    "\n",
    "d[\"Name\"] = \"Shahzad\"\n",
    "d[\"age\"] = 30\n",
    "\n",
    "print(d)\n"
   ]
  },
  {
   "cell_type": "code",
   "execution_count": 20,
   "id": "e27e102b",
   "metadata": {},
   "outputs": [
    {
     "name": "stdout",
     "output_type": "stream",
     "text": [
      "{'Name': 'Pakistan', 'age': 30}\n"
     ]
    }
   ],
   "source": [
    "d = {}\n",
    "\n",
    "d[\"Name\"] = \"Shahzad\"\n",
    "d[\"age\"] = 30\n",
    "d[\"Name\"] = \"Pakistan\"\n",
    "\n",
    "print(d)\n"
   ]
  },
  {
   "cell_type": "code",
   "execution_count": 25,
   "id": "26c676e1",
   "metadata": {},
   "outputs": [
    {
     "name": "stdout",
     "output_type": "stream",
     "text": [
      "{'Name': 'Shahzad', 'Age': 30, 'Desg.': 'Lect'}\n",
      "{'Name': 'Shahzad Hashmi', 'Age': 30, 'Desg.': 'Lect'}\n"
     ]
    }
   ],
   "source": [
    "e = {}\n",
    "\n",
    "e[\"Name\"] = \"Shahzad\"\n",
    "e[\"Age\"] = 30\n",
    "e[\"Desg.\"]= \"Lect\"\n",
    "\n",
    "print(e)\n",
    "\n",
    "e[\"Name\"] = e[\"Name\"] +  \" Hashmi\"\n",
    "print(e)"
   ]
  },
  {
   "cell_type": "code",
   "execution_count": 28,
   "id": "ec77ed1b",
   "metadata": {},
   "outputs": [
    {
     "name": "stdout",
     "output_type": "stream",
     "text": [
      "<class 'str'>\n"
     ]
    }
   ],
   "source": [
    "a = 'Pakistan'\n",
    "print(type(a))"
   ]
  },
  {
   "cell_type": "code",
   "execution_count": 29,
   "id": "c0ff7da6",
   "metadata": {},
   "outputs": [
    {
     "data": {
      "text/plain": [
       "['__class__',\n",
       " '__class_getitem__',\n",
       " '__contains__',\n",
       " '__delattr__',\n",
       " '__delitem__',\n",
       " '__dir__',\n",
       " '__doc__',\n",
       " '__eq__',\n",
       " '__format__',\n",
       " '__ge__',\n",
       " '__getattribute__',\n",
       " '__getitem__',\n",
       " '__gt__',\n",
       " '__hash__',\n",
       " '__init__',\n",
       " '__init_subclass__',\n",
       " '__ior__',\n",
       " '__iter__',\n",
       " '__le__',\n",
       " '__len__',\n",
       " '__lt__',\n",
       " '__ne__',\n",
       " '__new__',\n",
       " '__or__',\n",
       " '__reduce__',\n",
       " '__reduce_ex__',\n",
       " '__repr__',\n",
       " '__reversed__',\n",
       " '__ror__',\n",
       " '__setattr__',\n",
       " '__setitem__',\n",
       " '__sizeof__',\n",
       " '__str__',\n",
       " '__subclasshook__',\n",
       " 'clear',\n",
       " 'copy',\n",
       " 'fromkeys',\n",
       " 'get',\n",
       " 'items',\n",
       " 'keys',\n",
       " 'pop',\n",
       " 'popitem',\n",
       " 'setdefault',\n",
       " 'update',\n",
       " 'values']"
      ]
     },
     "execution_count": 29,
     "metadata": {},
     "output_type": "execute_result"
    }
   ],
   "source": [
    "dir(e)"
   ]
  },
  {
   "cell_type": "markdown",
   "id": "27ecb337",
   "metadata": {},
   "source": [
    "# Clear \n",
    "\n",
    "* Clear all the data from the dictionary it will return empty list but will retain the variable"
   ]
  },
  {
   "cell_type": "code",
   "execution_count": 31,
   "id": "f19e26bc",
   "metadata": {},
   "outputs": [
    {
     "name": "stdout",
     "output_type": "stream",
     "text": [
      "{'Name': 'Shahzad', 'Father_Name': 'M. Azam', 'Age': 30, 'Education': 'PGDIDS', 1: 'University'}\n",
      "\n",
      "{}\n"
     ]
    }
   ],
   "source": [
    "data = {\"Name\":\"Shahzad\", \n",
    "        \"Father_Name\": \"M. Azam\",\n",
    "         \"Age\": 30,\n",
    "          \"Education\": \"PGDIDS\",\n",
    "           1: \"University\"}\n",
    "print (data)\n",
    "print ()\n",
    "data.clear()\n",
    "print(data)"
   ]
  },
  {
   "cell_type": "markdown",
   "id": "8a76670a",
   "metadata": {},
   "source": [
    "# del function \n",
    "\n",
    "* It will remove the variable in which the dictionary is stored "
   ]
  },
  {
   "cell_type": "code",
   "execution_count": 32,
   "id": "22f12c5d",
   "metadata": {},
   "outputs": [
    {
     "name": "stdout",
     "output_type": "stream",
     "text": [
      "{'Name': 'Shahzad', 'Father_Name': 'M. Azam', 'Age': 30, 'Education': 'PGDIDS', 1: 'University'}\n",
      "\n"
     ]
    },
    {
     "ename": "NameError",
     "evalue": "name 'data' is not defined",
     "output_type": "error",
     "traceback": [
      "\u001b[1;31m---------------------------------------------------------------------------\u001b[0m",
      "\u001b[1;31mNameError\u001b[0m                                 Traceback (most recent call last)",
      "\u001b[1;32m~\\AppData\\Local\\Temp/ipykernel_17704/1580753370.py\u001b[0m in \u001b[0;36m<module>\u001b[1;34m\u001b[0m\n\u001b[0;32m      7\u001b[0m \u001b[0mprint\u001b[0m \u001b[1;33m(\u001b[0m\u001b[1;33m)\u001b[0m\u001b[1;33m\u001b[0m\u001b[1;33m\u001b[0m\u001b[0m\n\u001b[0;32m      8\u001b[0m \u001b[1;32mdel\u001b[0m \u001b[0mdata\u001b[0m\u001b[1;33m\u001b[0m\u001b[1;33m\u001b[0m\u001b[0m\n\u001b[1;32m----> 9\u001b[1;33m \u001b[0mprint\u001b[0m\u001b[1;33m(\u001b[0m\u001b[0mdata\u001b[0m\u001b[1;33m)\u001b[0m\u001b[1;33m\u001b[0m\u001b[1;33m\u001b[0m\u001b[0m\n\u001b[0m",
      "\u001b[1;31mNameError\u001b[0m: name 'data' is not defined"
     ]
    }
   ],
   "source": [
    "data = {\"Name\":\"Shahzad\", \n",
    "        \"Father_Name\": \"M. Azam\",\n",
    "         \"Age\": 30,\n",
    "          \"Education\": \"PGDIDS\",\n",
    "           1: \"University\"}\n",
    "print (data)\n",
    "print ()\n",
    "del data\n",
    "print(data)"
   ]
  },
  {
   "cell_type": "markdown",
   "id": "99514feb",
   "metadata": {},
   "source": [
    "# Shallow Copy \n",
    "\n",
    "### If the data has multiple names (nick names) but the attributes of the data is same. In this type of record if we make changes to any data it will implement it in all copies\n",
    "\n",
    "\n",
    "# Deep Copy\n",
    "\n",
    "### It is a separate entity and if we change in deep copy it will only be remain changed in that particular copy\n",
    "\n",
    "\n",
    "\n"
   ]
  },
  {
   "cell_type": "code",
   "execution_count": 34,
   "id": "468558e7",
   "metadata": {},
   "outputs": [
    {
     "name": "stdout",
     "output_type": "stream",
     "text": [
      "{'Name': 'Shahzad', 'Father_Name': 'M. Azam', 'Age': 30, 'Education': 'PGDIDS', 1: 'University'}\n",
      "{'Name': 'Shahzad', 'Father_Name': 'M. Azam', 'Age': 30, 'Education': 'PGDIDS', 1: 'University'}\n",
      "{'Name': 'Shahzad', 'Father_Name': 'M. Azam', 'Age': 30, 'Education': 'PGDIDS', 1: 'University'}\n"
     ]
    }
   ],
   "source": [
    "data = {\"Name\":\"Shahzad\", \n",
    "        \"Father_Name\": \"M. Azam\",\n",
    "         \"Age\": 30,\n",
    "          \"Education\": \"PGDIDS\",\n",
    "           1: \"University\"}\n",
    "\n",
    "data1 = data # Shallow copy\n",
    "data2 = data # Shallow copy\n",
    "data3 = data # Shallow copy\n",
    "\n",
    "print (data1)\n",
    "print (data2)\n",
    "print (data3)"
   ]
  },
  {
   "cell_type": "code",
   "execution_count": 37,
   "id": "f748e4e2",
   "metadata": {},
   "outputs": [
    {
     "name": "stdout",
     "output_type": "stream",
     "text": [
      "{'Name': 'Hashmi', 'Father_Name': 'M. Azam', 'Age': 30, 'Education': 'PGDIDS', 1: 'University'}\n",
      "{'Name': 'Hashmi', 'Father_Name': 'M. Azam', 'Age': 30, 'Education': 'PGDIDS', 1: 'University'}\n",
      "{'Name': 'Hashmi', 'Father_Name': 'M. Azam', 'Age': 30, 'Education': 'PGDIDS', 1: 'University'}\n"
     ]
    }
   ],
   "source": [
    "data3 [\"Name\"]= \"Hashmi\"\n",
    "print (data1)\n",
    "print (data2)\n",
    "print (data3)"
   ]
  },
  {
   "cell_type": "markdown",
   "id": "6364f66a",
   "metadata": {},
   "source": [
    "# Using .copy function\n",
    "\n",
    "### Using .copy function we can create deep copy and it will only change in that single copy"
   ]
  },
  {
   "cell_type": "code",
   "execution_count": 40,
   "id": "f44e3da5",
   "metadata": {},
   "outputs": [
    {
     "name": "stdout",
     "output_type": "stream",
     "text": [
      "{'Name': 'Shahzad', 'Father_Name': 'M. Azam', 'Age': 30, 'Education': 'PGDIDS', 1: 'University'}\n",
      "{'Name': 'Shahzad', 'Father_Name': 'M. Azam', 'Age': 30, 'Education': 'PGDIDS', 1: 'University'}\n",
      "{'Name': 'Shahzad', 'Father_Name': 'M. Azam', 'Age': 30, 'Education': 'PGDIDS', 1: 'University'}\n",
      "\n",
      "\n",
      "\n",
      "{'Name': 'Shahzad', 'Father_Name': 'M. Azam', 'Age': 30, 'Education': 'PGDIDS', 1: 'University'}\n",
      "\n",
      "{'Name': 'Shahzad', 'Father_Name': 'M. Azam', 'Age': 30, 'Education': 'PGDIDS', 1: 'University'}\n",
      "\n",
      "{'Name': 'Hashmi', 'Father_Name': 'M. Azam', 'Age': 30, 'Education': 'PGDIDS', 1: 'University'}\n"
     ]
    }
   ],
   "source": [
    "data = {\"Name\":\"Shahzad\", \n",
    "        \"Father_Name\": \"M. Azam\",\n",
    "         \"Age\": 30,\n",
    "          \"Education\": \"PGDIDS\",\n",
    "           1: \"University\"}\n",
    "\n",
    "data1 = data.copy () # deep copy\n",
    "data2 = data.copy () # deep copy\n",
    "data3 = data.copy () # deep copy\n",
    "\n",
    "print (data1)\n",
    "print (data2)\n",
    "print (data3)\n",
    "\n",
    "print()\n",
    "print()\n",
    "print()\n",
    "\n",
    "data3 [\"Name\"]= \"Hashmi\"\n",
    "print (data1)\n",
    "print()\n",
    "print (data2)\n",
    "print()\n",
    "print (data3)"
   ]
  },
  {
   "cell_type": "markdown",
   "id": "f3242ad5",
   "metadata": {},
   "source": [
    "# Creating a dictionary from list of keys\n",
    "\n",
    "### There is a method in dictionay '.keys' in which we pass on the list of keys to make dictionary\n",
    "\n",
    "* dict.fromkeys(variable)"
   ]
  },
  {
   "cell_type": "code",
   "execution_count": 41,
   "id": "9c1ceb91",
   "metadata": {},
   "outputs": [
    {
     "name": "stdout",
     "output_type": "stream",
     "text": [
      "{'Name': None, 'Fathername': None}\n"
     ]
    }
   ],
   "source": [
    "keys = [\"Name\", \"Fathername\"]\n",
    "a=dict.fromkeys(keys)\n",
    "print(a)"
   ]
  },
  {
   "cell_type": "markdown",
   "id": "8e59ae73",
   "metadata": {},
   "source": [
    "# If we want to replace none with not available"
   ]
  },
  {
   "cell_type": "code",
   "execution_count": 42,
   "id": "d6da6d9a",
   "metadata": {},
   "outputs": [
    {
     "name": "stdout",
     "output_type": "stream",
     "text": [
      "{'Name': 'Not Available', 'Fathername': 'Not Available'}\n"
     ]
    }
   ],
   "source": [
    "keys = [\"Name\", \"Fathername\"]\n",
    "a=dict.fromkeys(keys, \"Not Available\")\n",
    "print(a)"
   ]
  },
  {
   "cell_type": "markdown",
   "id": "980dfdc8",
   "metadata": {},
   "source": [
    "# If Key is not available it shows the error\n",
    "\n",
    "* Python is interpreter language and it executes line by line so it stops where it finds the error and will not execute the next statements"
   ]
  },
  {
   "cell_type": "code",
   "execution_count": 43,
   "id": "be3b6a0b",
   "metadata": {},
   "outputs": [
    {
     "ename": "NameError",
     "evalue": "name 'cnic' is not defined",
     "output_type": "error",
     "traceback": [
      "\u001b[1;31m---------------------------------------------------------------------------\u001b[0m",
      "\u001b[1;31mNameError\u001b[0m                                 Traceback (most recent call last)",
      "\u001b[1;32m~\\AppData\\Local\\Temp/ipykernel_17704/3193513169.py\u001b[0m in \u001b[0;36m<module>\u001b[1;34m\u001b[0m\n\u001b[0;32m      5\u001b[0m            1: \"University\"}\n\u001b[0;32m      6\u001b[0m \u001b[1;33m\u001b[0m\u001b[0m\n\u001b[1;32m----> 7\u001b[1;33m \u001b[0mdata\u001b[0m\u001b[1;33m[\u001b[0m\u001b[0mcnic\u001b[0m\u001b[1;33m]\u001b[0m\u001b[1;33m\u001b[0m\u001b[1;33m\u001b[0m\u001b[0m\n\u001b[0m\u001b[0;32m      8\u001b[0m \u001b[0mprint\u001b[0m\u001b[1;33m(\u001b[0m\u001b[1;34m\"Pak\"\u001b[0m\u001b[1;33m)\u001b[0m\u001b[1;33m\u001b[0m\u001b[1;33m\u001b[0m\u001b[0m\n\u001b[0;32m      9\u001b[0m \u001b[0mprint\u001b[0m\u001b[1;33m(\u001b[0m\u001b[1;34m\"Tamp\"\u001b[0m\u001b[1;33m)\u001b[0m\u001b[1;33m\u001b[0m\u001b[1;33m\u001b[0m\u001b[0m\n",
      "\u001b[1;31mNameError\u001b[0m: name 'cnic' is not defined"
     ]
    }
   ],
   "source": [
    "data = {\"Name\":\"Shahzad\", \n",
    "        \"Father_Name\": \"M. Azam\",\n",
    "         \"Age\": 30,\n",
    "          \"Education\": \"PGDIDS\",\n",
    "           1: \"University\"}\n",
    "\n",
    "data[cnic]\n",
    "print(\"Pak\")\n",
    "print(\"Tamp\")"
   ]
  },
  {
   "cell_type": "markdown",
   "id": "5e665d90",
   "metadata": {},
   "source": [
    "# Dictionary has the function .get that will bypass the missing key "
   ]
  },
  {
   "cell_type": "code",
   "execution_count": 47,
   "id": "2806f1a9",
   "metadata": {},
   "outputs": [
    {
     "name": "stdout",
     "output_type": "stream",
     "text": [
      "Not Available\n",
      "Pak\n",
      "Tamp\n"
     ]
    }
   ],
   "source": [
    "data = {\"Name\":\"Shahzad\", \n",
    "        \"Father_Name\": \"M. Azam\",\n",
    "         \"Age\": 30,\n",
    "          \"Education\": \"PGDIDS\",\n",
    "           1: \"University\"}\n",
    "\n",
    "print(data.get(\"cnic\", \"Not Available\"))\n",
    "print(\"Pak\")\n",
    "print(\"Tamp\")"
   ]
  },
  {
   "cell_type": "markdown",
   "id": "ae51128d",
   "metadata": {},
   "source": [
    "data = {\"Name\":\"Shahzad\", \n",
    "        \"Father_Name\": \"M. Azam\",\n",
    "         \"Age\": 30,\n",
    "          \"Education\": \"PGDIDS\",\n",
    "           1: \"University\"}\n",
    "\n",
    "print(data.get(\"Name\"))\n",
    "print(\"Pak\")\n",
    "print(\"Tamp\")"
   ]
  },
  {
   "cell_type": "markdown",
   "id": "cb969f39",
   "metadata": {},
   "source": [
    "# Item Key Values\n",
    "\n",
    "## Item---> It will retur each key value pair in a tupple \"data.item\"\n",
    "## data.keys---> it will return the keys\n",
    "## data.value---> it will return the values"
   ]
  },
  {
   "cell_type": "code",
   "execution_count": 50,
   "id": "7c75fc16",
   "metadata": {},
   "outputs": [
    {
     "data": {
      "text/plain": [
       "dict_items([('Name', 'Shahzad'), ('Father_Name', 'M. Azam'), ('Age', 30), ('Education', 'PGDIDS'), (1, 'University')])"
      ]
     },
     "execution_count": 50,
     "metadata": {},
     "output_type": "execute_result"
    }
   ],
   "source": [
    "data = {\"Name\":\"Shahzad\", \n",
    "        \"Father_Name\": \"M. Azam\",\n",
    "         \"Age\": 30,\n",
    "          \"Education\": \"PGDIDS\",\n",
    "           1: \"University\"}\n",
    "\n",
    "data.items ()"
   ]
  },
  {
   "cell_type": "code",
   "execution_count": 51,
   "id": "37183be8",
   "metadata": {},
   "outputs": [
    {
     "data": {
      "text/plain": [
       "dict_keys(['Name', 'Father_Name', 'Age', 'Education', 1])"
      ]
     },
     "execution_count": 51,
     "metadata": {},
     "output_type": "execute_result"
    }
   ],
   "source": [
    "data = {\"Name\":\"Shahzad\", \n",
    "        \"Father_Name\": \"M. Azam\",\n",
    "         \"Age\": 30,\n",
    "          \"Education\": \"PGDIDS\",\n",
    "           1: \"University\"}\n",
    "\n",
    "data.keys()"
   ]
  },
  {
   "cell_type": "code",
   "execution_count": 52,
   "id": "d8caf1a6",
   "metadata": {},
   "outputs": [
    {
     "data": {
      "text/plain": [
       "dict_values(['Shahzad', 'M. Azam', 30, 'PGDIDS', 'University'])"
      ]
     },
     "execution_count": 52,
     "metadata": {},
     "output_type": "execute_result"
    }
   ],
   "source": [
    "data.values()"
   ]
  },
  {
   "cell_type": "code",
   "execution_count": null,
   "id": "158202bb",
   "metadata": {},
   "outputs": [],
   "source": []
  },
  {
   "cell_type": "code",
   "execution_count": null,
   "id": "3e370558",
   "metadata": {},
   "outputs": [],
   "source": []
  }
 ],
 "metadata": {
  "kernelspec": {
   "display_name": "Python 3 (ipykernel)",
   "language": "python",
   "name": "python3"
  },
  "language_info": {
   "codemirror_mode": {
    "name": "ipython",
    "version": 3
   },
   "file_extension": ".py",
   "mimetype": "text/x-python",
   "name": "python",
   "nbconvert_exporter": "python",
   "pygments_lexer": "ipython3",
   "version": "3.9.7"
  }
 },
 "nbformat": 4,
 "nbformat_minor": 5
}
