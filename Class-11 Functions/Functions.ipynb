{
 "cells": [
  {
   "cell_type": "markdown",
   "id": "ec0a97c4",
   "metadata": {},
   "source": [
    "# Function\n",
    "\n",
    "* Use to avoid repetation\n",
    "* It is pre-defined set of statements\n",
    "\n",
    "# Function has three Elements\n",
    "\n",
    "* Function Declaration/Defining\n",
    "* Function Body\n",
    "* Function Call\n"
   ]
  },
  {
   "cell_type": "markdown",
   "id": "378fc67c",
   "metadata": {},
   "source": [
    "# Types of Function\n",
    "\n",
    "## Pre-defined\n",
    "\n",
    "* That exists already in provided language\n",
    "* Return Function\n",
    "* Non Return Function\n",
    "\n",
    "\n",
    "## User Defined\n",
    "\n",
    "* Defined by the user\n",
    "* Return Function\n",
    "* Non Return Function\n",
    "\n",
    "## Default Function\n",
    "\n",
    "* Not require any argument (Example: today - function in excel that returns date but takes no argument) \n",
    "\n",
    "## Generator Function\n",
    "\n",
    "\n",
    "## Lambda Function\n",
    "\n",
    "\n",
    "## Recursive Function"
   ]
  },
  {
   "cell_type": "markdown",
   "id": "fb8f3089",
   "metadata": {},
   "source": [
    "# Function Declaration\n",
    "\n",
    "* Function Name\n",
    "* Function Parameter/Argument\n",
    "\n",
    "## Function Argument\n",
    "\n",
    "* When calling the function when we pass variables we use to say we are passing the argument\n",
    "\n",
    "## Function Parameter\n",
    "\n",
    "* When developing a function passing a variable called the parameter"
   ]
  },
  {
   "cell_type": "markdown",
   "id": "724b6db3",
   "metadata": {},
   "source": [
    "# Function Body\n",
    "\n",
    "* Set of statements"
   ]
  },
  {
   "cell_type": "markdown",
   "id": "bc23fa94",
   "metadata": {},
   "source": [
    "# Function Calling\n",
    "\n",
    "* print (text1, text2,....)"
   ]
  },
  {
   "cell_type": "markdown",
   "id": "d6697ea3",
   "metadata": {},
   "source": [
    "# Parameters\n",
    "\n",
    "## Required\n",
    "\n",
    "* The function cannot be executed without these parameters\n",
    "\n",
    "## Default/Optional\n",
    "\n",
    "* Function can be executed without them and can complete task\n",
    "\n"
   ]
  },
  {
   "cell_type": "markdown",
   "id": "4e1f2923",
   "metadata": {},
   "source": [
    "# Return Vs Non - Return Function"
   ]
  },
  {
   "cell_type": "markdown",
   "id": "005c9654",
   "metadata": {},
   "source": [
    "# Non - Return Function"
   ]
  },
  {
   "cell_type": "code",
   "execution_count": 1,
   "id": "ffff110e",
   "metadata": {},
   "outputs": [
    {
     "name": "stdout",
     "output_type": "stream",
     "text": [
      "Pakistan\n"
     ]
    }
   ],
   "source": [
    "a = print(\"Pakistan\")"
   ]
  },
  {
   "cell_type": "code",
   "execution_count": 3,
   "id": "8b635178",
   "metadata": {},
   "outputs": [
    {
     "name": "stdout",
     "output_type": "stream",
     "text": [
      "None\n"
     ]
    }
   ],
   "source": [
    "print(a) # Hence print is non-return function bcz it doesnot store the value"
   ]
  },
  {
   "cell_type": "markdown",
   "id": "d331f575",
   "metadata": {},
   "source": [
    "# Return Function"
   ]
  },
  {
   "cell_type": "code",
   "execution_count": 4,
   "id": "13554826",
   "metadata": {},
   "outputs": [],
   "source": [
    "s = str(123)\n"
   ]
  },
  {
   "cell_type": "code",
   "execution_count": 5,
   "id": "06b05f85",
   "metadata": {},
   "outputs": [
    {
     "name": "stdout",
     "output_type": "stream",
     "text": [
      "123\n"
     ]
    }
   ],
   "source": [
    "print (s) # It is returning the value"
   ]
  },
  {
   "cell_type": "markdown",
   "id": "f2d3e624",
   "metadata": {},
   "source": [
    "# User Defined Function\n",
    "\n",
    "***************Syntax**************\n",
    "\n",
    "    def Function_name (arg1,arg2,.....):\n",
    "        statement - 1\n",
    "        statement - 2\n",
    "        statement - 3\n",
    "    If we want to make it a return function will put return in the end otherwise not\n",
    "    "
   ]
  },
  {
   "cell_type": "code",
   "execution_count": 7,
   "id": "61935911",
   "metadata": {},
   "outputs": [],
   "source": [
    "def NED_Uni():                   # Function Define\n",
    "    \n",
    "# Function Body\n",
    "\n",
    "    print (\"Welcome to NED\")      \n",
    "    print(\"PGD\")"
   ]
  },
  {
   "cell_type": "code",
   "execution_count": 9,
   "id": "f79e8ead",
   "metadata": {},
   "outputs": [
    {
     "name": "stdout",
     "output_type": "stream",
     "text": [
      "Welcome to NED\n",
      "PGD\n"
     ]
    }
   ],
   "source": [
    "NED_Uni()     # Function Calling"
   ]
  },
  {
   "cell_type": "code",
   "execution_count": 10,
   "id": "67330519",
   "metadata": {},
   "outputs": [
    {
     "name": "stdout",
     "output_type": "stream",
     "text": [
      "Welcome to NED\n",
      "PGD\n"
     ]
    }
   ],
   "source": [
    "a = NED_Uni()"
   ]
  },
  {
   "cell_type": "code",
   "execution_count": 11,
   "id": "c4e8948a",
   "metadata": {},
   "outputs": [
    {
     "name": "stdout",
     "output_type": "stream",
     "text": [
      "None\n"
     ]
    }
   ],
   "source": [
    "print (a) # Hence it is a non- return function"
   ]
  },
  {
   "cell_type": "markdown",
   "id": "b399cb90",
   "metadata": {},
   "source": [
    "# Making the same Function as Return Function"
   ]
  },
  {
   "cell_type": "code",
   "execution_count": 17,
   "id": "011f8f33",
   "metadata": {},
   "outputs": [],
   "source": [
    "def ukm():\n",
    "    text = \"\"\" \n",
    "    Name: Shahzad\n",
    "    Class: PGD\n",
    "    \"\"\"\n",
    "    return text"
   ]
  },
  {
   "cell_type": "code",
   "execution_count": 18,
   "id": "32d6d043",
   "metadata": {},
   "outputs": [
    {
     "data": {
      "text/plain": [
       "' \\n    Name: Shahzad\\n    Class: PGD\\n    '"
      ]
     },
     "execution_count": 18,
     "metadata": {},
     "output_type": "execute_result"
    }
   ],
   "source": [
    "ukm()"
   ]
  },
  {
   "cell_type": "code",
   "execution_count": 19,
   "id": "fa6b14c0",
   "metadata": {},
   "outputs": [],
   "source": [
    "c = ukm ()"
   ]
  },
  {
   "cell_type": "code",
   "execution_count": 20,
   "id": "38a640f1",
   "metadata": {},
   "outputs": [
    {
     "name": "stdout",
     "output_type": "stream",
     "text": [
      " \n",
      "    Name: Shahzad\n",
      "    Class: PGD\n",
      "    \n"
     ]
    }
   ],
   "source": [
    "print (c) # So, it is a return function"
   ]
  },
  {
   "cell_type": "markdown",
   "id": "7d5b4bd3",
   "metadata": {},
   "source": [
    "# Required Argument"
   ]
  },
  {
   "cell_type": "code",
   "execution_count": 21,
   "id": "2e046a80",
   "metadata": {},
   "outputs": [],
   "source": [
    "def add (num1, num2):\n",
    "    return num1+num2"
   ]
  },
  {
   "cell_type": "code",
   "execution_count": 23,
   "id": "4bb63f3b",
   "metadata": {},
   "outputs": [
    {
     "data": {
      "text/plain": [
       "9"
      ]
     },
     "execution_count": 23,
     "metadata": {},
     "output_type": "execute_result"
    }
   ],
   "source": [
    "add (7, 2)"
   ]
  },
  {
   "cell_type": "markdown",
   "id": "290e8b05",
   "metadata": {},
   "source": [
    "# Optional Argument\n",
    "\n",
    "* These are those that if not been put during calling, the function will be executed\n",
    "* For optional argument we will assign some value to variable during its defining stage"
   ]
  },
  {
   "cell_type": "code",
   "execution_count": 28,
   "id": "6ef73050",
   "metadata": {},
   "outputs": [],
   "source": [
    "def add (num1=0, num2=0):\n",
    "    #print(num1,num2)\n",
    "    return num1+num2"
   ]
  },
  {
   "cell_type": "code",
   "execution_count": 29,
   "id": "74173c25",
   "metadata": {},
   "outputs": [
    {
     "name": "stdout",
     "output_type": "stream",
     "text": [
      "0\n",
      "4\n",
      "3\n"
     ]
    }
   ],
   "source": [
    "print(add())\n",
    "print(add(1,3))\n",
    "print (add(-1,4))"
   ]
  },
  {
   "cell_type": "markdown",
   "id": "3717c2c1",
   "metadata": {},
   "source": [
    "# Required and Optional Arguments"
   ]
  },
  {
   "cell_type": "code",
   "execution_count": 35,
   "id": "b57547ee",
   "metadata": {},
   "outputs": [],
   "source": [
    "def byni(rice,meat, tomato='0.5k'):\n",
    "    a = f\"\"\" \n",
    "Boliling {rice}\n",
    "Making Qourma with {meat} meat\n",
    " Mixing Tomato {tomato}\n",
    "    \n",
    "    *************Enjoy**********\n",
    "    \n",
    "    \"\"\"\n",
    "    \n",
    "    return a"
   ]
  },
  {
   "cell_type": "code",
   "execution_count": 36,
   "id": "50fd4e6e",
   "metadata": {},
   "outputs": [
    {
     "data": {
      "text/plain": [
       "' \\nBoliling basmati\\nMaking Qourma with chicken meat\\n Mixing Tomato 0.5k\\n    \\n    *************Enjoy**********\\n    \\n    '"
      ]
     },
     "execution_count": 36,
     "metadata": {},
     "output_type": "execute_result"
    }
   ],
   "source": [
    "byni(\"basmati\",\"chicken\")"
   ]
  },
  {
   "cell_type": "code",
   "execution_count": 37,
   "id": "03522a15",
   "metadata": {},
   "outputs": [
    {
     "name": "stdout",
     "output_type": "stream",
     "text": [
      " \n",
      "Boliling basmati\n",
      "Making Qourma with chicken meat\n",
      " Mixing Tomato 0.5k\n",
      "    \n",
      "    *************Enjoy**********\n",
      "    \n",
      "    \n"
     ]
    }
   ],
   "source": [
    "print(byni(\"basmati\",\"chicken\"))"
   ]
  },
  {
   "cell_type": "code",
   "execution_count": 38,
   "id": "c503a0c8",
   "metadata": {},
   "outputs": [
    {
     "name": "stdout",
     "output_type": "stream",
     "text": [
      " \n",
      "Boliling Selha\n",
      "Making Qourma with Beef meat\n",
      " Mixing Tomato 10\n",
      "    \n",
      "    *************Enjoy**********\n",
      "    \n",
      "    \n"
     ]
    }
   ],
   "source": [
    "print(byni(\"Selha\",\"Beef\", \"10\"))"
   ]
  },
  {
   "cell_type": "markdown",
   "id": "65d02657",
   "metadata": {},
   "source": [
    "# Unlimited Optional Argument\n",
    "\n",
    "* Put asterik before the number"
   ]
  },
  {
   "cell_type": "code",
   "execution_count": 39,
   "id": "2151aa73",
   "metadata": {},
   "outputs": [],
   "source": [
    "def sum1(num1, *num2):\n",
    "    print(num1, num2)\n",
    "    a = num1 + sum(num2)\n",
    "    return a"
   ]
  },
  {
   "cell_type": "code",
   "execution_count": 41,
   "id": "c021f4eb",
   "metadata": {},
   "outputs": [
    {
     "name": "stdout",
     "output_type": "stream",
     "text": [
      "1 ()\n",
      "1\n",
      "1 (5,)\n",
      "6\n",
      "1 (9, 5, 7)\n",
      "22\n"
     ]
    }
   ],
   "source": [
    "print (sum1(1))\n",
    "print (sum1(1,5))\n",
    "print (sum1(1,9,5,7))"
   ]
  },
  {
   "cell_type": "markdown",
   "id": "754c6fdd",
   "metadata": {},
   "source": [
    "# Same Task can be done from Loop"
   ]
  },
  {
   "cell_type": "code",
   "execution_count": 42,
   "id": "725070b2",
   "metadata": {},
   "outputs": [],
   "source": [
    "def sum1(num1, *num2):\n",
    "    b = num1\n",
    "    for i in num2:\n",
    "        b+=i\n",
    "    return b"
   ]
  },
  {
   "cell_type": "code",
   "execution_count": 43,
   "id": "685f868c",
   "metadata": {},
   "outputs": [
    {
     "name": "stdout",
     "output_type": "stream",
     "text": [
      "1\n",
      "6\n",
      "22\n"
     ]
    }
   ],
   "source": [
    "print (sum1(1))\n",
    "print (sum1(1,5))\n",
    "print (sum1(1,9,5,7))"
   ]
  },
  {
   "cell_type": "code",
   "execution_count": 44,
   "id": "58955f7b",
   "metadata": {},
   "outputs": [],
   "source": [
    "def sum1(num1, num2, *nums):\n",
    "    #print(num1, num2)\n",
    "    a = num1 + num2 + sum(nums)\n",
    "    return a"
   ]
  },
  {
   "cell_type": "code",
   "execution_count": 46,
   "id": "539b4c62",
   "metadata": {},
   "outputs": [
    {
     "name": "stdout",
     "output_type": "stream",
     "text": [
      "4\n",
      "23\n",
      "22\n"
     ]
    }
   ],
   "source": [
    "print (sum1(1,3))\n",
    "print (sum1(1,5,8, 9))\n",
    "print (sum1(1,9,5,7))"
   ]
  },
  {
   "cell_type": "code",
   "execution_count": 47,
   "id": "5c43ee0a",
   "metadata": {},
   "outputs": [],
   "source": [
    "def sum1(*nums):\n",
    "    #print(num1, num2)\n",
    "    a = sum(nums)\n",
    "    return a"
   ]
  },
  {
   "cell_type": "code",
   "execution_count": 48,
   "id": "2bc6169a",
   "metadata": {},
   "outputs": [
    {
     "name": "stdout",
     "output_type": "stream",
     "text": [
      "4\n",
      "23\n",
      "22\n"
     ]
    }
   ],
   "source": [
    "print (sum1(1,3))\n",
    "print (sum1(1,5,8, 9))\n",
    "print (sum1(1,9,5,7))"
   ]
  },
  {
   "cell_type": "markdown",
   "id": "3e3d7d0a",
   "metadata": {},
   "source": [
    "# Using Asterik * with variable during calling of function\n",
    "\n",
    "### It performs sequential unzipping"
   ]
  },
  {
   "cell_type": "code",
   "execution_count": 49,
   "id": "8b339a2e",
   "metadata": {},
   "outputs": [
    {
     "name": "stdout",
     "output_type": "stream",
     "text": [
      "1 9 8 6 3 5 7\n"
     ]
    }
   ],
   "source": [
    "l = [1,9,8,6,3,5,7]\n",
    "print (*l)"
   ]
  },
  {
   "cell_type": "code",
   "execution_count": 52,
   "id": "c8d6a052",
   "metadata": {},
   "outputs": [],
   "source": [
    "def sum1(num1, num2):\n",
    "    a = num1 + num2 \n",
    "    return a"
   ]
  },
  {
   "cell_type": "code",
   "execution_count": 54,
   "id": "ed7236d4",
   "metadata": {},
   "outputs": [
    {
     "ename": "TypeError",
     "evalue": "sum1() takes 2 positional arguments but 7 were given",
     "output_type": "error",
     "traceback": [
      "\u001b[1;31m---------------------------------------------------------------------------\u001b[0m",
      "\u001b[1;31mTypeError\u001b[0m                                 Traceback (most recent call last)",
      "\u001b[1;32m~\\AppData\\Local\\Temp/ipykernel_13752/2122493562.py\u001b[0m in \u001b[0;36m<module>\u001b[1;34m\u001b[0m\n\u001b[0;32m      1\u001b[0m \u001b[0ml\u001b[0m \u001b[1;33m=\u001b[0m \u001b[1;33m[\u001b[0m\u001b[1;36m1\u001b[0m\u001b[1;33m,\u001b[0m\u001b[1;36m9\u001b[0m\u001b[1;33m,\u001b[0m\u001b[1;36m8\u001b[0m\u001b[1;33m,\u001b[0m\u001b[1;36m6\u001b[0m\u001b[1;33m,\u001b[0m\u001b[1;36m3\u001b[0m\u001b[1;33m,\u001b[0m\u001b[1;36m5\u001b[0m\u001b[1;33m,\u001b[0m\u001b[1;36m7\u001b[0m\u001b[1;33m]\u001b[0m\u001b[1;33m\u001b[0m\u001b[1;33m\u001b[0m\u001b[0m\n\u001b[1;32m----> 2\u001b[1;33m \u001b[0mprint\u001b[0m \u001b[1;33m(\u001b[0m\u001b[0msum1\u001b[0m\u001b[1;33m(\u001b[0m\u001b[1;33m*\u001b[0m\u001b[0ml\u001b[0m\u001b[1;33m)\u001b[0m\u001b[1;33m)\u001b[0m\u001b[1;33m\u001b[0m\u001b[1;33m\u001b[0m\u001b[0m\n\u001b[0m",
      "\u001b[1;31mTypeError\u001b[0m: sum1() takes 2 positional arguments but 7 were given"
     ]
    }
   ],
   "source": [
    "l = [1,9,8,6,3,5,7]\n",
    "print (sum1(*l))            # This error bcz i have provided more than required arguments "
   ]
  },
  {
   "cell_type": "code",
   "execution_count": 55,
   "id": "1441fdbd",
   "metadata": {},
   "outputs": [
    {
     "name": "stdout",
     "output_type": "stream",
     "text": [
      "10\n"
     ]
    }
   ],
   "source": [
    "l = [1,9]\n",
    "print (sum1(*l)) "
   ]
  },
  {
   "cell_type": "code",
   "execution_count": 57,
   "id": "39676d32",
   "metadata": {},
   "outputs": [],
   "source": [
    "def nw(n1,n2,n3,n4):\n",
    "    return (n1+n2+n3+n4)\n"
   ]
  },
  {
   "cell_type": "code",
   "execution_count": 58,
   "id": "7298181c",
   "metadata": {},
   "outputs": [
    {
     "name": "stdout",
     "output_type": "stream",
     "text": [
      "17\n"
     ]
    }
   ],
   "source": [
    "l = [1,2,3,4,5,6,7]\n",
    "\n",
    "print (nw(3,1, *l[-2:]))"
   ]
  },
  {
   "cell_type": "markdown",
   "id": "406dfdc5",
   "metadata": {},
   "source": [
    "# Key Word Arguments"
   ]
  },
  {
   "cell_type": "code",
   "execution_count": 62,
   "id": "a271878e",
   "metadata": {},
   "outputs": [],
   "source": [
    "def card(Roll_No, Name, Course):\n",
    "    d = f\"\"\"\n",
    "    Roll No. {Roll_No}\n",
    "    Name {Name}\n",
    "    Course {Course}\n",
    "    \n",
    "    \"\"\"\n",
    "    \n",
    "    return d"
   ]
  },
  {
   "cell_type": "code",
   "execution_count": 64,
   "id": "a0c8c0ab",
   "metadata": {},
   "outputs": [
    {
     "name": "stdout",
     "output_type": "stream",
     "text": [
      "\n",
      "    Roll No. 1\n",
      "    Name Shahzad\n",
      "    Course PGD\n",
      "    \n",
      "    \n"
     ]
    }
   ],
   "source": [
    "print (card (1, \"Shahzad\", \"PGD\"))"
   ]
  },
  {
   "cell_type": "markdown",
   "id": "78f8a7a9",
   "metadata": {},
   "source": [
    "# We have a challange that when dealing with database we are not sure which data is coming first so it may print the sections of the card incorrectly"
   ]
  },
  {
   "cell_type": "code",
   "execution_count": 65,
   "id": "150019c0",
   "metadata": {},
   "outputs": [
    {
     "name": "stdout",
     "output_type": "stream",
     "text": [
      "\n",
      "    Roll No. Shahzad\n",
      "    Name PGD\n",
      "    Course 4\n",
      "    \n",
      "    \n"
     ]
    }
   ],
   "source": [
    "print (card (\"Shahzad\", \"PGD\", 4))"
   ]
  },
  {
   "cell_type": "markdown",
   "id": "afd29044",
   "metadata": {},
   "source": [
    "# This issue can be solved with keyword argument"
   ]
  },
  {
   "cell_type": "code",
   "execution_count": 67,
   "id": "541bfe35",
   "metadata": {},
   "outputs": [
    {
     "name": "stdout",
     "output_type": "stream",
     "text": [
      "\n",
      "    Roll No. 4\n",
      "    Name Shahzad\n",
      "    Course PGD\n",
      "    \n",
      "    \n"
     ]
    }
   ],
   "source": [
    "print (card (Name =\"Shahzad\", Course = \"PGD\", Roll_No=4))"
   ]
  },
  {
   "cell_type": "code",
   "execution_count": null,
   "id": "7e4b0f0f",
   "metadata": {},
   "outputs": [],
   "source": [
    "d = [[1, \"Shahzad\", \"PGD\"] [2, \"Hammad\", \"BK\"] [3, \"Fawad\", \"PD\"]]"
   ]
  },
  {
   "cell_type": "code",
   "execution_count": 68,
   "id": "42a6569b",
   "metadata": {},
   "outputs": [
    {
     "name": "stdout",
     "output_type": "stream",
     "text": [
      "\n",
      "    Roll No. 1\n",
      "    Name Shahzad\n",
      "    Course PGD\n",
      "    \n",
      "    \n"
     ]
    }
   ],
   "source": [
    "m = [1, \"Shahzad\", \"PGD\"]\n",
    "print(card(*m))"
   ]
  },
  {
   "cell_type": "code",
   "execution_count": 71,
   "id": "f0600ac2",
   "metadata": {},
   "outputs": [
    {
     "name": "stdout",
     "output_type": "stream",
     "text": [
      "\n",
      "    Roll No. 1\n",
      "    Name Shahzad\n",
      "    Course PGD\n",
      "    \n",
      "    \n",
      "\n",
      "    Roll No. 2\n",
      "    Name Hammad\n",
      "    Course BK\n",
      "    \n",
      "    \n",
      "\n",
      "    Roll No. 3\n",
      "    Name Fawad\n",
      "    Course PD\n",
      "    \n",
      "    \n"
     ]
    }
   ],
   "source": [
    "d = [[1, \"Shahzad\", \"PGD\"], [2, \"Hammad\", \"BK\"], [3, \"Fawad\", \"PD\"]]\n",
    "for j in d:\n",
    "    print (card(*j))"
   ]
  },
  {
   "cell_type": "markdown",
   "id": "eb3e1860",
   "metadata": {},
   "source": [
    "# Dictionary\n",
    "\n",
    "* For keyword argument in dictionary we will use double asterik (**)\n",
    "* (**) Unzip key value pair "
   ]
  },
  {
   "cell_type": "code",
   "execution_count": 74,
   "id": "d17a0c1b",
   "metadata": {},
   "outputs": [
    {
     "name": "stdout",
     "output_type": "stream",
     "text": [
      "\n",
      "    Roll No. 12034\n",
      "    Name Shahzad\n",
      "    Course PGD\n",
      "    \n",
      "    \n"
     ]
    }
   ],
   "source": [
    "b = {\"Name\": \"Shahzad\",\n",
    "     \"Roll_No\": 12034,\n",
    "     \"Course\" : \"PGD\"\n",
    "    }\n",
    "\n",
    "print (card(**b))"
   ]
  },
  {
   "cell_type": "markdown",
   "id": "3a27ed43",
   "metadata": {},
   "source": [
    "# How to Develop Keyword Argument"
   ]
  },
  {
   "cell_type": "code",
   "execution_count": 80,
   "id": "cfe86045",
   "metadata": {},
   "outputs": [],
   "source": [
    "def fun(n1,n2, **b):\n",
    "    print (n1,n2,b)"
   ]
  },
  {
   "cell_type": "code",
   "execution_count": 81,
   "id": "02a77c1c",
   "metadata": {},
   "outputs": [
    {
     "name": "stdout",
     "output_type": "stream",
     "text": [
      "3 2 {'Name': 'Shahzad', 'Count': 50000}\n"
     ]
    }
   ],
   "source": [
    "fun(3,2, Name= 'Shahzad', Count= 50000)"
   ]
  },
  {
   "cell_type": "markdown",
   "id": "5c87fc8e",
   "metadata": {},
   "source": [
    "# Function with 2 required arguments, unlimited sequential values and key word argument "
   ]
  },
  {
   "cell_type": "code",
   "execution_count": 83,
   "id": "712dda3d",
   "metadata": {},
   "outputs": [],
   "source": [
    "def ten(n1,n2, *l1, **d1):\n",
    "    print(n1,n2, l1, d1)"
   ]
  },
  {
   "cell_type": "code",
   "execution_count": 85,
   "id": "4d24576d",
   "metadata": {},
   "outputs": [
    {
     "name": "stdout",
     "output_type": "stream",
     "text": [
      "3 8 ('a', 87, 9) {'Age': 20, 'Name': 'Sha'}\n"
     ]
    }
   ],
   "source": [
    "ten(3,8, \"a\", 87, 9, Age=20, Name = \"Sha\")"
   ]
  },
  {
   "cell_type": "markdown",
   "id": "84ec63f0",
   "metadata": {},
   "source": [
    "# Lambda Function\n",
    "\n",
    "* Without Name\n",
    "* One line Function\n",
    "* No use before and after the line "
   ]
  },
  {
   "cell_type": "code",
   "execution_count": null,
   "id": "281eeed0",
   "metadata": {},
   "outputs": [],
   "source": [
    "def sum1(num1, num2):\n",
    "    return num1 + num2"
   ]
  },
  {
   "cell_type": "markdown",
   "id": "cebed792",
   "metadata": {},
   "source": [
    "# Conversion to Lambda Function\n",
    "\n",
    "* Replace def ---> lambda\n",
    "* Convert to single line because no return in lamda\n",
    "* Lambda function always stores in a variable\n",
    "* Call this function with that variable"
   ]
  },
  {
   "cell_type": "code",
   "execution_count": 86,
   "id": "27a9f189",
   "metadata": {},
   "outputs": [
    {
     "data": {
      "text/plain": [
       "5"
      ]
     },
     "execution_count": 86,
     "metadata": {},
     "output_type": "execute_result"
    }
   ],
   "source": [
    "b = lambda num1, num2: num1 + num2\n",
    "b(3,2)"
   ]
  },
  {
   "cell_type": "code",
   "execution_count": 90,
   "id": "586132af",
   "metadata": {},
   "outputs": [
    {
     "data": {
      "text/plain": [
       "[[3, 'X', 'C'], [2, 'Y', 'B'], [1, 'Z', 'A']]"
      ]
     },
     "execution_count": 90,
     "metadata": {},
     "output_type": "execute_result"
    }
   ],
   "source": [
    "d = [[1, \"Z\", \"A\"],\n",
    "     [2,\"Y\", \"B\"],\n",
    "     [3, \"X\", \"C\"]]\n",
    "\n",
    "sorted(d, key=lambda x:x[1])"
   ]
  },
  {
   "cell_type": "code",
   "execution_count": null,
   "id": "247e49ef",
   "metadata": {},
   "outputs": [],
   "source": []
  }
 ],
 "metadata": {
  "kernelspec": {
   "display_name": "Python 3 (ipykernel)",
   "language": "python",
   "name": "python3"
  },
  "language_info": {
   "codemirror_mode": {
    "name": "ipython",
    "version": 3
   },
   "file_extension": ".py",
   "mimetype": "text/x-python",
   "name": "python",
   "nbconvert_exporter": "python",
   "pygments_lexer": "ipython3",
   "version": "3.9.7"
  }
 },
 "nbformat": 4,
 "nbformat_minor": 5
}
