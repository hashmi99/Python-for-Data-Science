{
 "cells": [
  {
   "cell_type": "markdown",
   "id": "cf3fe4e3",
   "metadata": {},
   "source": [
    "# Control Blocks"
   ]
  },
  {
   "cell_type": "markdown",
   "id": "a88cb556",
   "metadata": {},
   "source": [
    "# Programing Paradigms \n",
    "\n",
    "* Linear Programming ---> Write command for every single line\n",
    "* Functional Programming ---> Control the multiple operations with single block\n",
    "* Object Oriented Programming ---> Made objects according to their attributes"
   ]
  },
  {
   "cell_type": "markdown",
   "id": "2ee924e7",
   "metadata": {},
   "source": [
    "# Block Structure\n",
    "\n",
    "* if, else, elif\n",
    "* loop\n",
    "     * for, while\n",
    "     * Break\n",
    "     * Continue\n",
    "     * Pass\n",
    "* def\n",
    "* try\n",
    "* except\n",
    "* finally\n",
    "* with\n"
   ]
  },
  {
   "cell_type": "markdown",
   "id": "c6a4f1c9",
   "metadata": {},
   "source": [
    "# Control Block Syntax\n",
    "\n",
    "### Python Syntax\n",
    "\n",
    "''' \n",
    "    control block keyword:\n",
    "                          Statement 1\n",
    "                          Statement 2\n",
    "                          .\n",
    "                          .\n",
    "                          .\n",
    "                          \n",
    "                          '''\n",
    "### Other Languages\n",
    "                          \n",
    "* Control Blocks are also present in other programing Languages\n",
    "\n",
    "''' \n",
    "    control block keyword{\n",
    "                          Statement 1\n",
    "                          Statement 2\n",
    "                          .\n",
    "                          .\n",
    "                          .\n",
    "                          }\n",
    "                          '''\n"
   ]
  },
  {
   "cell_type": "code",
   "execution_count": 1,
   "id": "977a863e",
   "metadata": {},
   "outputs": [
    {
     "name": "stdout",
     "output_type": "stream",
     "text": [
      "True\n",
      "False\n"
     ]
    }
   ],
   "source": [
    "a = 5\n",
    "b = 7\n",
    "\n",
    "print (a < b)\n",
    "print (a > b)"
   ]
  },
  {
   "cell_type": "markdown",
   "id": "45147f53",
   "metadata": {},
   "source": [
    "# Boolean Logic with 'if'\n",
    "\n",
    "## Syntax\n",
    "\n",
    "'''\n",
    "             if logic: (it will return either true or false)\n",
    "             \n",
    "                    return true block\n",
    "                    \n",
    "             else:\n",
    "                    return false block\n",
    "                    \n",
    "                    '''"
   ]
  },
  {
   "cell_type": "markdown",
   "id": "46c8d7d6",
   "metadata": {},
   "source": [
    "# If, else"
   ]
  },
  {
   "cell_type": "code",
   "execution_count": 2,
   "id": "83056cef",
   "metadata": {},
   "outputs": [
    {
     "name": "stdout",
     "output_type": "stream",
     "text": [
      "Shahzad\n"
     ]
    }
   ],
   "source": [
    "if True:               # It will print the first print command because we have set the condition as \"True\" delibrately\n",
    "    print ('Shahzad')\n",
    "else:\n",
    "    print ('Wrong')"
   ]
  },
  {
   "cell_type": "code",
   "execution_count": 3,
   "id": "fae2eec9",
   "metadata": {},
   "outputs": [
    {
     "name": "stdout",
     "output_type": "stream",
     "text": [
      "Wrong\n"
     ]
    }
   ],
   "source": [
    "if False:               # It will print the 2nd print command because we have set the condition as \"False\" delibrately and if the condition is False it will print else condition. \n",
    "    print ('Shahzad')\n",
    "else:\n",
    "    print ('Wrong')"
   ]
  },
  {
   "cell_type": "code",
   "execution_count": 4,
   "id": "ecaee82c",
   "metadata": {},
   "outputs": [
    {
     "name": "stdout",
     "output_type": "stream",
     "text": [
      "a = 7 is greater than b = 5\n"
     ]
    }
   ],
   "source": [
    "a = 7\n",
    "b = 5\n",
    "\n",
    "if a > b:\n",
    "    print (f'a = {a} is greater than b = {b}')\n",
    "else:\n",
    "    print (f'a = {a} is less than b = {b}')"
   ]
  },
  {
   "cell_type": "code",
   "execution_count": 5,
   "id": "1e8169a1",
   "metadata": {},
   "outputs": [
    {
     "name": "stdout",
     "output_type": "stream",
     "text": [
      "a = 5 is less than b = 7\n"
     ]
    }
   ],
   "source": [
    "a = 5\n",
    "b = 7\n",
    "\n",
    "if a > b:\n",
    "    print (f'a = {a} is greater than b = {b}')\n",
    "else:\n",
    "    print (f'a = {a} is less than b = {b}')"
   ]
  },
  {
   "cell_type": "markdown",
   "id": "6d0c8a4c",
   "metadata": {},
   "source": [
    "# if, elif, else"
   ]
  },
  {
   "cell_type": "code",
   "execution_count": 6,
   "id": "55fd8f38",
   "metadata": {},
   "outputs": [
    {
     "name": "stdout",
     "output_type": "stream",
     "text": [
      "a = 7 is less than b = 10\n"
     ]
    }
   ],
   "source": [
    "a = 7\n",
    "b = 10\n",
    "\n",
    "if a > b:\n",
    "    print(f'a = {a} is greater than b = {b}')\n",
    "elif a < b:\n",
    "    print (f'a = {a} is less than b = {b}')\n",
    "else:\n",
    "    print (f'a = {a} is equal to b = {b}')"
   ]
  },
  {
   "cell_type": "code",
   "execution_count": 7,
   "id": "7f6e4b35",
   "metadata": {},
   "outputs": [
    {
     "name": "stdout",
     "output_type": "stream",
     "text": [
      "a = 10 is equal to b = 10\n"
     ]
    }
   ],
   "source": [
    "a = 10\n",
    "b = 10\n",
    "\n",
    "if a > b:\n",
    "    print(f'a = {a} is greater than b = {b}')\n",
    "elif a < b:\n",
    "    print (f'a = {a} is less than b = {b}')\n",
    "else:\n",
    "    print (f'a = {a} is equal to b = {b}')"
   ]
  },
  {
   "cell_type": "markdown",
   "id": "339a28c2",
   "metadata": {},
   "source": [
    "# Percentage Program"
   ]
  },
  {
   "cell_type": "code",
   "execution_count": 8,
   "id": "3002aaf5",
   "metadata": {},
   "outputs": [
    {
     "name": "stdout",
     "output_type": "stream",
     "text": [
      "Student has got A grade\n"
     ]
    }
   ],
   "source": [
    "per = 80\n",
    "\n",
    "if per >= 80:\n",
    "    print ('Student has got A grade')\n",
    "elif per >= 70 & per < 80:\n",
    "    print ('Grade B')\n",
    "elif per >= 60 & per < 70:\n",
    "    print ('Grade c')\n",
    "elif per >= 50 & per < 60:\n",
    "    print ('Grade D')\n",
    "else:\n",
    "    print(\"Fail\")"
   ]
  },
  {
   "cell_type": "code",
   "execution_count": 9,
   "id": "249d8060",
   "metadata": {},
   "outputs": [
    {
     "name": "stdout",
     "output_type": "stream",
     "text": [
      "Fail\n"
     ]
    }
   ],
   "source": [
    "per = 35\n",
    "\n",
    "if per >= 80:\n",
    "    print ('Student has got A grade')\n",
    "elif per >= 70 and per < 80:\n",
    "    print ('Grade B')\n",
    "elif per >= 60 and per < 70:\n",
    "    print ('Grade c')\n",
    "elif per >= 50 and per < 60:\n",
    "    print ('Grade D')\n",
    "else:\n",
    "    print(\"Fail\")"
   ]
  },
  {
   "cell_type": "code",
   "execution_count": 10,
   "id": "46914166",
   "metadata": {},
   "outputs": [
    {
     "name": "stdout",
     "output_type": "stream",
     "text": [
      "Grade c\n"
     ]
    }
   ],
   "source": [
    "per = 63\n",
    "\n",
    "if per >= 80:\n",
    "    print ('Student has got A grade')\n",
    "elif per >= 70 and per < 80:\n",
    "    print ('Grade B')\n",
    "elif per >= 60 and per < 70:\n",
    "    print ('Grade c')\n",
    "elif per >= 50 and per < 60:\n",
    "    print ('Grade D')\n",
    "else:\n",
    "    print(\"Fail\")"
   ]
  },
  {
   "cell_type": "markdown",
   "id": "d55a8522",
   "metadata": {},
   "source": [
    "# Authentiation System"
   ]
  },
  {
   "cell_type": "code",
   "execution_count": 11,
   "id": "1cf9582a",
   "metadata": {},
   "outputs": [
    {
     "name": "stdout",
     "output_type": "stream",
     "text": [
      "Enter the User Name \n",
      "shahzad92\n",
      "Enter the Password \n",
      "admin123\n",
      "Login Successfully ---- shahzad92\n"
     ]
    }
   ],
   "source": [
    "a = input (\"Enter the User Name \\n\")\n",
    "b = input (\"Enter the Password \\n\")\n",
    "\n",
    "if a == \"shahzad92\" and b == \"admin123\":\n",
    "    print (f\"Login Successfully ---- {a}\")\n",
    "else:\n",
    "    print (\"User Id/Password is wrong ----- Try Again\")\n",
    "    "
   ]
  },
  {
   "cell_type": "markdown",
   "id": "5d4de53f",
   "metadata": {},
   "source": [
    "# Task - 1\n",
    "\n",
    "* Nationality, City, University, Age\n",
    "* 18+, NED\n",
    "* Local or International Student"
   ]
  },
  {
   "cell_type": "code",
   "execution_count": 14,
   "id": "682d1bbe",
   "metadata": {},
   "outputs": [
    {
     "name": "stdout",
     "output_type": "stream",
     "text": [
      "Enter your Country of Residence \n",
      "Australia\n",
      "Enter your Age \n",
      "20\n",
      "Enter your University Name \n",
      "NED\n",
      "Enter your City \n",
      "Sydney\n",
      "-----------------------------------------------------\n",
      "International Student\n"
     ]
    }
   ],
   "source": [
    "a = input (\"Enter your Country of Residence \\n\")\n",
    "b = int (input (\"Enter your Age \\n\"))\n",
    "c = input (\"Enter your University Name \\n\")\n",
    "d = input (\"Enter your City \\n\")\n",
    "\n",
    "print (\"-----------------------------------------------------\")\n",
    "\n",
    "\n",
    "if a == \"Pakistan\" and c == \"NED\" and b >= 18:\n",
    "    print (\"Local Student\")\n",
    "elif a != \"Pakistan\" and c == \"NED\" and b >= 18:\n",
    "    print (\"International Student\")\n",
    "elif a != \"Pakistan\" and c != \"NED\" and b >= 18:\n",
    "    print (\"Not an NEDIAN\")\n",
    "else:\n",
    "    print (\"Age is {b} that is <= 18 and cannot be entertained\")"
   ]
  },
  {
   "cell_type": "code",
   "execution_count": 16,
   "id": "6695bc0a",
   "metadata": {},
   "outputs": [
    {
     "name": "stdout",
     "output_type": "stream",
     "text": [
      "Enter your Country of Residence \n",
      "Pakistan\n",
      "Enter your Age \n",
      "15\n",
      "Enter your University Name \n",
      "UMT\n",
      "Enter your City \n",
      "Multan\n",
      "-----------------------------------------------------\n",
      "Age is 15 that is <= 18 and cannot be entartained\n"
     ]
    }
   ],
   "source": [
    "a = input (\"Enter your Country of Residence \\n\")\n",
    "b = int (input (\"Enter your Age \\n\"))\n",
    "c = input (\"Enter your University Name \\n\")\n",
    "d = input (\"Enter your City \\n\")\n",
    "\n",
    "print (\"-----------------------------------------------------\")\n",
    "\n",
    "\n",
    "if a == \"Pakistan\" and c == \"NED\" and b >= 18:\n",
    "    print (\"Local Student\")\n",
    "elif a != \"Pakistan\" and c == \"NED\" and b >= 18:\n",
    "    print (\"International Student\")\n",
    "elif a != \"Pakistan\" and c != \"NED\" and b >= 18:\n",
    "    print (\"Not an NEDIAN\")\n",
    "else:\n",
    "    print (f\"Age is {b} that is <= 18 and cannot be entertained\")"
   ]
  },
  {
   "cell_type": "code",
   "execution_count": 19,
   "id": "9036adf1",
   "metadata": {},
   "outputs": [
    {
     "name": "stdout",
     "output_type": "stream",
     "text": [
      "Enter your Country of Residence \n",
      "Pakistan\n",
      "Enter your Age \n",
      "20\n",
      "Enter your University Name \n",
      "UMT\n",
      "Enter your City \n",
      "KHi\n",
      "-----------------------------------------------------\n",
      "Not an NED Student\n"
     ]
    }
   ],
   "source": [
    "a = input (\"Enter your Country of Residence \\n\")\n",
    "b = int (input (\"Enter your Age \\n\"))\n",
    "c = input (\"Enter your University Name \\n\")\n",
    "d = input (\"Enter your City \\n\")\n",
    "\n",
    "print (\"-----------------------------------------------------\")\n",
    "\n",
    "\n",
    "if a == \"Pakistan\" and c == \"NED\" and b >= 18:\n",
    "    print (\"Local Student\")\n",
    "elif a != \"Pakistan\" and c == \"NED\" and b >= 18:\n",
    "    print (\"International Student\")\n",
    "elif a == \"Pakistan\" and c != \"NED\" and b >= 18:\n",
    "    print (\"Not an NED Student\")\n",
    "elif a != \"Pakistan\" and c != \"NED\" and b >= 18:\n",
    "    print (\"Not an NEDIAN\")\n",
    "else:\n",
    "    print (f\"Age is {b} that is <= 18 and cannot be entertained\")"
   ]
  },
  {
   "cell_type": "markdown",
   "id": "8f7d140d",
   "metadata": {},
   "source": [
    "# Comprehensive Style\n",
    "\n",
    "* Write all logic on one line\n",
    "* If, else ---> can be written in one line only that called the comprehensive style\n",
    "\n",
    "## Syntax\n",
    "\n",
    "''' \n",
    "     if logic:\n",
    "     return true block body\n",
    "     else:\n",
    "     return False block body\n",
    " '''\n",
    " \n",
    " ### Syntax of Comprehensive Style\n",
    " \n",
    " { return true block body } (if Logic) (else) { return False block body }\n",
    "\n"
   ]
  },
  {
   "cell_type": "markdown",
   "id": "788cfc4d",
   "metadata": {},
   "source": [
    "## Examples of Comprehensive Style"
   ]
  },
  {
   "cell_type": "code",
   "execution_count": 22,
   "id": "fdc43646",
   "metadata": {},
   "outputs": [
    {
     "name": "stdout",
     "output_type": "stream",
     "text": [
      "True Block\n"
     ]
    }
   ],
   "source": [
    "a = 10\n",
    "b = 5\n",
    "\n",
    "#  True condition   if logic  else   False Logic\n",
    "\n",
    "print (\"True Block\") if a > b else print (\"Not True\")\n"
   ]
  },
  {
   "cell_type": "code",
   "execution_count": 24,
   "id": "4a7797af",
   "metadata": {},
   "outputs": [
    {
     "name": "stdout",
     "output_type": "stream",
     "text": [
      "Not True\n"
     ]
    }
   ],
   "source": [
    "a = 10\n",
    "b = 15\n",
    "\n",
    "#  True condition   if logic  else   False Logic\n",
    "\n",
    "print (\"True Block\") if a > b else print (\"Not True\")\n"
   ]
  },
  {
   "cell_type": "markdown",
   "id": "5c009503",
   "metadata": {},
   "source": [
    "# Tuple\n",
    "\n",
    "* ()\n",
    "* Immutable\n"
   ]
  },
  {
   "cell_type": "code",
   "execution_count": 34,
   "id": "70460c6e",
   "metadata": {},
   "outputs": [
    {
     "name": "stdout",
     "output_type": "stream",
     "text": [
      "Pak\n",
      "1\n",
      "2\n"
     ]
    }
   ],
   "source": [
    "data = (\"Pak\", \"Aus\", \"Eng\")\n",
    "print (data[0])\n",
    "print (data.count (\"Aus\"))\n",
    "print (data.index (\"Eng\"))"
   ]
  },
  {
   "cell_type": "code",
   "execution_count": 28,
   "id": "4aa6c87f",
   "metadata": {},
   "outputs": [
    {
     "data": {
      "text/plain": [
       "['__add__',\n",
       " '__class__',\n",
       " '__class_getitem__',\n",
       " '__contains__',\n",
       " '__delattr__',\n",
       " '__dir__',\n",
       " '__doc__',\n",
       " '__eq__',\n",
       " '__format__',\n",
       " '__ge__',\n",
       " '__getattribute__',\n",
       " '__getitem__',\n",
       " '__getnewargs__',\n",
       " '__gt__',\n",
       " '__hash__',\n",
       " '__init__',\n",
       " '__init_subclass__',\n",
       " '__iter__',\n",
       " '__le__',\n",
       " '__len__',\n",
       " '__lt__',\n",
       " '__mul__',\n",
       " '__ne__',\n",
       " '__new__',\n",
       " '__reduce__',\n",
       " '__reduce_ex__',\n",
       " '__repr__',\n",
       " '__rmul__',\n",
       " '__setattr__',\n",
       " '__sizeof__',\n",
       " '__str__',\n",
       " '__subclasshook__',\n",
       " 'count',\n",
       " 'index']"
      ]
     },
     "execution_count": 28,
     "metadata": {},
     "output_type": "execute_result"
    }
   ],
   "source": [
    "dir (data)"
   ]
  }
 ],
 "metadata": {
  "kernelspec": {
   "display_name": "Python 3 (ipykernel)",
   "language": "python",
   "name": "python3"
  },
  "language_info": {
   "codemirror_mode": {
    "name": "ipython",
    "version": 3
   },
   "file_extension": ".py",
   "mimetype": "text/x-python",
   "name": "python",
   "nbconvert_exporter": "python",
   "pygments_lexer": "ipython3",
   "version": "3.9.7"
  }
 },
 "nbformat": 4,
 "nbformat_minor": 5
}
