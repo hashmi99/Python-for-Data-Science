{
 "cells": [
  {
   "cell_type": "markdown",
   "id": "e8f04126",
   "metadata": {},
   "source": [
    "# Naming Convention  \n",
    "\n",
    "- It says that if variable is consisted upon 2 words put underscore (_) between them"
   ]
  },
  {
   "cell_type": "markdown",
   "id": "1e5372ca",
   "metadata": {},
   "source": [
    "# Version of Python\n",
    "\n",
    "- 2.1.7 \n",
    "-[Core_Structure] [New_Features] [Bugs_Fixing]\n",
    "- [2]                   [1]           [7]\n",
    "\n",
    "- In Python 2 ----> print = \"Pakistan\"\n",
    "- In Python 3-----> print = (\"Pakistan\")"
   ]
  },
  {
   "cell_type": "markdown",
   "id": "0c4be907",
   "metadata": {},
   "source": [
    "# Student Card \n",
    "- ISO has set the format of date as year-month-date, this is the international standard to be followed\n",
    "- batch is written as string (04) because if we write 0 before any figure it will be ommitted automatically so to keep it with the digit we have kept it as a string."
   ]
  },
  {
   "cell_type": "code",
   "execution_count": 46,
   "id": "ab24f3b3",
   "metadata": {},
   "outputs": [],
   "source": [
    "student_name = \"Shahzad Hashmi\"\n",
    "student_father_name =  \"M. Azam Hashmi\"\n",
    "batch = \"04\"\n",
    "university_name = \"NED\"\n",
    "age = 30\n",
    "date_of_admission = \"2023-01-16\"\n"
   ]
  },
  {
   "cell_type": "markdown",
   "id": "50274694",
   "metadata": {},
   "source": [
    "# Methods to make a student card from text"
   ]
  },
  {
   "cell_type": "code",
   "execution_count": 47,
   "id": "97a78b69",
   "metadata": {},
   "outputs": [
    {
     "name": "stdout",
     "output_type": "stream",
     "text": [
      " \n",
      "\n",
      "NED PGD\n",
      "\n",
      "University Name: \n",
      "Student Name: \n",
      "Father Name: \n",
      "Batch:\n",
      "Age: \n",
      " \n",
      "\n"
     ]
    }
   ],
   "source": [
    "student_card = \"\"\" \n",
    "\n",
    "NED PGD\n",
    "\n",
    "University Name: \n",
    "Student Name: \n",
    "Father Name: \n",
    "Batch:\n",
    "Age: \n",
    " \n",
    "\"\"\"\n",
    "\n",
    "print (student_card)"
   ]
  },
  {
   "cell_type": "markdown",
   "id": "3d40591c",
   "metadata": {},
   "source": [
    "# Method - 1: Through Concatination \n",
    "\n",
    "- The text between (\"\"\" \"\"\") is string\n",
    "- The text with (+) is text\n",
    "- So, we use (+) to join both strings and parts\n",
    "- Color of string ----> Red\n",
    "- Color of Operators ----> Purple\n",
    "\n",
    "## In this method the formating is a challenge"
   ]
  },
  {
   "cell_type": "code",
   "execution_count": 48,
   "id": "71c25638",
   "metadata": {},
   "outputs": [
    {
     "name": "stdout",
     "output_type": "stream",
     "text": [
      " \n",
      "\n",
      "NED PGD\n",
      "\n",
      "University Name: NED Student Name: Shahzad Hashmi \n",
      "Student Father Name: M. Azam Hashmi Age: 30\n"
     ]
    }
   ],
   "source": [
    "student_name = \"Shahzad Hashmi\"\n",
    "student_father_name =  \"M. Azam Hashmi\"\n",
    "batch = \"04\"\n",
    "university_name = \"NED\"\n",
    "age = 30\n",
    "date_of_admission = \"2023-01-16\"\n",
    "\n",
    "\n",
    "student_card = \"\"\" \n",
    "\n",
    "NED PGD\n",
    "\n",
    "University Name: \"\"\" + str (university_name)+ \"\"\" Student Name: \"\"\" + str (student_name)+ \"\"\" \n",
    "Student Father Name: \"\"\" + str (student_father_name)+ \"\"\" Age: \"\"\" + str (age)\n",
    "\n",
    "\n",
    "print (student_card)"
   ]
  },
  {
   "cell_type": "markdown",
   "id": "b9d9df8d",
   "metadata": {},
   "source": [
    "# Methods \n",
    "\n",
    "- \"---\".   ----> Write any data type and after that put a dot (.) it will display the methods that can be implemented on that particular type\n",
    "- Put () after writing the method name need to be applied"
   ]
  },
  {
   "cell_type": "code",
   "execution_count": 49,
   "id": "69a94127",
   "metadata": {},
   "outputs": [
    {
     "name": "stdout",
     "output_type": "stream",
     "text": [
      "Hello World\n",
      "\n",
      "hello world\n"
     ]
    }
   ],
   "source": [
    "a = \"Hello World\"\n",
    "print (a)\n",
    "print ()\n",
    "print (a.lower ())"
   ]
  },
  {
   "cell_type": "markdown",
   "id": "3bccdc8c",
   "metadata": {},
   "source": [
    "# Method - 2: Through Use of \"format\" Function\n",
    "\n",
    "## Formation with .format string method\n",
    "\n",
    "- Here use function {.format()} \n",
    "- Put {} infront of place where each variable require\n",
    "- In .format ()----> write variable names in sequence separated by comma\n",
    "- Curly brackets {} will put the variable in sequence from .format ()\n",
    "- {} called the place holder"
   ]
  },
  {
   "cell_type": "code",
   "execution_count": 50,
   "id": "209b32f0",
   "metadata": {},
   "outputs": [
    {
     "name": "stdout",
     "output_type": "stream",
     "text": [
      " \n",
      "\n",
      "NNED PGD\n",
      "\n",
      "University Name:  NED  Student Name: Shahzad Hashmi\n",
      "Father Name: M. Azam Hashmi Batch: 04 Age: 30  \n",
      " \n",
      " \n"
     ]
    }
   ],
   "source": [
    "student_name = \"Shahzad Hashmi\"\n",
    "student_father_name =  \"M. Azam Hashmi\"\n",
    "batch = \"04\"\n",
    "university_name = \"NED\"\n",
    "age = 30\n",
    "date_of_admission = \"2023-01-16\"\n",
    "\n",
    "\n",
    "student_card = \"\"\" \n",
    "\n",
    "NNED PGD\n",
    "\n",
    "University Name:  {}  Student Name: {}\n",
    "Father Name: {} Batch: {} Age: {}  \n",
    " \n",
    " \"\"\" .format (university_name, student_name, student_father_name, batch, age)\n",
    "\n",
    "\n",
    "print (student_card)"
   ]
  },
  {
   "cell_type": "markdown",
   "id": "e9360cd7",
   "metadata": {},
   "source": [
    "# Method - 3: Through \"Indexing\""
   ]
  },
  {
   "cell_type": "code",
   "execution_count": 51,
   "id": "b6b8c571",
   "metadata": {},
   "outputs": [
    {
     "name": "stdout",
     "output_type": "stream",
     "text": [
      " \n",
      "\n",
      "NNED PGD\n",
      "\n",
      "University Name:  NED  Student Name: Shahzad Hashmi\n",
      "Father Name: M. Azam Hashmi Batch: 04 Age: 30  \n",
      " \n",
      " \n"
     ]
    }
   ],
   "source": [
    "student_name = \"Shahzad Hashmi\"\n",
    "student_father_name =  \"M. Azam Hashmi\"\n",
    "batch = \"04\"\n",
    "university_name = \"NED\"\n",
    "age = 30\n",
    "date_of_admission = \"2023-01-16\"\n",
    "\n",
    "\n",
    "student_card = \"\"\" \n",
    "\n",
    "NNED PGD\n",
    "\n",
    "University Name:  {0}  Student Name: {1}\n",
    "Father Name: {2} Batch: {3} Age: {4}  \n",
    " \n",
    " \"\"\" .format (university_name, student_name, student_father_name, batch, age)\n",
    "# Index         0                  1                2              3      4\n",
    "\n",
    "print (student_card)"
   ]
  },
  {
   "cell_type": "markdown",
   "id": "2757eda6",
   "metadata": {},
   "source": [
    "# Method - 4: Through the use if 'f' before \"str (variable_name)\n",
    "\n",
    "- In this method 'f' is type before \"str (variable_name)\n"
   ]
  },
  {
   "cell_type": "code",
   "execution_count": 52,
   "id": "a0bb0062",
   "metadata": {},
   "outputs": [
    {
     "name": "stdout",
     "output_type": "stream",
     "text": [
      " \n",
      "\n",
      "NNED PGD\n",
      "\n",
      "University Name:  NED  Student Name: Shahzad Hashmi\n",
      "Father Name: M. Azam Hashmi Batch: 04 Age: 30  \n",
      " \n",
      " \n"
     ]
    }
   ],
   "source": [
    "student_name = \"Shahzad Hashmi\"\n",
    "student_father_name =  \"M. Azam Hashmi\"\n",
    "batch = \"04\"\n",
    "university_name = \"NED\"\n",
    "age = 30\n",
    "date_of_admission = \"2023-01-16\"\n",
    "\n",
    "\n",
    "student_card = f\"\"\" \n",
    "\n",
    "NNED PGD\n",
    "\n",
    "University Name:  {university_name}  Student Name: {student_name}\n",
    "Father Name: {student_father_name} Batch: {batch} Age: {age}  \n",
    " \n",
    " \"\"\" \n",
    "\n",
    "print (student_card)"
   ]
  },
  {
   "cell_type": "markdown",
   "id": "46ace926",
   "metadata": {},
   "source": [
    "# Method - 5: Through the use of %s and %d Place holders\n",
    "\n",
    "- %s-------> place holder for text/string\n",
    "- %d-------> place holder for integer/number\n",
    "- Put % in frond of variable names"
   ]
  },
  {
   "cell_type": "code",
   "execution_count": 54,
   "id": "c7229b2a",
   "metadata": {},
   "outputs": [
    {
     "name": "stdout",
     "output_type": "stream",
     "text": [
      " \n",
      "\n",
      "NNED PGD\n",
      "\n",
      "University Name:  NED  Student Name: Shahzad Hashmi\n",
      "Father Name: M. Azam Hashmi Batch: 04 Age: 30  \n",
      " \n",
      " \n"
     ]
    }
   ],
   "source": [
    "student_name = \"Shahzad Hashmi\"\n",
    "student_father_name =  \"M. Azam Hashmi\"\n",
    "batch = \"04\"\n",
    "university_name = \"NED\"\n",
    "age = 30\n",
    "date_of_admission = \"2023-01-16\"\n",
    "\n",
    "\n",
    "student_card = \"\"\" \n",
    "\n",
    "NED PGD\n",
    "\n",
    "University Name:  %s  Student Name: %s\n",
    "Father Name: %s Batch: %s Age: %d  \n",
    " \n",
    " \"\"\" % (university_name, student_name, student_father_name, batch, age)\n",
    "\n",
    "print (student_card)"
   ]
  },
  {
   "cell_type": "markdown",
   "id": "cb2fa2b7",
   "metadata": {},
   "source": [
    "# Print Cards for Multiple Students \n",
    "\n",
    "- Install ods reader for reading the excel in Ubuntu"
   ]
  },
  {
   "cell_type": "code",
   "execution_count": 69,
   "id": "e322aa7b",
   "metadata": {},
   "outputs": [
    {
     "name": "stdout",
     "output_type": "stream",
     "text": [
      "Collecting pandas_ods_reader\n",
      "  Downloading pandas_ods_reader-0.1.4-py3-none-any.whl (6.7 kB)\n",
      "Requirement already satisfied: lxml<5.0.0,>=4.6.3 in /home/ubuntu/anaconda3/lib/python3.9/site-packages (from pandas_ods_reader) (4.6.3)\n",
      "Collecting ezodf<0.4.0,>=0.3.2\n",
      "  Downloading ezodf-0.3.2.tar.gz (125 kB)\n",
      "\u001b[K     |████████████████████████████████| 125 kB 151 kB/s eta 0:00:01\n",
      "\u001b[?25hRequirement already satisfied: pandas<2.0.0,>=1.0.0 in /home/ubuntu/anaconda3/lib/python3.9/site-packages (from pandas_ods_reader) (1.3.4)\n",
      "Requirement already satisfied: python-dateutil>=2.7.3 in /home/ubuntu/anaconda3/lib/python3.9/site-packages (from pandas<2.0.0,>=1.0.0->pandas_ods_reader) (2.8.2)\n",
      "Requirement already satisfied: pytz>=2017.3 in /home/ubuntu/anaconda3/lib/python3.9/site-packages (from pandas<2.0.0,>=1.0.0->pandas_ods_reader) (2021.3)\n",
      "Requirement already satisfied: numpy>=1.17.3 in /home/ubuntu/anaconda3/lib/python3.9/site-packages (from pandas<2.0.0,>=1.0.0->pandas_ods_reader) (1.20.3)\n",
      "Requirement already satisfied: six>=1.5 in /home/ubuntu/anaconda3/lib/python3.9/site-packages (from python-dateutil>=2.7.3->pandas<2.0.0,>=1.0.0->pandas_ods_reader) (1.16.0)\n",
      "Building wheels for collected packages: ezodf\n",
      "  Building wheel for ezodf (setup.py) ... \u001b[?25ldone\n",
      "\u001b[?25h  Created wheel for ezodf: filename=ezodf-0.3.2-py2.py3-none-any.whl size=49004 sha256=ef5ceb37232ad47807b68fe8524a5d749bd537c75dd334c4d4b8edccf4022262\n",
      "  Stored in directory: /home/ubuntu/.cache/pip/wheels/d0/0e/c2/1af349f0c9e110ed08133a3d579f402f3ec1c031eac80bc084\n",
      "Successfully built ezodf\n",
      "Installing collected packages: ezodf, pandas-ods-reader\n",
      "Successfully installed ezodf-0.3.2 pandas-ods-reader-0.1.4\n"
     ]
    }
   ],
   "source": [
    "#!pip install pandas_ods_reader"
   ]
  },
  {
   "cell_type": "code",
   "execution_count": 78,
   "id": "dfce1f14",
   "metadata": {},
   "outputs": [
    {
     "data": {
      "text/html": [
       "<div>\n",
       "<style scoped>\n",
       "    .dataframe tbody tr th:only-of-type {\n",
       "        vertical-align: middle;\n",
       "    }\n",
       "\n",
       "    .dataframe tbody tr th {\n",
       "        vertical-align: top;\n",
       "    }\n",
       "\n",
       "    .dataframe thead th {\n",
       "        text-align: right;\n",
       "    }\n",
       "</style>\n",
       "<table border=\"1\" class=\"dataframe\">\n",
       "  <thead>\n",
       "    <tr style=\"text-align: right;\">\n",
       "      <th></th>\n",
       "      <th>ID</th>\n",
       "      <th>Name</th>\n",
       "      <th>Course</th>\n",
       "    </tr>\n",
       "  </thead>\n",
       "  <tbody>\n",
       "    <tr>\n",
       "      <th>0</th>\n",
       "      <td>12.0</td>\n",
       "      <td>Ahsan</td>\n",
       "      <td>EE</td>\n",
       "    </tr>\n",
       "    <tr>\n",
       "      <th>1</th>\n",
       "      <td>9.0</td>\n",
       "      <td>Hamza</td>\n",
       "      <td>CE</td>\n",
       "    </tr>\n",
       "    <tr>\n",
       "      <th>2</th>\n",
       "      <td>13.0</td>\n",
       "      <td>Islam</td>\n",
       "      <td>SE</td>\n",
       "    </tr>\n",
       "    <tr>\n",
       "      <th>3</th>\n",
       "      <td>14.0</td>\n",
       "      <td>Aslam</td>\n",
       "      <td>AI</td>\n",
       "    </tr>\n",
       "    <tr>\n",
       "      <th>4</th>\n",
       "      <td>15.0</td>\n",
       "      <td>Hammad</td>\n",
       "      <td>PG</td>\n",
       "    </tr>\n",
       "    <tr>\n",
       "      <th>5</th>\n",
       "      <td>19.0</td>\n",
       "      <td>Shahzad</td>\n",
       "      <td>AI</td>\n",
       "    </tr>\n",
       "    <tr>\n",
       "      <th>6</th>\n",
       "      <td>20.0</td>\n",
       "      <td>Asghar</td>\n",
       "      <td>BBA</td>\n",
       "    </tr>\n",
       "    <tr>\n",
       "      <th>7</th>\n",
       "      <td>32.0</td>\n",
       "      <td>Fawad</td>\n",
       "      <td>DPT</td>\n",
       "    </tr>\n",
       "    <tr>\n",
       "      <th>8</th>\n",
       "      <td>28.0</td>\n",
       "      <td>Taha</td>\n",
       "      <td>CS</td>\n",
       "    </tr>\n",
       "  </tbody>\n",
       "</table>\n",
       "</div>"
      ],
      "text/plain": [
       "     ID     Name Course\n",
       "0  12.0    Ahsan     EE\n",
       "1   9.0    Hamza     CE\n",
       "2  13.0    Islam     SE\n",
       "3  14.0    Aslam     AI\n",
       "4  15.0   Hammad     PG\n",
       "5  19.0  Shahzad     AI\n",
       "6  20.0   Asghar    BBA\n",
       "7  32.0    Fawad    DPT\n",
       "8  28.0     Taha     CS"
      ]
     },
     "execution_count": 78,
     "metadata": {},
     "output_type": "execute_result"
    }
   ],
   "source": [
    "import pandas as pd\n",
    "import numpy as np\n",
    "from pandas_ods_reader import read_ods\n",
    "base_path = \"./Data.ods\"\n",
    "sheet_index = 1\n",
    "df = read_ods(base_path , sheet_index )\n",
    "\n",
    "df.head (10)"
   ]
  },
  {
   "cell_type": "code",
   "execution_count": 83,
   "id": "f0941d1b",
   "metadata": {},
   "outputs": [
    {
     "name": "stdout",
     "output_type": "stream",
     "text": [
      "\n",
      "    \n",
      "    NED Student Card\n",
      "    \n",
      "    ID: 12.0\n",
      "    Name: Ahsan\n",
      "    Course: EE\n",
      "    \n",
      "------------------------------------\n",
      "\n",
      "    \n",
      "    NED Student Card\n",
      "    \n",
      "    ID: 9.0\n",
      "    Name: Hamza\n",
      "    Course: CE\n",
      "    \n",
      "------------------------------------\n",
      "\n",
      "    \n",
      "    NED Student Card\n",
      "    \n",
      "    ID: 13.0\n",
      "    Name: Islam\n",
      "    Course: SE\n",
      "    \n",
      "------------------------------------\n",
      "\n",
      "    \n",
      "    NED Student Card\n",
      "    \n",
      "    ID: 14.0\n",
      "    Name: Aslam\n",
      "    Course: AI\n",
      "    \n",
      "------------------------------------\n",
      "\n",
      "    \n",
      "    NED Student Card\n",
      "    \n",
      "    ID: 15.0\n",
      "    Name: Hammad\n",
      "    Course: PG\n",
      "    \n",
      "------------------------------------\n",
      "\n",
      "    \n",
      "    NED Student Card\n",
      "    \n",
      "    ID: 19.0\n",
      "    Name: Shahzad\n",
      "    Course: AI\n",
      "    \n",
      "------------------------------------\n",
      "\n",
      "    \n",
      "    NED Student Card\n",
      "    \n",
      "    ID: 20.0\n",
      "    Name: Asghar\n",
      "    Course: BBA\n",
      "    \n",
      "------------------------------------\n",
      "\n",
      "    \n",
      "    NED Student Card\n",
      "    \n",
      "    ID: 32.0\n",
      "    Name: Fawad\n",
      "    Course: DPT\n",
      "    \n",
      "------------------------------------\n",
      "\n",
      "    \n",
      "    NED Student Card\n",
      "    \n",
      "    ID: 28.0\n",
      "    Name: Taha\n",
      "    Course: CS\n",
      "    \n",
      "------------------------------------\n"
     ]
    }
   ],
   "source": [
    "for ID, Name, Course in df.values:\n",
    "    card = f\"\"\"\n",
    "    \n",
    "    NED Student Card\n",
    "    \n",
    "    ID: {ID}\n",
    "    Name: {Name}\n",
    "    Course: {Course}\n",
    "    \"\"\"\n",
    "    print (card)\n",
    "    print (\"------------------------------------\")"
   ]
  },
  {
   "cell_type": "markdown",
   "id": "f8108bb0",
   "metadata": {},
   "source": [
    "# Help"
   ]
  },
  {
   "cell_type": "code",
   "execution_count": 84,
   "id": "55bd4d25",
   "metadata": {},
   "outputs": [
    {
     "name": "stdout",
     "output_type": "stream",
     "text": [
      "Help on built-in function print in module builtins:\n",
      "\n",
      "print(...)\n",
      "    print(value, ..., sep=' ', end='\\n', file=sys.stdout, flush=False)\n",
      "    \n",
      "    Prints the values to a stream, or to sys.stdout by default.\n",
      "    Optional keyword arguments:\n",
      "    file:  a file-like object (stream); defaults to the current sys.stdout.\n",
      "    sep:   string inserted between values, default a space.\n",
      "    end:   string appended after the last value, default a newline.\n",
      "    flush: whether to forcibly flush the stream.\n",
      "\n"
     ]
    }
   ],
   "source": [
    "help (print)"
   ]
  },
  {
   "cell_type": "code",
   "execution_count": 85,
   "id": "453fa456",
   "metadata": {},
   "outputs": [],
   "source": [
    "?help"
   ]
  },
  {
   "cell_type": "code",
   "execution_count": 87,
   "id": "f388740d",
   "metadata": {},
   "outputs": [],
   "source": [
    "help??"
   ]
  },
  {
   "cell_type": "code",
   "execution_count": null,
   "id": "fc7dcdf3",
   "metadata": {},
   "outputs": [],
   "source": [
    "help?"
   ]
  },
  {
   "cell_type": "code",
   "execution_count": null,
   "id": "add183bc",
   "metadata": {},
   "outputs": [],
   "source": [
    "# Function name () and press shift + Tab"
   ]
  },
  {
   "cell_type": "markdown",
   "id": "665154da",
   "metadata": {},
   "source": [
    "# Visualise all Methods and Functions of a Datatype"
   ]
  },
  {
   "cell_type": "code",
   "execution_count": 88,
   "id": "3f5f4980",
   "metadata": {},
   "outputs": [
    {
     "data": {
      "text/plain": [
       "['__add__',\n",
       " '__class__',\n",
       " '__contains__',\n",
       " '__delattr__',\n",
       " '__dir__',\n",
       " '__doc__',\n",
       " '__eq__',\n",
       " '__format__',\n",
       " '__ge__',\n",
       " '__getattribute__',\n",
       " '__getitem__',\n",
       " '__getnewargs__',\n",
       " '__gt__',\n",
       " '__hash__',\n",
       " '__init__',\n",
       " '__init_subclass__',\n",
       " '__iter__',\n",
       " '__le__',\n",
       " '__len__',\n",
       " '__lt__',\n",
       " '__mod__',\n",
       " '__mul__',\n",
       " '__ne__',\n",
       " '__new__',\n",
       " '__reduce__',\n",
       " '__reduce_ex__',\n",
       " '__repr__',\n",
       " '__rmod__',\n",
       " '__rmul__',\n",
       " '__setattr__',\n",
       " '__sizeof__',\n",
       " '__str__',\n",
       " '__subclasshook__',\n",
       " 'capitalize',\n",
       " 'casefold',\n",
       " 'center',\n",
       " 'count',\n",
       " 'encode',\n",
       " 'endswith',\n",
       " 'expandtabs',\n",
       " 'find',\n",
       " 'format',\n",
       " 'format_map',\n",
       " 'index',\n",
       " 'isalnum',\n",
       " 'isalpha',\n",
       " 'isascii',\n",
       " 'isdecimal',\n",
       " 'isdigit',\n",
       " 'isidentifier',\n",
       " 'islower',\n",
       " 'isnumeric',\n",
       " 'isprintable',\n",
       " 'isspace',\n",
       " 'istitle',\n",
       " 'isupper',\n",
       " 'join',\n",
       " 'ljust',\n",
       " 'lower',\n",
       " 'lstrip',\n",
       " 'maketrans',\n",
       " 'partition',\n",
       " 'removeprefix',\n",
       " 'removesuffix',\n",
       " 'replace',\n",
       " 'rfind',\n",
       " 'rindex',\n",
       " 'rjust',\n",
       " 'rpartition',\n",
       " 'rsplit',\n",
       " 'rstrip',\n",
       " 'split',\n",
       " 'splitlines',\n",
       " 'startswith',\n",
       " 'strip',\n",
       " 'swapcase',\n",
       " 'title',\n",
       " 'translate',\n",
       " 'upper',\n",
       " 'zfill']"
      ]
     },
     "execution_count": 88,
     "metadata": {},
     "output_type": "execute_result"
    }
   ],
   "source": [
    "dir (str)"
   ]
  },
  {
   "cell_type": "code",
   "execution_count": 89,
   "id": "feb7ee8f",
   "metadata": {},
   "outputs": [
    {
     "data": {
      "text/plain": [
       "['__abs__',\n",
       " '__add__',\n",
       " '__and__',\n",
       " '__bool__',\n",
       " '__ceil__',\n",
       " '__class__',\n",
       " '__delattr__',\n",
       " '__dir__',\n",
       " '__divmod__',\n",
       " '__doc__',\n",
       " '__eq__',\n",
       " '__float__',\n",
       " '__floor__',\n",
       " '__floordiv__',\n",
       " '__format__',\n",
       " '__ge__',\n",
       " '__getattribute__',\n",
       " '__getnewargs__',\n",
       " '__gt__',\n",
       " '__hash__',\n",
       " '__index__',\n",
       " '__init__',\n",
       " '__init_subclass__',\n",
       " '__int__',\n",
       " '__invert__',\n",
       " '__le__',\n",
       " '__lshift__',\n",
       " '__lt__',\n",
       " '__mod__',\n",
       " '__mul__',\n",
       " '__ne__',\n",
       " '__neg__',\n",
       " '__new__',\n",
       " '__or__',\n",
       " '__pos__',\n",
       " '__pow__',\n",
       " '__radd__',\n",
       " '__rand__',\n",
       " '__rdivmod__',\n",
       " '__reduce__',\n",
       " '__reduce_ex__',\n",
       " '__repr__',\n",
       " '__rfloordiv__',\n",
       " '__rlshift__',\n",
       " '__rmod__',\n",
       " '__rmul__',\n",
       " '__ror__',\n",
       " '__round__',\n",
       " '__rpow__',\n",
       " '__rrshift__',\n",
       " '__rshift__',\n",
       " '__rsub__',\n",
       " '__rtruediv__',\n",
       " '__rxor__',\n",
       " '__setattr__',\n",
       " '__sizeof__',\n",
       " '__str__',\n",
       " '__sub__',\n",
       " '__subclasshook__',\n",
       " '__truediv__',\n",
       " '__trunc__',\n",
       " '__xor__',\n",
       " 'as_integer_ratio',\n",
       " 'bit_length',\n",
       " 'conjugate',\n",
       " 'denominator',\n",
       " 'from_bytes',\n",
       " 'imag',\n",
       " 'numerator',\n",
       " 'real',\n",
       " 'to_bytes']"
      ]
     },
     "execution_count": 89,
     "metadata": {},
     "output_type": "execute_result"
    }
   ],
   "source": [
    "dir (int)"
   ]
  },
  {
   "cell_type": "code",
   "execution_count": 92,
   "id": "b2434c6e",
   "metadata": {},
   "outputs": [
    {
     "name": "stdout",
     "output_type": "stream",
     "text": [
      "Pakistan is my strength\n"
     ]
    }
   ],
   "source": [
    "a = \"Pakistan is mY StrenGth\"\n",
    "print (a.capitalize ())"
   ]
  },
  {
   "cell_type": "code",
   "execution_count": 94,
   "id": "b16ad7e8",
   "metadata": {},
   "outputs": [
    {
     "name": "stdout",
     "output_type": "stream",
     "text": [
      "pakistan is my strength\n"
     ]
    }
   ],
   "source": [
    "print (a.casefold ())"
   ]
  },
  {
   "cell_type": "code",
   "execution_count": 96,
   "id": "db7e5fe6",
   "metadata": {},
   "outputs": [
    {
     "name": "stdout",
     "output_type": "stream",
     "text": [
      "             Pakistan is mY StrenGth              \n"
     ]
    }
   ],
   "source": [
    "print (a.center(50))"
   ]
  },
  {
   "cell_type": "code",
   "execution_count": 102,
   "id": "d5903b50",
   "metadata": {},
   "outputs": [
    {
     "name": "stdout",
     "output_type": "stream",
     "text": [
      "2\n",
      "24\n"
     ]
    }
   ],
   "source": [
    "print (a.count('a'))\n",
    "print (a.count (''))"
   ]
  },
  {
   "cell_type": "code",
   "execution_count": 99,
   "id": "496a1759",
   "metadata": {},
   "outputs": [
    {
     "name": "stdout",
     "output_type": "stream",
     "text": [
      "b'Pakistan is mY StrenGth'\n"
     ]
    }
   ],
   "source": [
    "print (a.encode())"
   ]
  },
  {
   "cell_type": "code",
   "execution_count": 107,
   "id": "e1433dbc",
   "metadata": {},
   "outputs": [
    {
     "name": "stdout",
     "output_type": "stream",
     "text": [
      "This is my Turn \n",
      "      This is my Turn\n",
      "This is my Turn\n"
     ]
    }
   ],
   "source": [
    "a = \"      This is my Turn \"\n",
    "print (a.lstrip ())\n",
    "print (a.rstrip ())\n",
    "print (a.strip ())"
   ]
  },
  {
   "cell_type": "code",
   "execution_count": 113,
   "id": "b311672d",
   "metadata": {},
   "outputs": [
    {
     "name": "stdout",
     "output_type": "stream",
     "text": [
      "THIS IS MY TURN\n",
      "False\n",
      "False\n",
      "True\n"
     ]
    }
   ],
   "source": [
    "a = \"This is my Turn\" .upper ()\n",
    "print (a)\n",
    "print (a.endswith ('bad'))\n",
    "print (a.endswith ('Turn'))\n",
    "print (a.endswith ('TURN'))"
   ]
  },
  {
   "cell_type": "code",
   "execution_count": 114,
   "id": "6c8d3c31",
   "metadata": {},
   "outputs": [
    {
     "name": "stdout",
     "output_type": "stream",
     "text": [
      "THIS IS MY TURN\n",
      "False\n",
      "True\n"
     ]
    }
   ],
   "source": [
    "a = \"This is my Turn\" .upper ()\n",
    "print (a)\n",
    "print (a.startswith ('This'))\n",
    "print (a.startswith ('THIS'))"
   ]
  },
  {
   "cell_type": "code",
   "execution_count": 118,
   "id": "40f1751e",
   "metadata": {},
   "outputs": [
    {
     "name": "stdout",
     "output_type": "stream",
     "text": [
      " Name: \t Shahzad\n",
      "\n",
      "Class: \t PGD\n",
      "\n",
      " Name:     Shahzad\n",
      "\n",
      "Class:     PGD\n",
      "\n"
     ]
    }
   ],
   "source": [
    "card = \"\"\" Name: \\t Shahzad\n",
    "\n",
    "Class: \\t PGD\n",
    "\"\"\"\n",
    "\n",
    "print (card)\n",
    "print(card.expandtabs (5))"
   ]
  },
  {
   "cell_type": "code",
   "execution_count": null,
   "id": "deccb055",
   "metadata": {},
   "outputs": [],
   "source": []
  }
 ],
 "metadata": {
  "kernelspec": {
   "display_name": "Python 3 (ipykernel)",
   "language": "python",
   "name": "python3"
  },
  "language_info": {
   "codemirror_mode": {
    "name": "ipython",
    "version": 3
   },
   "file_extension": ".py",
   "mimetype": "text/x-python",
   "name": "python",
   "nbconvert_exporter": "python",
   "pygments_lexer": "ipython3",
   "version": "3.9.7"
  }
 },
 "nbformat": 4,
 "nbformat_minor": 5
}
